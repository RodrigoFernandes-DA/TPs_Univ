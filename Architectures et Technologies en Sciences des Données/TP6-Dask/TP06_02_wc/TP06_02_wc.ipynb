{
 "cells": [
  {
   "cell_type": "code",
   "execution_count": 1,
   "id": "f34a40c8-db47-49be-801d-e37ff5bcd8c0",
   "metadata": {},
   "outputs": [
    {
     "name": "stderr",
     "output_type": "stream",
     "text": [
      "/usr/local/lib/python3.10/dist-packages/matplotlib/projections/__init__.py:63: UserWarning: Unable to import Axes3D. This may be due to multiple versions of Matplotlib being installed (e.g. as a system package and as a pip package). As a result, the 3D projection is not available.\n",
      "  warnings.warn(\"Unable to import Axes3D. This may be due to multiple versions of \"\n"
     ]
    }
   ],
   "source": [
    "import pandas as pd\n",
    "import time\n",
    "import matplotlib.pyplot as plt"
   ]
  },
  {
   "cell_type": "code",
   "execution_count": 2,
   "id": "9f8280f0-13bf-4f9a-ae96-6ef7fc4a367d",
   "metadata": {},
   "outputs": [
    {
     "data": {
      "text/html": [
       "<div>\n",
       "<style scoped>\n",
       "    .dataframe tbody tr th:only-of-type {\n",
       "        vertical-align: middle;\n",
       "    }\n",
       "\n",
       "    .dataframe tbody tr th {\n",
       "        vertical-align: top;\n",
       "    }\n",
       "\n",
       "    .dataframe thead th {\n",
       "        text-align: right;\n",
       "    }\n",
       "</style>\n",
       "<table border=\"1\" class=\"dataframe\">\n",
       "  <thead>\n",
       "    <tr style=\"text-align: right;\">\n",
       "      <th></th>\n",
       "      <th>0</th>\n",
       "    </tr>\n",
       "  </thead>\n",
       "  <tbody>\n",
       "    <tr>\n",
       "      <th>0</th>\n",
       "      <td>word count from Wikipedia the free encyclopedia</td>\n",
       "    </tr>\n",
       "    <tr>\n",
       "      <th>1</th>\n",
       "      <td>the word count is the number of words in a doc...</td>\n",
       "    </tr>\n",
       "    <tr>\n",
       "      <th>2</th>\n",
       "      <td>is required to stay within certain numbers of ...</td>\n",
       "    </tr>\n",
       "    <tr>\n",
       "      <th>3</th>\n",
       "      <td>proceedings journalism and advertising Word co...</td>\n",
       "    </tr>\n",
       "    <tr>\n",
       "      <th>4</th>\n",
       "      <td>the translation job Word counts may also be us...</td>\n",
       "    </tr>\n",
       "  </tbody>\n",
       "</table>\n",
       "</div>"
      ],
      "text/plain": [
       "                                                   0\n",
       "0    word count from Wikipedia the free encyclopedia\n",
       "1  the word count is the number of words in a doc...\n",
       "2  is required to stay within certain numbers of ...\n",
       "3  proceedings journalism and advertising Word co...\n",
       "4  the translation job Word counts may also be us..."
      ]
     },
     "execution_count": 2,
     "metadata": {},
     "output_type": "execute_result"
    }
   ],
   "source": [
    "file_path = \"./data/wordcount0.txt\"\n",
    "\n",
    "# each entry contains a text row\n",
    "df = pd.read_csv(file_path, header=None)\n",
    "df.head()"
   ]
  },
  {
   "cell_type": "code",
   "execution_count": 3,
   "id": "8d2e1bca-6671-42ec-a6ea-2e954582ca8f",
   "metadata": {
    "tags": []
   },
   "outputs": [
    {
     "name": "stdout",
     "output_type": "stream",
     "text": [
      "CPU times: user 3.62 ms, sys: 0 ns, total: 3.62 ms\n",
      "Wall time: 3.36 ms\n"
     ]
    }
   ],
   "source": [
    "%%time \n",
    "wc_df = (\n",
    "    df[0]\n",
    "    .str\n",
    "    .split(expand=True) # splits row around ' ' separator and expand into columns\n",
    "    .stack() # stack columns vertically -> each entry contains a single word\n",
    "    .value_counts()\n",
    "    .reset_index()\n",
    ")"
   ]
  },
  {
   "cell_type": "code",
   "execution_count": 4,
   "id": "30f989a5-ff54-4a97-998d-3224c795747f",
   "metadata": {},
   "outputs": [
    {
     "data": {
      "text/html": [
       "<div>\n",
       "<style scoped>\n",
       "    .dataframe tbody tr th:only-of-type {\n",
       "        vertical-align: middle;\n",
       "    }\n",
       "\n",
       "    .dataframe tbody tr th {\n",
       "        vertical-align: top;\n",
       "    }\n",
       "\n",
       "    .dataframe thead th {\n",
       "        text-align: right;\n",
       "    }\n",
       "</style>\n",
       "<table border=\"1\" class=\"dataframe\">\n",
       "  <thead>\n",
       "    <tr style=\"text-align: right;\">\n",
       "      <th></th>\n",
       "      <th>index</th>\n",
       "      <th>count</th>\n",
       "    </tr>\n",
       "  </thead>\n",
       "  <tbody>\n",
       "    <tr>\n",
       "      <th>0</th>\n",
       "      <td>the</td>\n",
       "      <td>38</td>\n",
       "    </tr>\n",
       "    <tr>\n",
       "      <th>1</th>\n",
       "      <td>a</td>\n",
       "      <td>28</td>\n",
       "    </tr>\n",
       "    <tr>\n",
       "      <th>2</th>\n",
       "      <td>of</td>\n",
       "      <td>25</td>\n",
       "    </tr>\n",
       "    <tr>\n",
       "      <th>3</th>\n",
       "      <td>word</td>\n",
       "      <td>24</td>\n",
       "    </tr>\n",
       "    <tr>\n",
       "      <th>4</th>\n",
       "      <td>and</td>\n",
       "      <td>23</td>\n",
       "    </tr>\n",
       "  </tbody>\n",
       "</table>\n",
       "</div>"
      ],
      "text/plain": [
       "  index  count\n",
       "0   the     38\n",
       "1     a     28\n",
       "2    of     25\n",
       "3  word     24\n",
       "4   and     23"
      ]
     },
     "execution_count": 4,
     "metadata": {},
     "output_type": "execute_result"
    }
   ],
   "source": [
    "wc_df.head()"
   ]
  },
  {
   "cell_type": "markdown",
   "id": "829409b9-4bf6-440d-a2d9-84c066444e5b",
   "metadata": {},
   "source": [
    "## Do the same with `dask.dataframe`"
   ]
  },
  {
   "cell_type": "code",
   "execution_count": 5,
   "id": "97283bbe-3df3-4732-a736-cf1050c91a66",
   "metadata": {},
   "outputs": [],
   "source": [
    "from dask.distributed import Client\n",
    "client = Client() # run on localhost"
   ]
  },
  {
   "cell_type": "code",
   "execution_count": 6,
   "id": "254f6a17",
   "metadata": {},
   "outputs": [
    {
     "data": {
      "text/html": [
       "<div>\n",
       "<style scoped>\n",
       "    .dataframe tbody tr th:only-of-type {\n",
       "        vertical-align: middle;\n",
       "    }\n",
       "\n",
       "    .dataframe tbody tr th {\n",
       "        vertical-align: top;\n",
       "    }\n",
       "\n",
       "    .dataframe thead th {\n",
       "        text-align: right;\n",
       "    }\n",
       "</style>\n",
       "<table border=\"1\" class=\"dataframe\">\n",
       "  <thead>\n",
       "    <tr style=\"text-align: right;\">\n",
       "      <th></th>\n",
       "      <th>0</th>\n",
       "    </tr>\n",
       "  </thead>\n",
       "  <tbody>\n",
       "    <tr>\n",
       "      <th>0</th>\n",
       "      <td>word count from Wikipedia the free encyclopedia</td>\n",
       "    </tr>\n",
       "    <tr>\n",
       "      <th>1</th>\n",
       "      <td>the word count is the number of words in a doc...</td>\n",
       "    </tr>\n",
       "    <tr>\n",
       "      <th>2</th>\n",
       "      <td>is required to stay within certain numbers of ...</td>\n",
       "    </tr>\n",
       "    <tr>\n",
       "      <th>3</th>\n",
       "      <td>proceedings journalism and advertising Word co...</td>\n",
       "    </tr>\n",
       "    <tr>\n",
       "      <th>4</th>\n",
       "      <td>the translation job Word counts may also be us...</td>\n",
       "    </tr>\n",
       "  </tbody>\n",
       "</table>\n",
       "</div>"
      ],
      "text/plain": [
       "                                                   0\n",
       "0    word count from Wikipedia the free encyclopedia\n",
       "1  the word count is the number of words in a doc...\n",
       "2  is required to stay within certain numbers of ...\n",
       "3  proceedings journalism and advertising Word co...\n",
       "4  the translation job Word counts may also be us..."
      ]
     },
     "execution_count": 6,
     "metadata": {},
     "output_type": "execute_result"
    }
   ],
   "source": [
    "import dask.dataframe as dd\n",
    "\n",
    "df_dd = dd.read_csv(file_path, header=None)\n",
    "df_dd.head()"
   ]
  },
  {
   "cell_type": "code",
   "execution_count": 7,
   "id": "d59d4404",
   "metadata": {},
   "outputs": [
    {
     "name": "stdout",
     "output_type": "stream",
     "text": [
      "CPU times: user 2.69 ms, sys: 0 ns, total: 2.69 ms\n",
      "Wall time: 2.39 ms\n"
     ]
    }
   ],
   "source": [
    "%%time \n",
    "wc_df_dd = (\n",
    "    df_dd[0]\n",
    "    .str\n",
    "    .split()\n",
    "    .explode()\n",
    "    .value_counts()\n",
    "    .reset_index()\n",
    ")"
   ]
  },
  {
   "cell_type": "code",
   "execution_count": 8,
   "id": "e637a0a8",
   "metadata": {},
   "outputs": [
    {
     "name": "stderr",
     "output_type": "stream",
     "text": [
      "/home/UR/coelhrod/.local/lib/python3.10/site-packages/dask/dataframe/methods.py:364: FutureWarning: Series.__getitem__ treating keys as positions is deprecated. In a future version, integer keys will always be treated as labels (consistent with DataFrame behavior). To access a value by position, use `ser.iloc[pos]`\n",
      "  return x.groupby(level=0, **groupby_kwargs).sum()\n",
      "/home/UR/coelhrod/.local/lib/python3.10/site-packages/dask/dataframe/methods.py:364: FutureWarning: Series.__getitem__ treating keys as positions is deprecated. In a future version, integer keys will always be treated as labels (consistent with DataFrame behavior). To access a value by position, use `ser.iloc[pos]`\n",
      "  return x.groupby(level=0, **groupby_kwargs).sum()\n",
      "/home/UR/coelhrod/.local/lib/python3.10/site-packages/dask/utils.py:772: UserWarning: The DataFrame has non-str index name `[np.int64(0)]` which will be converted to string and not roundtrip correctly.\n",
      "  return meth(arg, *args, **kwargs)\n"
     ]
    },
    {
     "name": "stderr",
     "output_type": "stream",
     "text": [
      "2025-02-26 11:27:39,883 - distributed.shuffle._scheduler_plugin - WARNING - Shuffle 6d2a2285a25eee78fa78da17e798500f initialized by task ('shuffle-transfer-6d2a2285a25eee78fa78da17e798500f', 0) executed on worker tcp://127.0.0.1:35445\n",
      "2025-02-26 11:27:39,910 - distributed.shuffle._scheduler_plugin - WARNING - Shuffle 6d2a2285a25eee78fa78da17e798500f deactivated due to stimulus 'task-finished-1740565659.909282'\n",
      "2025-02-26 11:27:40,198 - distributed.shuffle._scheduler_plugin - WARNING - Shuffle 6d2a2285a25eee78fa78da17e798500f initialized by task ('shuffle-transfer-6d2a2285a25eee78fa78da17e798500f', 0) executed on worker tcp://127.0.0.1:35445\n",
      "2025-02-26 11:27:40,974 - distributed.shuffle._scheduler_plugin - WARNING - Shuffle 6d2a2285a25eee78fa78da17e798500f deactivated due to stimulus 'task-finished-1740565660.9738228'\n",
      "2025-02-26 11:27:46,165 - distributed.shuffle._scheduler_plugin - WARNING - Shuffle 646529d16690c2a32a0bee66b2c8a9ed initialized by task ('shuffle-transfer-646529d16690c2a32a0bee66b2c8a9ed', 0) executed on worker tcp://127.0.0.1:35445\n",
      "2025-02-26 11:27:46,747 - distributed.shuffle._scheduler_plugin - WARNING - Shuffle 646529d16690c2a32a0bee66b2c8a9ed deactivated due to stimulus 'task-finished-1740565666.7458189'\n",
      "2025-02-26 11:27:53,197 - distributed.shuffle._scheduler_plugin - WARNING - Shuffle 334c45b48b36afb76318b76c12afb469 initialized by task ('shuffle-transfer-334c45b48b36afb76318b76c12afb469', 0) executed on worker tcp://127.0.0.1:39005\n",
      "2025-02-26 11:27:56,537 - distributed.shuffle._scheduler_plugin - WARNING - Shuffle 334c45b48b36afb76318b76c12afb469 deactivated due to stimulus 'task-finished-1740565676.5360372'\n"
     ]
    },
    {
     "data": {
      "text/html": [
       "<div>\n",
       "<style scoped>\n",
       "    .dataframe tbody tr th:only-of-type {\n",
       "        vertical-align: middle;\n",
       "    }\n",
       "\n",
       "    .dataframe tbody tr th {\n",
       "        vertical-align: top;\n",
       "    }\n",
       "\n",
       "    .dataframe thead th {\n",
       "        text-align: right;\n",
       "    }\n",
       "</style>\n",
       "<table border=\"1\" class=\"dataframe\">\n",
       "  <thead>\n",
       "    <tr style=\"text-align: right;\">\n",
       "      <th></th>\n",
       "      <th>0</th>\n",
       "      <th>count</th>\n",
       "    </tr>\n",
       "  </thead>\n",
       "  <tbody>\n",
       "    <tr>\n",
       "      <th>324</th>\n",
       "      <td>the</td>\n",
       "      <td>38</td>\n",
       "    </tr>\n",
       "    <tr>\n",
       "      <th>50</th>\n",
       "      <td>a</td>\n",
       "      <td>28</td>\n",
       "    </tr>\n",
       "    <tr>\n",
       "      <th>245</th>\n",
       "      <td>of</td>\n",
       "      <td>25</td>\n",
       "    </tr>\n",
       "    <tr>\n",
       "      <th>376</th>\n",
       "      <td>word</td>\n",
       "      <td>24</td>\n",
       "    </tr>\n",
       "    <tr>\n",
       "      <th>66</th>\n",
       "      <td>and</td>\n",
       "      <td>23</td>\n",
       "    </tr>\n",
       "  </tbody>\n",
       "</table>\n",
       "</div>"
      ],
      "text/plain": [
       "        0  count\n",
       "324   the     38\n",
       "50      a     28\n",
       "245    of     25\n",
       "376  word     24\n",
       "66    and     23"
      ]
     },
     "execution_count": 8,
     "metadata": {},
     "output_type": "execute_result"
    }
   ],
   "source": [
    "wc_df_dd.compute().sort_values(['count'], ascending=[False]).head()"
   ]
  },
  {
   "cell_type": "code",
   "execution_count": 9,
   "id": "0939fe4c",
   "metadata": {},
   "outputs": [
    {
     "data": {
      "text/html": [
       "<div><strong>Dask DataFrame Structure:</strong></div>\n",
       "<table border=\"1\" class=\"dataframe\">\n",
       "  <thead>\n",
       "    <tr style=\"text-align: right;\">\n",
       "      <th></th>\n",
       "      <th>0</th>\n",
       "      <th>count</th>\n",
       "    </tr>\n",
       "    <tr>\n",
       "      <th>npartitions=1</th>\n",
       "      <th></th>\n",
       "      <th></th>\n",
       "    </tr>\n",
       "  </thead>\n",
       "  <tbody>\n",
       "    <tr>\n",
       "      <th></th>\n",
       "      <td>object</td>\n",
       "      <td>int64</td>\n",
       "    </tr>\n",
       "    <tr>\n",
       "      <th></th>\n",
       "      <td>...</td>\n",
       "      <td>...</td>\n",
       "    </tr>\n",
       "  </tbody>\n",
       "</table>\n",
       "<div>Dask Name: reset_index, 7 expressions</div>"
      ],
      "text/plain": [
       "Dask DataFrame Structure:\n",
       "                    0  count\n",
       "npartitions=1               \n",
       "               object  int64\n",
       "                  ...    ...\n",
       "Dask Name: reset_index, 7 expressions\n",
       "Expr=ResetIndex(frame=(ExplodeSeries(frame=FunctionMap(frame=ArrowStringConversion(frame=FromMapProjectable(f25f01f))[0], accessor='str', attr='split', args=(), kwargs={'pat': None, 'n': -1, 'expand': False}))).valuecounts(split_out=True))"
      ]
     },
     "execution_count": 9,
     "metadata": {},
     "output_type": "execute_result"
    }
   ],
   "source": [
    "wc_df_dd"
   ]
  },
  {
   "cell_type": "markdown",
   "id": "07bf1e7e",
   "metadata": {},
   "source": [
    "Only one partition, because it is a small dataset"
   ]
  },
  {
   "cell_type": "code",
   "execution_count": 10,
   "id": "c436be0c",
   "metadata": {},
   "outputs": [
    {
     "data": {
      "image/svg+xml": [
       "<?xml version=\"1.0\" encoding=\"UTF-8\" standalone=\"no\"?>\n",
       "<!DOCTYPE svg PUBLIC \"-//W3C//DTD SVG 1.1//EN\"\n",
       " \"http://www.w3.org/Graphics/SVG/1.1/DTD/svg11.dtd\">\n",
       "<!-- Generated by graphviz version 2.43.0 (0)\n",
       " -->\n",
       "<!-- Title: %3 Pages: 1 -->\n",
       "<svg width=\"469pt\" height=\"476pt\"\n",
       " viewBox=\"0.00 0.00 469.00 476.00\" xmlns=\"http://www.w3.org/2000/svg\" xmlns:xlink=\"http://www.w3.org/1999/xlink\">\n",
       "<g id=\"graph0\" class=\"graph\" transform=\"scale(1 1) rotate(0) translate(4 472)\">\n",
       "<title>%3</title>\n",
       "<polygon fill=\"white\" stroke=\"transparent\" points=\"-4,4 -4,-472 465,-472 465,4 -4,4\"/>\n",
       "<!-- 7753398103392752315 -->\n",
       "<g id=\"node1\" class=\"node\">\n",
       "<title>7753398103392752315</title>\n",
       "<polygon fill=\"none\" stroke=\"black\" points=\"363.5,-468 97.5,-468 97.5,-432 363.5,-432 363.5,-468\"/>\n",
       "<text text-anchor=\"middle\" x=\"230.5\" y=\"-445\" font-family=\"Helvetica,sans-Serif\" font-size=\"20.00\">ResetIndex(ValueCounts)</text>\n",
       "</g>\n",
       "<!-- &#45;4559845858268287729 -->\n",
       "<g id=\"node2\" class=\"node\">\n",
       "<title>&#45;4559845858268287729</title>\n",
       "<polygon fill=\"none\" stroke=\"black\" points=\"378.5,-396 82.5,-396 82.5,-360 378.5,-360 378.5,-396\"/>\n",
       "<text text-anchor=\"middle\" x=\"230.5\" y=\"-373\" font-family=\"Helvetica,sans-Serif\" font-size=\"20.00\">ValueCounts(ExplodeSeries)</text>\n",
       "</g>\n",
       "<!-- &#45;4559845858268287729&#45;&gt;7753398103392752315 -->\n",
       "<g id=\"edge1\" class=\"edge\">\n",
       "<title>&#45;4559845858268287729&#45;&gt;7753398103392752315</title>\n",
       "<path fill=\"none\" stroke=\"black\" d=\"M230.5,-396.3C230.5,-404.02 230.5,-413.29 230.5,-421.89\"/>\n",
       "<polygon fill=\"black\" stroke=\"black\" points=\"227,-421.9 230.5,-431.9 234,-421.9 227,-421.9\"/>\n",
       "</g>\n",
       "<!-- &#45;691667406347337673 -->\n",
       "<g id=\"node3\" class=\"node\">\n",
       "<title>&#45;691667406347337673</title>\n",
       "<polygon fill=\"none\" stroke=\"black\" points=\"380,-324 81,-324 81,-288 380,-288 380,-324\"/>\n",
       "<text text-anchor=\"middle\" x=\"230.5\" y=\"-301\" font-family=\"Helvetica,sans-Serif\" font-size=\"20.00\">ExplodeSeries(FunctionMap)</text>\n",
       "</g>\n",
       "<!-- &#45;691667406347337673&#45;&gt;&#45;4559845858268287729 -->\n",
       "<g id=\"edge2\" class=\"edge\">\n",
       "<title>&#45;691667406347337673&#45;&gt;&#45;4559845858268287729</title>\n",
       "<path fill=\"none\" stroke=\"black\" d=\"M230.5,-324.3C230.5,-332.02 230.5,-341.29 230.5,-349.89\"/>\n",
       "<polygon fill=\"black\" stroke=\"black\" points=\"227,-349.9 230.5,-359.9 234,-349.9 227,-349.9\"/>\n",
       "</g>\n",
       "<!-- 4592002326145743393 -->\n",
       "<g id=\"node4\" class=\"node\">\n",
       "<title>4592002326145743393</title>\n",
       "<polygon fill=\"none\" stroke=\"black\" points=\"358.5,-252 102.5,-252 102.5,-216 358.5,-216 358.5,-252\"/>\n",
       "<text text-anchor=\"middle\" x=\"230.5\" y=\"-229\" font-family=\"Helvetica,sans-Serif\" font-size=\"20.00\">FunctionMap(Projection)</text>\n",
       "</g>\n",
       "<!-- 4592002326145743393&#45;&gt;&#45;691667406347337673 -->\n",
       "<g id=\"edge3\" class=\"edge\">\n",
       "<title>4592002326145743393&#45;&gt;&#45;691667406347337673</title>\n",
       "<path fill=\"none\" stroke=\"black\" d=\"M230.5,-252.3C230.5,-260.02 230.5,-269.29 230.5,-277.89\"/>\n",
       "<polygon fill=\"black\" stroke=\"black\" points=\"227,-277.9 230.5,-287.9 234,-277.9 227,-277.9\"/>\n",
       "</g>\n",
       "<!-- &#45;2148738013355902760 -->\n",
       "<g id=\"node5\" class=\"node\">\n",
       "<title>&#45;2148738013355902760</title>\n",
       "<polygon fill=\"none\" stroke=\"black\" points=\"422,-180 39,-180 39,-144 422,-144 422,-180\"/>\n",
       "<text text-anchor=\"middle\" x=\"230.5\" y=\"-157\" font-family=\"Helvetica,sans-Serif\" font-size=\"20.00\">Projection(ArrowStringConversion, 0)</text>\n",
       "</g>\n",
       "<!-- &#45;2148738013355902760&#45;&gt;4592002326145743393 -->\n",
       "<g id=\"edge4\" class=\"edge\">\n",
       "<title>&#45;2148738013355902760&#45;&gt;4592002326145743393</title>\n",
       "<path fill=\"none\" stroke=\"black\" d=\"M230.5,-180.3C230.5,-188.02 230.5,-197.29 230.5,-205.89\"/>\n",
       "<polygon fill=\"black\" stroke=\"black\" points=\"227,-205.9 230.5,-215.9 234,-205.9 227,-205.9\"/>\n",
       "</g>\n",
       "<!-- &#45;4650180638445883636 -->\n",
       "<g id=\"node6\" class=\"node\">\n",
       "<title>&#45;4650180638445883636</title>\n",
       "<polygon fill=\"none\" stroke=\"black\" points=\"461,-108 0,-108 0,-72 461,-72 461,-108\"/>\n",
       "<text text-anchor=\"middle\" x=\"230.5\" y=\"-85\" font-family=\"Helvetica,sans-Serif\" font-size=\"20.00\">ArrowStringConversion(FromMapProjectable)</text>\n",
       "</g>\n",
       "<!-- &#45;4650180638445883636&#45;&gt;&#45;2148738013355902760 -->\n",
       "<g id=\"edge5\" class=\"edge\">\n",
       "<title>&#45;4650180638445883636&#45;&gt;&#45;2148738013355902760</title>\n",
       "<path fill=\"none\" stroke=\"black\" d=\"M230.5,-108.3C230.5,-116.02 230.5,-125.29 230.5,-133.89\"/>\n",
       "<polygon fill=\"black\" stroke=\"black\" points=\"227,-133.9 230.5,-143.9 234,-133.9 227,-133.9\"/>\n",
       "</g>\n",
       "<!-- &#45;8019495123783509343 -->\n",
       "<g id=\"node7\" class=\"node\">\n",
       "<title>&#45;8019495123783509343</title>\n",
       "<polygon fill=\"none\" stroke=\"black\" points=\"339.5,-36 121.5,-36 121.5,0 339.5,0 339.5,-36\"/>\n",
       "<text text-anchor=\"middle\" x=\"230.5\" y=\"-13\" font-family=\"Helvetica,sans-Serif\" font-size=\"20.00\">FromMapProjectable</text>\n",
       "</g>\n",
       "<!-- &#45;8019495123783509343&#45;&gt;&#45;4650180638445883636 -->\n",
       "<g id=\"edge6\" class=\"edge\">\n",
       "<title>&#45;8019495123783509343&#45;&gt;&#45;4650180638445883636</title>\n",
       "<path fill=\"none\" stroke=\"black\" d=\"M230.5,-36.3C230.5,-44.02 230.5,-53.29 230.5,-61.89\"/>\n",
       "<polygon fill=\"black\" stroke=\"black\" points=\"227,-61.9 230.5,-71.9 234,-61.9 227,-61.9\"/>\n",
       "</g>\n",
       "</g>\n",
       "</svg>\n"
      ],
      "text/plain": [
       "<graphviz.graphs.Digraph at 0x7d6565591c60>"
      ]
     },
     "execution_count": 10,
     "metadata": {},
     "output_type": "execute_result"
    }
   ],
   "source": [
    "wc_df_dd.visualize()"
   ]
  },
  {
   "cell_type": "markdown",
   "id": "8ffdf703",
   "metadata": {},
   "source": [
    "## Évaluer le temps de restitution pour les fichiers wordcount0.txt and wordcount1.txt"
   ]
  },
  {
   "cell_type": "code",
   "execution_count": 11,
   "id": "8253c917",
   "metadata": {},
   "outputs": [
    {
     "name": "stderr",
     "output_type": "stream",
     "text": [
      "/home/UR/coelhrod/.local/lib/python3.10/site-packages/dask/dataframe/methods.py:364: FutureWarning: Series.__getitem__ treating keys as positions is deprecated. In a future version, integer keys will always be treated as labels (consistent with DataFrame behavior). To access a value by position, use `ser.iloc[pos]`\n",
      "  return x.groupby(level=0, **groupby_kwargs).sum()\n",
      "/home/UR/coelhrod/.local/lib/python3.10/site-packages/dask/dataframe/methods.py:364: FutureWarning: Series.__getitem__ treating keys as positions is deprecated. In a future version, integer keys will always be treated as labels (consistent with DataFrame behavior). To access a value by position, use `ser.iloc[pos]`\n",
      "  return x.groupby(level=0, **groupby_kwargs).sum()\n"
     ]
    },
    {
     "name": "stdout",
     "output_type": "stream",
     "text": [
      "\n",
      "==== ./data/wordcount0.txt ====\n",
      "Pandas:\n",
      "   index  count\n",
      "0   the     38\n",
      "1     a     28\n",
      "2    of     25\n",
      "3  word     24\n",
      "4   and     23\n"
     ]
    },
    {
     "name": "stderr",
     "output_type": "stream",
     "text": [
      "/home/UR/coelhrod/.local/lib/python3.10/site-packages/dask/utils.py:772: UserWarning: The DataFrame has non-str index name `[np.int64(0)]` which will be converted to string and not roundtrip correctly.\n",
      "  return meth(arg, *args, **kwargs)\n"
     ]
    },
    {
     "name": "stdout",
     "output_type": "stream",
     "text": [
      "Dask:\n",
      "         0  count\n",
      "324   the     38\n",
      "50      a     28\n",
      "245    of     25\n",
      "376  word     24\n",
      "66    and     23\n",
      "\n",
      "==== ./data/wordcount1.txt ====\n",
      "Pandas:\n",
      "   index   count\n",
      "0   the  372438\n",
      "1     a  274428\n",
      "2    of  245025\n",
      "3  word  235224\n",
      "4   and  225423\n"
     ]
    },
    {
     "name": "stderr",
     "output_type": "stream",
     "text": [
      "/home/UR/coelhrod/.local/lib/python3.10/site-packages/dask/dataframe/methods.py:364: FutureWarning: Series.__getitem__ treating keys as positions is deprecated. In a future version, integer keys will always be treated as labels (consistent with DataFrame behavior). To access a value by position, use `ser.iloc[pos]`\n",
      "  return x.groupby(level=0, **groupby_kwargs).sum()\n",
      "/home/UR/coelhrod/.local/lib/python3.10/site-packages/dask/dataframe/methods.py:364: FutureWarning: Series.__getitem__ treating keys as positions is deprecated. In a future version, integer keys will always be treated as labels (consistent with DataFrame behavior). To access a value by position, use `ser.iloc[pos]`\n",
      "  return x.groupby(level=0, **groupby_kwargs).sum()\n",
      "/home/UR/coelhrod/.local/lib/python3.10/site-packages/dask/utils.py:772: UserWarning: The DataFrame has non-str index name `[np.int64(0)]` which will be converted to string and not roundtrip correctly.\n",
      "  return meth(arg, *args, **kwargs)\n",
      "/home/UR/coelhrod/.local/lib/python3.10/site-packages/dask/dataframe/methods.py:364: FutureWarning: Series.__getitem__ treating keys as positions is deprecated. In a future version, integer keys will always be treated as labels (consistent with DataFrame behavior). To access a value by position, use `ser.iloc[pos]`\n",
      "  return x.groupby(level=0, **groupby_kwargs).sum()\n"
     ]
    },
    {
     "name": "stdout",
     "output_type": "stream",
     "text": [
      "Dask:\n",
      "         0   count\n",
      "324   the  372438\n",
      "50      a  274428\n",
      "245    of  245025\n",
      "376  word  235224\n",
      "66    and  225423\n",
      "\n",
      "==== ./data/wordcount2.txt ====\n"
     ]
    },
    {
     "name": "stderr",
     "output_type": "stream",
     "text": [
      "/home/UR/coelhrod/.local/lib/python3.10/site-packages/dask/utils.py:772: UserWarning: The DataFrame has non-str index name `[np.int64(0)]` which will be converted to string and not roundtrip correctly.\n",
      "  return meth(arg, *args, **kwargs)\n",
      "/home/UR/coelhrod/.local/lib/python3.10/site-packages/dask/utils.py:772: UserWarning: The DataFrame has non-str index name `[np.int64(0)]` which will be converted to string and not roundtrip correctly.\n",
      "  return meth(arg, *args, **kwargs)\n",
      "/home/UR/coelhrod/.local/lib/python3.10/site-packages/dask/utils.py:772: UserWarning: The DataFrame has non-str index name `[np.int64(0)]` which will be converted to string and not roundtrip correctly.\n",
      "  return meth(arg, *args, **kwargs)\n",
      "/home/UR/coelhrod/.local/lib/python3.10/site-packages/dask/utils.py:772: UserWarning: The DataFrame has non-str index name `[np.int64(0)]` which will be converted to string and not roundtrip correctly.\n",
      "  return meth(arg, *args, **kwargs)\n",
      "/home/UR/coelhrod/.local/lib/python3.10/site-packages/dask/utils.py:772: UserWarning: The DataFrame has non-str index name `[np.int64(0)]` which will be converted to string and not roundtrip correctly.\n",
      "  return meth(arg, *args, **kwargs)\n"
     ]
    },
    {
     "name": "stdout",
     "output_type": "stream",
     "text": [
      "Dask:\n",
      "        0    count\n",
      "59   the  3351942\n",
      "6      a  2469852\n",
      "43    of  2205225\n",
      "70  word  2117016\n",
      "8    and  2028807\n"
     ]
    }
   ],
   "source": [
    "filepaths = [\"./data/wordcount0.txt\", \"./data/wordcount1.txt\", \"./data/wordcount2.txt\"]\n",
    "pd_times = []\n",
    "dd_times = []\n",
    "\n",
    "for f in filepaths:\n",
    "    print(\"\\n====\",f,\"====\")\n",
    "    \n",
    "    if f != \"./data/wordcount2.txt\":\n",
    "        tic = time.time()\n",
    "        df = pd.read_csv(f, header=None)\n",
    "        wc_df = (\n",
    "            df[0]\n",
    "            .str\n",
    "            .split(expand=True) # splits row around ' ' separator and expand into columns\n",
    "            .stack() # stack columns vertically -> each entry contains a single word\n",
    "            .value_counts()\n",
    "            .reset_index()\n",
    "        )\n",
    "        print(\"Pandas:\\n\",wc_df.head())\n",
    "        toc = time.time()\n",
    "        pd_times.append(toc-tic)\n",
    "\n",
    "    # print(\"\\n\")\n",
    "    tic = time.time()\n",
    "    df_dd = dd.read_csv(f, header=None)\n",
    "    wc_df_dd = (\n",
    "        df_dd[0]\n",
    "        .str\n",
    "        .split()\n",
    "        .explode()\n",
    "        .value_counts()\n",
    "        .reset_index()\n",
    "    )\n",
    "    print(\"Dask:\\n\",wc_df_dd.compute().sort_values(['count'], ascending=[False]).head())\n",
    "    toc = time.time()\n",
    "    dd_times.append(toc-tic)\n",
    "    "
   ]
  },
  {
   "cell_type": "code",
   "execution_count": 13,
   "id": "6e8546e7",
   "metadata": {},
   "outputs": [
    {
     "data": {
      "image/png": "[encoded data removed]",
      "text/plain": [
       "<Figure size 1000x500 with 1 Axes>"
      ]
     },
     "metadata": {},
     "output_type": "display_data"
    }
   ],
   "source": [
    "plt.figure(figsize=(10, 5))\n",
    "plt.plot(range(len(filepaths)-1), pd_times, label='Numpy', marker='o')\n",
    "plt.plot(range(len(filepaths)), dd_times, label='Dask', marker='s')\n",
    "plt.xlabel('Sample')\n",
    "plt.ylabel('Execution Time (seconds)')\n",
    "plt.title('Comparison of Execution Times')\n",
    "plt.legend()\n",
    "plt.grid()\n",
    "plt.show()"
   ]
  },
  {
   "cell_type": "code",
   "execution_count": 14,
   "id": "a9c4b573",
   "metadata": {},
   "outputs": [
    {
     "data": {
      "text/html": [
       "<div><strong>Dask DataFrame Structure:</strong></div>\n",
       "<table border=\"1\" class=\"dataframe\">\n",
       "  <thead>\n",
       "    <tr style=\"text-align: right;\">\n",
       "      <th></th>\n",
       "      <th>0</th>\n",
       "      <th>count</th>\n",
       "    </tr>\n",
       "    <tr>\n",
       "      <th>npartitions=6</th>\n",
       "      <th></th>\n",
       "      <th></th>\n",
       "    </tr>\n",
       "  </thead>\n",
       "  <tbody>\n",
       "    <tr>\n",
       "      <th></th>\n",
       "      <td>object</td>\n",
       "      <td>int64</td>\n",
       "    </tr>\n",
       "    <tr>\n",
       "      <th></th>\n",
       "      <td>...</td>\n",
       "      <td>...</td>\n",
       "    </tr>\n",
       "    <tr>\n",
       "      <th>...</th>\n",
       "      <td>...</td>\n",
       "      <td>...</td>\n",
       "    </tr>\n",
       "    <tr>\n",
       "      <th></th>\n",
       "      <td>...</td>\n",
       "      <td>...</td>\n",
       "    </tr>\n",
       "    <tr>\n",
       "      <th></th>\n",
       "      <td>...</td>\n",
       "      <td>...</td>\n",
       "    </tr>\n",
       "  </tbody>\n",
       "</table>\n",
       "<div>Dask Name: reset_index, 7 expressions</div>"
      ],
      "text/plain": [
       "Dask DataFrame Structure:\n",
       "                    0  count\n",
       "npartitions=6               \n",
       "               object  int64\n",
       "                  ...    ...\n",
       "...               ...    ...\n",
       "                  ...    ...\n",
       "                  ...    ...\n",
       "Dask Name: reset_index, 7 expressions\n",
       "Expr=ResetIndex(frame=(ExplodeSeries(frame=FunctionMap(frame=ArrowStringConversion(frame=FromMapProjectable(c30e6ff))[0], accessor='str', attr='split', args=(), kwargs={'pat': None, 'n': -1, 'expand': False}))).valuecounts(split_out=True))"
      ]
     },
     "execution_count": 14,
     "metadata": {},
     "output_type": "execute_result"
    }
   ],
   "source": [
    "wc_df_dd"
   ]
  },
  {
   "cell_type": "code",
   "execution_count": 15,
   "id": "abcf0652",
   "metadata": {},
   "outputs": [
    {
     "data": {
      "image/svg+xml": [
       "<?xml version=\"1.0\" encoding=\"UTF-8\" standalone=\"no\"?>\n",
       "<!DOCTYPE svg PUBLIC \"-//W3C//DTD SVG 1.1//EN\"\n",
       " \"http://www.w3.org/Graphics/SVG/1.1/DTD/svg11.dtd\">\n",
       "<!-- Generated by graphviz version 2.43.0 (0)\n",
       " -->\n",
       "<!-- Title: %3 Pages: 1 -->\n",
       "<svg width=\"469pt\" height=\"476pt\"\n",
       " viewBox=\"0.00 0.00 469.00 476.00\" xmlns=\"http://www.w3.org/2000/svg\" xmlns:xlink=\"http://www.w3.org/1999/xlink\">\n",
       "<g id=\"graph0\" class=\"graph\" transform=\"scale(1 1) rotate(0) translate(4 472)\">\n",
       "<title>%3</title>\n",
       "<polygon fill=\"white\" stroke=\"transparent\" points=\"-4,4 -4,-472 465,-472 465,4 -4,4\"/>\n",
       "<!-- &#45;8595285657178963303 -->\n",
       "<g id=\"node1\" class=\"node\">\n",
       "<title>&#45;8595285657178963303</title>\n",
       "<polygon fill=\"none\" stroke=\"black\" points=\"363.5,-468 97.5,-468 97.5,-432 363.5,-432 363.5,-468\"/>\n",
       "<text text-anchor=\"middle\" x=\"230.5\" y=\"-445\" font-family=\"Helvetica,sans-Serif\" font-size=\"20.00\">ResetIndex(ValueCounts)</text>\n",
       "</g>\n",
       "<!-- 1197616520383357183 -->\n",
       "<g id=\"node2\" class=\"node\">\n",
       "<title>1197616520383357183</title>\n",
       "<polygon fill=\"none\" stroke=\"black\" points=\"378.5,-396 82.5,-396 82.5,-360 378.5,-360 378.5,-396\"/>\n",
       "<text text-anchor=\"middle\" x=\"230.5\" y=\"-373\" font-family=\"Helvetica,sans-Serif\" font-size=\"20.00\">ValueCounts(ExplodeSeries)</text>\n",
       "</g>\n",
       "<!-- 1197616520383357183&#45;&gt;&#45;8595285657178963303 -->\n",
       "<g id=\"edge1\" class=\"edge\">\n",
       "<title>1197616520383357183&#45;&gt;&#45;8595285657178963303</title>\n",
       "<path fill=\"none\" stroke=\"black\" d=\"M230.5,-396.3C230.5,-404.02 230.5,-413.29 230.5,-421.89\"/>\n",
       "<polygon fill=\"black\" stroke=\"black\" points=\"227,-421.9 230.5,-431.9 234,-421.9 227,-421.9\"/>\n",
       "</g>\n",
       "<!-- &#45;1091395950398752121 -->\n",
       "<g id=\"node3\" class=\"node\">\n",
       "<title>&#45;1091395950398752121</title>\n",
       "<polygon fill=\"none\" stroke=\"black\" points=\"380,-324 81,-324 81,-288 380,-288 380,-324\"/>\n",
       "<text text-anchor=\"middle\" x=\"230.5\" y=\"-301\" font-family=\"Helvetica,sans-Serif\" font-size=\"20.00\">ExplodeSeries(FunctionMap)</text>\n",
       "</g>\n",
       "<!-- &#45;1091395950398752121&#45;&gt;1197616520383357183 -->\n",
       "<g id=\"edge2\" class=\"edge\">\n",
       "<title>&#45;1091395950398752121&#45;&gt;1197616520383357183</title>\n",
       "<path fill=\"none\" stroke=\"black\" d=\"M230.5,-324.3C230.5,-332.02 230.5,-341.29 230.5,-349.89\"/>\n",
       "<polygon fill=\"black\" stroke=\"black\" points=\"227,-349.9 230.5,-359.9 234,-349.9 227,-349.9\"/>\n",
       "</g>\n",
       "<!-- 5669397046478202161 -->\n",
       "<g id=\"node4\" class=\"node\">\n",
       "<title>5669397046478202161</title>\n",
       "<polygon fill=\"none\" stroke=\"black\" points=\"358.5,-252 102.5,-252 102.5,-216 358.5,-216 358.5,-252\"/>\n",
       "<text text-anchor=\"middle\" x=\"230.5\" y=\"-229\" font-family=\"Helvetica,sans-Serif\" font-size=\"20.00\">FunctionMap(Projection)</text>\n",
       "</g>\n",
       "<!-- 5669397046478202161&#45;&gt;&#45;1091395950398752121 -->\n",
       "<g id=\"edge3\" class=\"edge\">\n",
       "<title>5669397046478202161&#45;&gt;&#45;1091395950398752121</title>\n",
       "<path fill=\"none\" stroke=\"black\" d=\"M230.5,-252.3C230.5,-260.02 230.5,-269.29 230.5,-277.89\"/>\n",
       "<polygon fill=\"black\" stroke=\"black\" points=\"227,-277.9 230.5,-287.9 234,-277.9 227,-277.9\"/>\n",
       "</g>\n",
       "<!-- 2533755087519404026 -->\n",
       "<g id=\"node5\" class=\"node\">\n",
       "<title>2533755087519404026</title>\n",
       "<polygon fill=\"none\" stroke=\"black\" points=\"422,-180 39,-180 39,-144 422,-144 422,-180\"/>\n",
       "<text text-anchor=\"middle\" x=\"230.5\" y=\"-157\" font-family=\"Helvetica,sans-Serif\" font-size=\"20.00\">Projection(ArrowStringConversion, 0)</text>\n",
       "</g>\n",
       "<!-- 2533755087519404026&#45;&gt;5669397046478202161 -->\n",
       "<g id=\"edge4\" class=\"edge\">\n",
       "<title>2533755087519404026&#45;&gt;5669397046478202161</title>\n",
       "<path fill=\"none\" stroke=\"black\" d=\"M230.5,-180.3C230.5,-188.02 230.5,-197.29 230.5,-205.89\"/>\n",
       "<polygon fill=\"black\" stroke=\"black\" points=\"227,-205.9 230.5,-215.9 234,-205.9 227,-205.9\"/>\n",
       "</g>\n",
       "<!-- 7661971230967276166 -->\n",
       "<g id=\"node6\" class=\"node\">\n",
       "<title>7661971230967276166</title>\n",
       "<polygon fill=\"none\" stroke=\"black\" points=\"461,-108 0,-108 0,-72 461,-72 461,-108\"/>\n",
       "<text text-anchor=\"middle\" x=\"230.5\" y=\"-85\" font-family=\"Helvetica,sans-Serif\" font-size=\"20.00\">ArrowStringConversion(FromMapProjectable)</text>\n",
       "</g>\n",
       "<!-- 7661971230967276166&#45;&gt;2533755087519404026 -->\n",
       "<g id=\"edge5\" class=\"edge\">\n",
       "<title>7661971230967276166&#45;&gt;2533755087519404026</title>\n",
       "<path fill=\"none\" stroke=\"black\" d=\"M230.5,-108.3C230.5,-116.02 230.5,-125.29 230.5,-133.89\"/>\n",
       "<polygon fill=\"black\" stroke=\"black\" points=\"227,-133.9 230.5,-143.9 234,-133.9 227,-133.9\"/>\n",
       "</g>\n",
       "<!-- 6890414045184417073 -->\n",
       "<g id=\"node7\" class=\"node\">\n",
       "<title>6890414045184417073</title>\n",
       "<polygon fill=\"none\" stroke=\"black\" points=\"339.5,-36 121.5,-36 121.5,0 339.5,0 339.5,-36\"/>\n",
       "<text text-anchor=\"middle\" x=\"230.5\" y=\"-13\" font-family=\"Helvetica,sans-Serif\" font-size=\"20.00\">FromMapProjectable</text>\n",
       "</g>\n",
       "<!-- 6890414045184417073&#45;&gt;7661971230967276166 -->\n",
       "<g id=\"edge6\" class=\"edge\">\n",
       "<title>6890414045184417073&#45;&gt;7661971230967276166</title>\n",
       "<path fill=\"none\" stroke=\"black\" d=\"M230.5,-36.3C230.5,-44.02 230.5,-53.29 230.5,-61.89\"/>\n",
       "<polygon fill=\"black\" stroke=\"black\" points=\"227,-61.9 230.5,-71.9 234,-61.9 227,-61.9\"/>\n",
       "</g>\n",
       "</g>\n",
       "</svg>\n"
      ],
      "text/plain": [
       "<graphviz.graphs.Digraph at 0x7d6551ff9030>"
      ]
     },
     "execution_count": 15,
     "metadata": {},
     "output_type": "execute_result"
    }
   ],
   "source": [
    "wc_df_dd.visualize()"
   ]
  },
  {
   "cell_type": "markdown",
   "id": "3fa270e0",
   "metadata": {},
   "source": [
    "Only map (applies the same treatment to all independent data)"
   ]
  }
 ],
 "metadata": {
  "kernelspec": {
   "display_name": "Python 3 (ipykernel)",
   "language": "python",
   "name": "python3"
  },
  "language_info": {
   "codemirror_mode": {
    "name": "ipython",
    "version": 3
   },
   "file_extension": ".py",
   "mimetype": "text/x-python",
   "name": "python",
   "nbconvert_exporter": "python",
   "pygments_lexer": "ipython3",
   "version": "3.10.12"
  }
 },
 "nbformat": 4,
 "nbformat_minor": 5
}
