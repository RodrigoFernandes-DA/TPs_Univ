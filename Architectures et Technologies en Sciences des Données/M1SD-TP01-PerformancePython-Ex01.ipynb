{
 "cells": [
  {
   "cell_type": "markdown",
   "id": "962d1571-c00b-4c5d-a623-19fcf7a5a0e4",
   "metadata": {},
   "source": [
    "# M1SD TP01 Performance Python"
   ]
  },
  {
   "cell_type": "markdown",
   "id": "2a1d43cc-7473-43d2-9752-fd75473cee5b",
   "metadata": {},
   "source": [
    "## Exercice 1 produit terme à terme"
   ]
  },
  {
   "cell_type": "code",
   "execution_count": 1,
   "id": "8ae445b3-43bd-4d66-8b25-dc9c26a48c65",
   "metadata": {},
   "outputs": [],
   "source": [
    "import numpy as np\n",
    "import random as rd\n",
    "from numba import jit\n",
    "from numba import vectorize, float64"
   ]
  },
  {
   "cell_type": "markdown",
   "id": "78efeb68-3bd2-44ca-afac-2df359be6413",
   "metadata": {},
   "source": [
    "La fonction `prod_1` calcul terme à terme le produit de deux listes python à l'aide de la méthode standard `zip`."
   ]
  },
  {
   "cell_type": "code",
   "execution_count": 13,
   "id": "e49d4873-62d1-4a52-872e-0c49451f0995",
   "metadata": {},
   "outputs": [],
   "source": [
    "def prod_1(tabx, taby):\n",
    "    '''\n",
    "    input : tabx et taby deux iterables sur des valeurs numeriques\n",
    "    output : res liste des produits terme a terme de tabx et taby\n",
    "    '''\n",
    "    res = [a * b for a,b in zip(tabx, taby)]\n",
    "    return res"
   ]
  },
  {
   "cell_type": "markdown",
   "id": "e4e5b2ee-db2d-4278-8fbd-73bb1e093646",
   "metadata": {},
   "source": [
    "Les listes `l_A` et `l_B` contiennent chacune 1 000 000 valeurs numériques générées aléatoirement."
   ]
  },
  {
   "cell_type": "code",
   "execution_count": 3,
   "id": "2775f13e-9693-485c-9f78-427c6c659be2",
   "metadata": {},
   "outputs": [],
   "source": [
    "l_A = [rd.random() for i in range(1_000_000)]\n",
    "l_B = [rd.random() for i in range(1_000_000)]"
   ]
  },
  {
   "cell_type": "markdown",
   "id": "dbfa1a26-a219-478f-9145-8cdd5beb0335",
   "metadata": {},
   "source": [
    "1. Mesurer le temps de restitution de l'exécution de `prod_1` sur `l_A`et `l_B`"
   ]
  },
  {
   "cell_type": "code",
   "execution_count": 14,
   "id": "1f535a3c-b46d-41f4-bc58-b910a3fcf078",
   "metadata": {},
   "outputs": [
    {
     "name": "stdout",
     "output_type": "stream",
     "text": [
      "62.5 ms ± 896 μs per loop (mean ± std. dev. of 7 runs, 10 loops each)\n"
     ]
    }
   ],
   "source": [
    "%timeit prod_1(l_A,l_B)\n",
    "\n",
    "# %time calcule le temp une fois\n",
    "# %timeit exécute le code plusieurs fois et donne le temp moyen"
   ]
  },
  {
   "cell_type": "markdown",
   "id": "939ee7de-e7e7-4685-9b01-3e294947d11f",
   "metadata": {},
   "source": [
    "2. Créer les numpy array `v_A` et `v_B` correspondant respectivement aux liste `l_A` et `l_B` et mesurer les temps de restitution de prod_1 sur `v_A` et `v_B`"
   ]
  },
  {
   "cell_type": "code",
   "execution_count": 6,
   "id": "935db5ba-410f-4f8e-b6d9-13a6b849831a",
   "metadata": {},
   "outputs": [
    {
     "name": "stdout",
     "output_type": "stream",
     "text": [
      "142 ms ± 681 μs per loop (mean ± std. dev. of 7 runs, 10 loops each)\n"
     ]
    }
   ],
   "source": [
    "v_A = np.array(l_A)\n",
    "v_B = np.array(l_B)\n",
    "\n",
    "%timeit prod_1(v_A,v_B)\n",
    "\n",
    "# On voit que le temps d'exécution avec le tableau numpy était plus long, \n",
    "# probablement parce qu'il utilise un calcul natif avec une bibliothèque externe"
   ]
  },
  {
   "cell_type": "markdown",
   "id": "e541a03e-7ad0-4b02-b4b1-80e1db0742b3",
   "metadata": {},
   "source": [
    "3. Mesurer le temps de restitution du produit scalaire natif de numpy sur `v_A` et `v_B`"
   ]
  },
  {
   "cell_type": "code",
   "execution_count": null,
   "id": "29577bca-f5d7-4d9d-946c-7ac08022d32b",
   "metadata": {},
   "outputs": [
    {
     "name": "stdout",
     "output_type": "stream",
     "text": [
      "2.16 ms ± 74 μs per loop (mean ± std. dev. of 7 runs, 100 loops each)\n"
     ]
    }
   ],
   "source": [
    "%timeit v_A*v_B\n",
    "\n",
    "# En utilisant uniquement Numpy, le résultat du calcul est beaucoup plus efficace"
   ]
  },
  {
   "cell_type": "markdown",
   "id": "7e50da8a-448a-4f4c-9f35-307c5d3fb579",
   "metadata": {},
   "source": [
    "4. Utiliser `numba` pour compiler `prod_1` à la volée"
   ]
  },
  {
   "cell_type": "code",
   "execution_count": 7,
   "id": "338318d3-4079-4580-ba7d-eaa348395cc8",
   "metadata": {},
   "outputs": [],
   "source": [
    "@jit\n",
    "def prod_1(tabx, taby):\n",
    "    '''\n",
    "    input : tabx et taby deux iterables sur des valeurs numeriques\n",
    "    output : res liste des produits terme a terme de tabx et taby\n",
    "    '''\n",
    "    res = [a * b for a,b in zip(tabx, taby)]\n",
    "    return res\n",
    "\n",
    "# objectif de jit : convertir la fonction python en langage machine pour travailler \n",
    "# plus efficacement\n",
    "# jit teste la conversion et, en cas d'échec, calcul avec python\n",
    "# njit teste la conversion et, en cas d'échec, affiche un message d'erreur"
   ]
  },
  {
   "cell_type": "markdown",
   "id": "e767126e-8646-4e83-b9f8-f97969b7776f",
   "metadata": {},
   "source": [
    "5. Mesurer les temps de restitution de cette première version (attention au temps de génération du code) sur `l_A` et `l_B` puis sur `v_A` et `v_B`."
   ]
  },
  {
   "cell_type": "code",
   "execution_count": 9,
   "id": "986a92b9-ebb3-4c00-9c12-0e6c13ff07d6",
   "metadata": {},
   "outputs": [
    {
     "name": "stdout",
     "output_type": "stream",
     "text": [
      "1.51 s ± 5.06 ms per loop (mean ± std. dev. of 7 runs, 1 loop each)\n",
      "31.1 ms ± 1.2 ms per loop (mean ± std. dev. of 7 runs, 10 loops each)\n"
     ]
    }
   ],
   "source": [
    "%timeit prod_1(l_A,l_B)\n",
    "\n",
    "%timeit prod_1(v_A,v_B)\n",
    "\n",
    "# Après avoir compilé la fonction, le résultat avec les listes était plus lent\n",
    "# Cependant, le calcul de la fonction utilisant des tableaux était plus rapide"
   ]
  },
  {
   "cell_type": "markdown",
   "id": "a70bbed6-eacd-41e3-86e1-d1c2ebb0d371",
   "metadata": {},
   "source": [
    "6. Utiliser numba pour faire de `prod_1` une Ufunc"
   ]
  },
  {
   "cell_type": "code",
   "execution_count": 10,
   "id": "a84f620d-316c-46d0-badf-fb271bb9c5ff",
   "metadata": {},
   "outputs": [],
   "source": [
    "@vectorize([float64(float64, float64)])\n",
    "def prod_1(a, b):\n",
    "    '''\n",
    "    input : tabx et taby deux iterables sur des valeurs numeriques\n",
    "    output : res liste des produits terme a terme de tabx et taby\n",
    "    '''\n",
    "    # res = [a * b for a,b in zip(tabx, taby)]\n",
    "    return a*b\n",
    "\n",
    "# Il a fallu changer la fonction pour qu'elle fonctionne uniquement avec des scalaires"
   ]
  },
  {
   "cell_type": "markdown",
   "id": "a163f4ee-5213-4569-b27e-26b92fdc2596",
   "metadata": {},
   "source": [
    "7. Mesurer les temps de restitution de cette nouvelle version  sur `v_A` et `v_B`."
   ]
  },
  {
   "cell_type": "code",
   "execution_count": 12,
   "id": "1a0f4ee3-95a9-43f7-bb3c-089ebd9e15b2",
   "metadata": {},
   "outputs": [
    {
     "name": "stdout",
     "output_type": "stream",
     "text": [
      "2.2 ms ± 100 μs per loop (mean ± std. dev. of 7 runs, 100 loops each)\n"
     ]
    }
   ],
   "source": [
    "%timeit prod_1(v_A,v_B)\n",
    "\n",
    "# La vectorisation a rendu le calcul de la fonction avec des tableaux aussi \n",
    "# efficace que le calcul utilisant le produit scalaire natif de Numpy"
   ]
  }
 ],
 "metadata": {
  "kernelspec": {
   "display_name": "Python 3 (ipykernel)",
   "language": "python",
   "name": "python3"
  },
  "language_info": {
   "codemirror_mode": {
    "name": "ipython",
    "version": 3
   },
   "file_extension": ".py",
   "mimetype": "text/x-python",
   "name": "python",
   "nbconvert_exporter": "python",
   "pygments_lexer": "ipython3",
   "version": "3.10.12"
  }
 },
 "nbformat": 4,
 "nbformat_minor": 5
}
