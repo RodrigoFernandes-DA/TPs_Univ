{
 "cells": [
  {
   "cell_type": "markdown",
   "id": "8daa0dc1-6dba-493d-8e23-c7b896cb74d8",
   "metadata": {},
   "source": [
    "# TP 2 Multitâches \n",
    "# Exercice 2 - Facteurs de nombres entiers\n",
    "\n",
    "## Introduction\n",
    "\n",
    "Cet exercice nécessite le package **Numba**. \n",
    "\n",
    "L'objectif est de paralléliser un algorithme par **multiprocessing** et **multithreading** à l'aide du module Python **concurrent.futures** et de comparer les performances obtenues."
   ]
  },
  {
   "cell_type": "code",
   "execution_count": 63,
   "id": "ada08f70",
   "metadata": {},
   "outputs": [
    {
     "name": "stderr",
     "output_type": "stream",
     "text": [
      "/usr/local/lib/python3.10/dist-packages/matplotlib/projections/__init__.py:63: UserWarning: Unable to import Axes3D. This may be due to multiple versions of Matplotlib being installed (e.g. as a system package and as a pip package). As a result, the 3D projection is not available.\n",
      "  warnings.warn(\"Unable to import Axes3D. This may be due to multiple versions of \"\n"
     ]
    }
   ],
   "source": [
    "import numpy as np\n",
    "from numba import njit\n",
    "import time\n",
    "from concurrent.futures import ProcessPoolExecutor\n",
    "from concurrent.futures import ThreadPoolExecutor\n",
    "import matplotlib.pyplot as plt"
   ]
  },
  {
   "cell_type": "markdown",
   "id": "89b0af45-7f0e-470e-a23a-cabc43e3350d",
   "metadata": {},
   "source": [
    "La fonction `factor_01(n)` construit de façon naïve par compréhension la liste des différents facteurs entiers de `n` strictement inférieur à `n`."
   ]
  },
  {
   "cell_type": "code",
   "execution_count": 1,
   "id": "02ef674f-15bf-432f-acad-328f0dfc0c5b",
   "metadata": {},
   "outputs": [],
   "source": [
    "def factor_01(n):\n",
    "    \"\"\"\n",
    "    Retourner la liste des facteurs propres d'un entier n.\n",
    "    \"\"\"\n",
    "    return [i for i in range(1, n) if n % i == 0]"
   ]
  },
  {
   "cell_type": "markdown",
   "id": "5aed46e8-4ea0-4fbf-9e78-0d3b4298e441",
   "metadata": {},
   "source": [
    "La fonction `main(a, b)` construit par compréhension la liste de la somme de tous les facteurs de chaque nombre entier `n` compris entre `a` et `b` donnés en arguments du script."
   ]
  },
  {
   "cell_type": "code",
   "execution_count": 4,
   "id": "fdf986e2-2a38-4e7b-ae1d-d9c0cf0187dd",
   "metadata": {},
   "outputs": [],
   "source": [
    "def main(a, b):\n",
    "    \"\"\"\n",
    "    Construire la liste des sommes des facteurs propres pour tous les entiers de a à b.\n",
    "    \"\"\"\n",
    "    return [sum(factor_01(n)) for n in range(a, b + 1)]"
   ]
  },
  {
   "cell_type": "markdown",
   "id": "1b0f2263-5fb2-4f3d-b074-b76fae3f0b80",
   "metadata": {},
   "source": [
    "## 1 - Préliminaires\n",
    "\n",
    "1.a) Mesurer les temps d'exécution de `main` pour différentes valeurs de `a` et `b`"
   ]
  },
  {
   "cell_type": "code",
   "execution_count": 66,
   "id": "0f70ef76-7ce8-4f44-9a47-7e3b6ca723cb",
   "metadata": {},
   "outputs": [
    {
     "name": "stdout",
     "output_type": "stream",
     "text": [
      "For 10 numbers, compute in 1.9311904907226562e-05 seconds\n",
      "For 20 numbers, compute in 1.7642974853515625e-05 seconds\n",
      "For 50 numbers, compute in 0.0001277923583984375 seconds\n",
      "For 100 numbers, compute in 0.0002923011779785156 seconds\n",
      "For 200 numbers, compute in 0.0008924007415771484 seconds\n",
      "For 500 numbers, compute in 0.0055811405181884766 seconds\n",
      "For 1000 numbers, compute in 0.024730682373046875 seconds\n"
     ]
    },
    {
     "data": {
      "image/png": "[encoded data removed]",
      "text/plain": [
       "<Figure size 640x480 with 1 Axes>"
      ]
     },
     "metadata": {},
     "output_type": "display_data"
    }
   ],
   "source": [
    "a_values = [1, 11, 21, 31, 41, 51, 101]\n",
    "b_values = [10, 20 , 50, 100, 200, 500, 1000]\n",
    "\n",
    "times = []\n",
    "\n",
    "for i in range(len(a_values)):\n",
    "    tic = time.time()\n",
    "    mains = main(1, b_values[i])\n",
    "    toc = time.time()\n",
    "    elapsed_time = toc - tic \n",
    "    times.append(elapsed_time) \n",
    "    print(f'For {len(mains)} numbers, compute in {toc - tic} seconds')\n",
    "\n",
    "# Plotando o gráfico\n",
    "plt.plot(b_values, times, marker='o')\n",
    "plt.xlabel('Valeurs')\n",
    "plt.ylabel(\"Temps d'exécution (secondes)\")\n",
    "plt.grid(True)\n",
    "plt.show()"
   ]
  },
  {
   "cell_type": "markdown",
   "id": "a6055c56",
   "metadata": {},
   "source": []
  },
  {
   "cell_type": "markdown",
   "id": "713663c4-405b-4887-bec9-d843fbc6e80a",
   "metadata": {},
   "source": [
    "1.b) Sur la base de `main`, écrire une fonction `main_map` afin d'utiliser la méthode `map` native de Python"
   ]
  },
  {
   "cell_type": "code",
   "execution_count": 56,
   "id": "82c0e33c-752a-458a-b2a7-9dc742dfc53d",
   "metadata": {},
   "outputs": [],
   "source": [
    "def main_map(a, b):\n",
    "    res = []\n",
    "    result = [res for res in map(factor_01,list(range(a,b+1)))]\n",
    "    for i in range(0,len(result)):\n",
    "        res.append(sum(result[i]))\n",
    "    # result = map(factor_01, list(range(a,b)))   \n",
    "    return res\n"
   ]
  },
  {
   "cell_type": "markdown",
   "id": "ad4dd08c-3d44-4d69-a71c-f2a07c8dd1a3",
   "metadata": {},
   "source": [
    "1.c) Mesurer les performances de cette nouvelle version"
   ]
  },
  {
   "cell_type": "code",
   "execution_count": 62,
   "id": "d945ed47-d576-4017-89c4-0e35e298cc2a",
   "metadata": {},
   "outputs": [
    {
     "name": "stdout",
     "output_type": "stream",
     "text": [
      "For 10 numbers, compute in 3.337860107421875e-05 seconds\n",
      "For 20 numbers, compute in 2.1696090698242188e-05 seconds\n",
      "For 50 numbers, compute in 7.05718994140625e-05 seconds\n",
      "For 100 numbers, compute in 0.0002913475036621094 seconds\n",
      "For 200 numbers, compute in 0.0009462833404541016 seconds\n",
      "For 500 numbers, compute in 0.006916522979736328 seconds\n"
     ]
    }
   ],
   "source": [
    "for i in range(len(a_values)):\n",
    "    tic = time.time()\n",
    "    mains = main_map(1, b_values[i])\n",
    "    toc = time.time()\n",
    "    print(f'For {len(mains)} numbers, compute in {toc - tic} seconds')"
   ]
  },
  {
   "cell_type": "markdown",
   "id": "f505c624-3cf0-42f4-90e8-6962b18ed689",
   "metadata": {},
   "source": [
    "## 2 - Multiprocessing\n",
    "\n",
    "2.a) Sur la base de `main_map`, écrire une fonction `main_mp` qui dispatche les tâches effectuées par le `map` entre les différents processus d’un pool de `n` processus, `n` donné en argument de la fonction `main_mp`"
   ]
  },
  {
   "cell_type": "code",
   "execution_count": null,
   "id": "8fddf86a-2ad5-42a4-8b07-0f30ea3f9bb4",
   "metadata": {},
   "outputs": [],
   "source": [
    "#TODO"
   ]
  },
  {
   "cell_type": "markdown",
   "id": "052456a4-504f-40ff-ade9-e5bdfde34ac4",
   "metadata": {},
   "source": [
    "2.b) Mesurer les performances pour un nombre différent de processus et des valeurs différentes de `a` et `b`"
   ]
  },
  {
   "cell_type": "code",
   "execution_count": null,
   "id": "6e0d1626-4895-4277-8d63-01ca654ad7a7",
   "metadata": {},
   "outputs": [],
   "source": [
    "#TODO"
   ]
  },
  {
   "cell_type": "markdown",
   "id": "f9170874-dd38-42e6-80ac-2661ea88d940",
   "metadata": {},
   "source": [
    "2.c) Utiliser le décorateur `njit` (sans activer le `nogil`) de `numba` sur la fonction `factor_01` et mesurer les performances (comparer avec une version *jittée* sans multiprocessing)"
   ]
  },
  {
   "cell_type": "code",
   "execution_count": null,
   "id": "8f1f3951-1479-4ced-9262-ec1753b2be84",
   "metadata": {},
   "outputs": [],
   "source": [
    "#TODO"
   ]
  },
  {
   "cell_type": "markdown",
   "id": "c15c87d5-fd8d-4fb8-91e4-6aa1e6598de7",
   "metadata": {},
   "source": [
    "## 3 - Multithreading\n",
    "\n",
    "3.a) Sur la base de `main_mp`, écrire une fonction `main_nt` qui utilise du multithreading à la place du multiprocessing"
   ]
  },
  {
   "cell_type": "code",
   "execution_count": null,
   "id": "c61796a8-a202-4e72-8b81-07882410ebc0",
   "metadata": {},
   "outputs": [],
   "source": [
    "#TODO"
   ]
  },
  {
   "cell_type": "markdown",
   "id": "9f2cfa1e-2107-4edc-97d5-5a7a6170e7a8",
   "metadata": {},
   "source": [
    "3.b) Mesurer les performances de cette version et les comparer aux versions précédentes"
   ]
  },
  {
   "cell_type": "code",
   "execution_count": null,
   "id": "fe3881f3-5483-4ce3-ae41-5de71a2fdc02",
   "metadata": {},
   "outputs": [],
   "source": [
    "#TODO"
   ]
  },
  {
   "cell_type": "markdown",
   "id": "32d4ee60-1576-4e57-929f-92f36e9276fa",
   "metadata": {},
   "source": [
    "3.c) Activer le `nogil` dans le décorateur `njit` et comparer les performances"
   ]
  },
  {
   "cell_type": "code",
   "execution_count": null,
   "id": "86c531d0-f7ab-4b53-a40e-9e0787893f07",
   "metadata": {},
   "outputs": [],
   "source": [
    "#TODO"
   ]
  }
 ],
 "metadata": {
  "kernelspec": {
   "display_name": "Python 3 (ipykernel)",
   "language": "python",
   "name": "python3"
  },
  "language_info": {
   "codemirror_mode": {
    "name": "ipython",
    "version": 3
   },
   "file_extension": ".py",
   "mimetype": "text/x-python",
   "name": "python",
   "nbconvert_exporter": "python",
   "pygments_lexer": "ipython3",
   "version": "3.10.12"
  }
 },
 "nbformat": 4,
 "nbformat_minor": 5
}
