{
 "cells": [
  {
   "cell_type": "markdown",
   "id": "962d1571-c00b-4c5d-a623-19fcf7a5a0e4",
   "metadata": {},
   "source": [
    "# M1SD TP01 Performance Python"
   ]
  },
  {
   "cell_type": "markdown",
   "id": "8390b254-4104-468a-8ac9-9aec0b928c34",
   "metadata": {},
   "source": [
    "## Exercice 2 : calcul de pi par Monte Carlo"
   ]
  },
  {
   "cell_type": "code",
   "execution_count": 11,
   "id": "93ed4986",
   "metadata": {},
   "outputs": [],
   "source": [
    "import numpy as np\n",
    "from numba import jit\n",
    "from numba import vectorize, float64"
   ]
  },
  {
   "cell_type": "markdown",
   "id": "e7c62416-f454-4844-acbb-e9f5224313e0",
   "metadata": {},
   "source": [
    "La méthode `pick` tire `n` coups dans le carré $[-1,1] \\times [-1,1]$ et retourne le nombre de coups tirés dans le disque inscrit au carré."
   ]
  },
  {
   "cell_type": "code",
   "execution_count": 5,
   "id": "4e32d789-d755-4dc9-8211-658a9090d486",
   "metadata": {},
   "outputs": [],
   "source": [
    "def pick(n):\n",
    "    '''\n",
    "    input : n nombre de tirage dans le carre [-1, 1]\n",
    "    output: count_inside nombre de coups tires dans le disque inscrit au carre\n",
    "    '''\n",
    "    count_inside = 0\n",
    "    for i in range(n):\n",
    "        x, y = np.random.random(2) * 2 - 1\n",
    "        if x**2 + y**2 <= 1: count_inside += 1\n",
    "    return count_inside"
   ]
  },
  {
   "cell_type": "markdown",
   "id": "db1e6d3f-ce50-46d4-801e-2095c9bce29d",
   "metadata": {},
   "source": [
    "La méthode pi_mc appel la méthode pick sur la valeur n et retourne la valeur approchée $\\pi$ par la formule $4 \\times p_C/p_T$ où $p_C$ désigne le nombre de coups dans le disque et $p_T$ le nombre de coups total."
   ]
  },
  {
   "cell_type": "code",
   "execution_count": 6,
   "id": "742e7e93-7663-4805-ae95-9bec92a03af1",
   "metadata": {},
   "outputs": [],
   "source": [
    "def pi_mc(n):\n",
    "    '''\n",
    "    input : n nombre de tirage dans le carré [-1, 1]\n",
    "    output : api : valeur de pi calculée par Monte Carlo\n",
    "    '''\n",
    "    api = 4 * pick(n) / n\n",
    "    return api\n",
    "\n",
    "# area square = 4 \n",
    "# area circle = pi\n",
    "# prob = pi/4\n",
    "# logica da funcao -> pi = 4*prob (renvoie la valeur APPROXIMATIVE de pi)"
   ]
  },
  {
   "cell_type": "markdown",
   "id": "32a6783b-98ad-4e55-9bf9-713b823be520",
   "metadata": {},
   "source": [
    "1. Mesurer les temps de restitution pour un nombre `n` valant respectivement 10, 1000, 10 000 et 1 000 000."
   ]
  },
  {
   "cell_type": "code",
   "execution_count": 9,
   "id": "f81ea00e-c0dd-419c-a7a1-93f915f25e0b",
   "metadata": {},
   "outputs": [
    {
     "name": "stdout",
     "output_type": "stream",
     "text": [
      "----- n =  10  -----\n",
      "CPU times: user 793 μs, sys: 29 μs, total: 822 μs\n",
      "Wall time: 876 μs\n",
      "pi =  3.6\n",
      "----- n =  1000  -----\n",
      "CPU times: user 7.06 ms, sys: 0 ns, total: 7.06 ms\n",
      "Wall time: 6.71 ms\n",
      "pi =  3.164\n",
      "----- n =  10000  -----\n",
      "CPU times: user 50.3 ms, sys: 2.01 ms, total: 52.3 ms\n",
      "Wall time: 50.9 ms\n",
      "pi =  3.1476\n",
      "----- n =  1000000  -----\n",
      "CPU times: user 4.47 s, sys: 2.83 ms, total: 4.47 s\n",
      "Wall time: 4.49 s\n",
      "pi =  3.139236\n"
     ]
    }
   ],
   "source": [
    "tests = [10, 1000, 10_000, 1_000_000]\n",
    "res = 0\n",
    "\n",
    "for t in tests:\n",
    "    print(\"----- n = \",t,\" -----\")  \n",
    "    %time res = pi_mc(t)\n",
    "    print(\"pi = \", res) \n",
    "\n",
    "# Le temps d'exécution augmente en fonction de la valeur de n, ce qui montre \n",
    "# que la complexité n'est pas constante"
   ]
  },
  {
   "cell_type": "markdown",
   "id": "829a7a17-20f7-4880-89cd-c9b682b07bb4",
   "metadata": {},
   "source": [
    "2. Faire une version compilée à la volée de la méthode `pick` à l'aide de `numba`."
   ]
  },
  {
   "cell_type": "code",
   "execution_count": 12,
   "id": "da069ac6-0c7b-4b8a-bca0-83fac3636613",
   "metadata": {},
   "outputs": [],
   "source": [
    "@jit\n",
    "def pick(n):\n",
    "    '''\n",
    "    input : n nombre de tirage dans le carre [-1, 1]\n",
    "    output: count_inside nombre de coups tires dans le disque inscrit au carre\n",
    "    '''\n",
    "    count_inside = 0\n",
    "    for i in range(n):\n",
    "        x, y = np.random.random(2) * 2 - 1\n",
    "        if x**2 + y**2 <= 1: count_inside += 1\n",
    "    return count_inside"
   ]
  },
  {
   "cell_type": "markdown",
   "id": "4085e077-c0e3-4be3-998c-93db7df633bb",
   "metadata": {},
   "source": [
    "3. Mesurer les temps de restitution pour un nombre `n` valant respectivement 10, 1000, 10 000 et 1 000 000."
   ]
  },
  {
   "cell_type": "code",
   "execution_count": 16,
   "id": "832145fe-1e8f-4ab2-94fc-22afacff3a8b",
   "metadata": {},
   "outputs": [
    {
     "name": "stdout",
     "output_type": "stream",
     "text": [
      "----- n =  10  -----\n",
      "CPU times: user 15 μs, sys: 0 ns, total: 15 μs\n",
      "Wall time: 16.5 μs\n",
      "pi =  2.8\n",
      "----- n =  1000  -----\n",
      "CPU times: user 84 μs, sys: 0 ns, total: 84 μs\n",
      "Wall time: 85.8 μs\n",
      "pi =  3.156\n",
      "----- n =  10000  -----\n",
      "CPU times: user 990 μs, sys: 0 ns, total: 990 μs\n",
      "Wall time: 994 μs\n",
      "pi =  3.1608\n",
      "----- n =  1000000  -----\n",
      "CPU times: user 84.1 ms, sys: 0 ns, total: 84.1 ms\n",
      "Wall time: 84.6 ms\n",
      "pi =  3.14112\n"
     ]
    }
   ],
   "source": [
    "for t in tests:\n",
    "    print(\"----- n = \",t,\" -----\")  \n",
    "    %time res = pi_mc(t)\n",
    "    print(\"pi = \", res) \n",
    "\n",
    "# Une fois de plus, la compilation s'est avérée très efficace pour réduire \n",
    "# le temps de calcul"
   ]
  },
  {
   "cell_type": "markdown",
   "id": "38d9d633-339f-480e-b448-dc32c42ad7f4",
   "metadata": {},
   "source": [
    "4. Ecrire une fonction inspiré de Monte Carlo qui construit aléatoirement un ndarray de dimension `(2, n)` chaque ligne représentant respectivement les coordonnées $x,y$ d'un point dans le carré $[-1,1]$ et calcule une approximation de $pi$ avec un masque numpy."
   ]
  },
  {
   "cell_type": "code",
   "execution_count": 32,
   "id": "5843e3f0-129e-4c17-ac65-851473585afe",
   "metadata": {},
   "outputs": [],
   "source": [
    "def MonteCarlo(n):\n",
    "    arr = np.zeros([n,2])\n",
    "    cir = []\n",
    "\n",
    "    for i in range(n):\n",
    "        arr[i,0], arr[i,1] = np.random.random(2) * 2 - 1\n",
    "        if arr[i,0]**2 + arr[i,1]**2 <= 1: cir.append(arr[i])\n",
    "\n",
    "    api = 4 * len(cir) / n\n",
    "\n",
    "    return api"
   ]
  },
  {
   "cell_type": "markdown",
   "id": "6a7b1689-ec41-4d36-8cec-066152df9f53",
   "metadata": {},
   "source": [
    "5. Mesurer les temps de restitution pour `n` valant respectivement 10, 1000, 10 000 et 1 000 000."
   ]
  },
  {
   "cell_type": "code",
   "execution_count": 33,
   "id": "1de9d4bb-8070-491f-8406-f1abcb1c8520",
   "metadata": {},
   "outputs": [
    {
     "name": "stdout",
     "output_type": "stream",
     "text": [
      "----- n =  10  -----\n",
      "CPU times: user 0 ns, sys: 417 μs, total: 417 μs\n",
      "Wall time: 351 μs\n",
      "pi =  2.4\n",
      "----- n =  1000  -----\n",
      "CPU times: user 11.4 ms, sys: 6.09 ms, total: 17.5 ms\n",
      "Wall time: 24.8 ms\n",
      "pi =  3.188\n",
      "----- n =  10000  -----\n",
      "CPU times: user 59.1 ms, sys: 6.98 ms, total: 66.1 ms\n",
      "Wall time: 62.4 ms\n",
      "pi =  3.1392\n",
      "----- n =  1000000  -----\n",
      "CPU times: user 5.17 s, sys: 174 ms, total: 5.34 s\n",
      "Wall time: 5.37 s\n",
      "pi =  3.140808\n"
     ]
    }
   ],
   "source": [
    "for t in tests:\n",
    "    print(\"----- n = \",t,\" -----\")  \n",
    "    %time res = MonteCarlo(t)\n",
    "    print(\"pi = \", res) \n",
    "\n",
    "# Le calcul suivant une logique différente, a présenté des résultats similaires \n",
    "# à ceux de la fonction pi_mc"
   ]
  }
 ],
 "metadata": {
  "kernelspec": {
   "display_name": "Python 3 (ipykernel)",
   "language": "python",
   "name": "python3"
  },
  "language_info": {
   "codemirror_mode": {
    "name": "ipython",
    "version": 3
   },
   "file_extension": ".py",
   "mimetype": "text/x-python",
   "name": "python",
   "nbconvert_exporter": "python",
   "pygments_lexer": "ipython3",
   "version": "3.10.12"
  }
 },
 "nbformat": 4,
 "nbformat_minor": 5
}
