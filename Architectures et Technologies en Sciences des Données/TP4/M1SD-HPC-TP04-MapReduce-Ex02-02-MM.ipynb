{
 "cells": [
  {
   "cell_type": "markdown",
   "id": "6ae776b0-6c3b-4dd7-befb-a3623fab52a3",
   "metadata": {},
   "source": [
    "# TP04 MapReduce - Multiplication Matricielle\n",
    "# Matrice A et B chargées par lignes et colonnes"
   ]
  },
  {
   "cell_type": "markdown",
   "id": "44e5c620-788e-4ca0-967b-618c62e6fdbe",
   "metadata": {},
   "source": [
    "## Chargement des matrices A et B"
   ]
  },
  {
   "cell_type": "code",
   "execution_count": 11,
   "id": "d36cce44-5277-45ec-8564-dcfc65091184",
   "metadata": {},
   "outputs": [],
   "source": [
    "import numpy as np\n",
    "import time\n",
    "from concurrent.futures import ProcessPoolExecutor\n",
    "from concurrent.futures import ThreadPoolExecutor, as_completed\n",
    "import matplotlib.pyplot as plt\n",
    "import re"
   ]
  },
  {
   "cell_type": "markdown",
   "id": "53f75942-452e-4420-8e00-6148b3c0fc2e",
   "metadata": {},
   "source": [
    "## Chargement des fichiers lignes et colonnes"
   ]
  },
  {
   "cell_type": "code",
   "execution_count": 2,
   "id": "f92b1c46-7398-4547-ab2c-cf832696cdf2",
   "metadata": {},
   "outputs": [],
   "source": [
    "A_data = np.load(\"A.npz\")\n",
    "B_data = np.load(\"B.npz\")"
   ]
  },
  {
   "cell_type": "markdown",
   "id": "dd603f7d-a156-48ae-84c2-8090b153f5e0",
   "metadata": {},
   "source": [
    "## Reconstruction de A et B à partir des lignes et colonnes"
   ]
  },
  {
   "cell_type": "code",
   "execution_count": 3,
   "id": "63e94e87-cc84-4243-b55f-604cb8f0b0e4",
   "metadata": {},
   "outputs": [
    {
     "name": "stdout",
     "output_type": "stream",
     "text": [
      "CPU times: user 32.7 ms, sys: 8.12 ms, total: 40.8 ms\n",
      "Wall time: 1.41 s\n"
     ]
    }
   ],
   "source": [
    "%%time\n",
    "A = np.vstack([A_data[f\"row_{i}\"] for i in range(len(A_data.files))])\n",
    "B = np.vstack([B_data[f\"col_{j}\"] for j in range(len(B_data.files))]).transpose()"
   ]
  },
  {
   "cell_type": "code",
   "execution_count": 4,
   "id": "1209b4a7-ed6e-4b1c-a2b1-0b163f794f33",
   "metadata": {},
   "outputs": [
    {
     "name": "stdout",
     "output_type": "stream",
     "text": [
      "Matrice A reconstruite : (100, 10000)\n",
      "Matrice B reconstruite : (10000, 100)\n"
     ]
    }
   ],
   "source": [
    "# Vérification des dimensions\n",
    "print(f\"Matrice A reconstruite : {A.shape}\")\n",
    "print(f\"Matrice B reconstruite : {B.shape}\")"
   ]
  },
  {
   "cell_type": "markdown",
   "id": "49b0a13f-c51c-4e93-a829-a46d0b1a2309",
   "metadata": {},
   "source": [
    "## Multiplication avec NumPy"
   ]
  },
  {
   "cell_type": "code",
   "execution_count": 5,
   "id": "c0f1c4a9-e84b-40f9-a5d5-d845a92793d1",
   "metadata": {},
   "outputs": [
    {
     "name": "stdout",
     "output_type": "stream",
     "text": [
      "CPU times: user 52.1 ms, sys: 17 μs, total: 52.1 ms\n",
      "Wall time: 51 ms\n",
      "Multiplication terminée avec succès.\n"
     ]
    }
   ],
   "source": [
    "%time C = A @ B\n",
    "print(\"Multiplication terminée avec succès.\")"
   ]
  },
  {
   "cell_type": "code",
   "execution_count": 6,
   "id": "67ecd575-f105-47a1-9244-e3f599552a4e",
   "metadata": {},
   "outputs": [
    {
     "name": "stdout",
     "output_type": "stream",
     "text": [
      "Matrice A : (100, 10000)\n",
      "Matrice B : (10000, 100)\n"
     ]
    }
   ],
   "source": [
    "A = np.load(\"A.npy\")\n",
    "B = np.load(\"B.npy\")\n",
    "\n",
    "# Affichage des dimensions pour vérification\n",
    "print(f\"Matrice A : {A.shape}\")\n",
    "print(f\"Matrice B : {B.shape}\")"
   ]
  },
  {
   "cell_type": "code",
   "execution_count": 7,
   "id": "98c9cc61-8edc-4b0c-87c1-7961bf7685f2",
   "metadata": {},
   "outputs": [],
   "source": [
    "C_numpy = A @ B"
   ]
  },
  {
   "cell_type": "markdown",
   "id": "b99154fe-2496-44bb-9baa-13aba8bc9bdb",
   "metadata": {},
   "source": [
    "## Questions"
   ]
  },
  {
   "cell_type": "markdown",
   "id": "9e59f5da-5eec-41e5-ac08-76d29b1c9077",
   "metadata": {},
   "source": [
    "1. Ecrire un algorithme MapReduce qui calcule le produit matriciel de A et B en **multithreading** dans lequel chaque worker réalise le calcul d’un ou plusieurs $c_{ij}$ en ne chargeant que les lignes et les colonnes nécessaires."
   ]
  },
  {
   "cell_type": "code",
   "execution_count": 19,
   "id": "7ae544b9-1ead-4326-bfa8-e6b52f2a7190",
   "metadata": {},
   "outputs": [],
   "source": [
    "def load_matrix(filename):\n",
    "    \"\"\"Charge les données du fichier NPZ sous forme de dictionnaire.\"\"\"\n",
    "    data = np.load(filename, allow_pickle=True)\n",
    "    \n",
    "    # Extraire le numéro de ligne/colonne à partir des clés (ex: \"row_0\" -> 0)\n",
    "    matrix = {int(re.search(r'\\d+', k).group()): v for k, v in data.items()}\n",
    "    \n",
    "    return matrix\n",
    "\n",
    "def compute_cell(i, j, A_rows, B_cols):\n",
    "    \"\"\"Calcule un élément spécifique de la matrice résultat.\"\"\"\n",
    "    return i, j, np.dot(A_rows[i], B_cols[j])\n",
    "\n",
    "def Produit_mt(A_file, B_file, num_workers=4):\n",
    "    \"\"\"Calcule le produit matriciel de A et B en parallèle.\"\"\"\n",
    "    A_rows = load_matrix(A_file)  # Dictionnaire {ligne: np.array}\n",
    "    B_cols = load_matrix(B_file)  # Dictionnaire {colonne: np.array}\n",
    "    \n",
    "    rows = len(A_rows)\n",
    "    cols = len(B_cols)\n",
    "    \n",
    "    C = np.zeros((rows, cols))  # Matrice résultat\n",
    "    \n",
    "    with ThreadPoolExecutor(max_workers=num_workers) as t_exe:\n",
    "        futures = {t_exe.submit(compute_cell, i, j, A_rows, B_cols): (i, j) for i in range(rows) for j in range(cols)}\n",
    "        \n",
    "        for future in as_completed(futures):\n",
    "            i, j, value = future.result()\n",
    "            C[i, j] = value\n",
    "    \n",
    "    return C\n",
    "\n"
   ]
  },
  {
   "cell_type": "code",
   "execution_count": 20,
   "id": "645c7156",
   "metadata": {},
   "outputs": [
    {
     "name": "stdout",
     "output_type": "stream",
     "text": [
      "CPU times: user 359 ms, sys: 25 ms, total: 384 ms\n",
      "Wall time: 331 ms\n"
     ]
    }
   ],
   "source": [
    "%time C = Produit_mt(\"A.npz\", \"B.npz\", num_workers=8)"
   ]
  },
  {
   "cell_type": "markdown",
   "id": "d88349c3-57c7-4b58-abc6-0146f57f71b5",
   "metadata": {},
   "source": [
    "2. Ecrire un algorithme MapReduce qui calcule le produit matriciel de A et B en **mutiprocessing** dans lequel chaque worker réalise le calcul d’un ou plusieurs $c_{ij}$ en ne chargeant que les lignes et les colonnes nécessaires."
   ]
  },
  {
   "cell_type": "code",
   "execution_count": 15,
   "id": "e7f1a550-65f0-4414-9c79-c6fa5cd4db4e",
   "metadata": {},
   "outputs": [],
   "source": [
    "def Produit_mp(A_file, B_file, num_workers=4):\n",
    "    \"\"\"Calcule le produit matriciel de A et B en parallèle.\"\"\"\n",
    "    A_rows = load_matrix(A_file)  # Dictionnaire {ligne: np.array}\n",
    "    B_cols = load_matrix(B_file)  # Dictionnaire {colonne: np.array}\n",
    "    \n",
    "    rows = len(A_rows)\n",
    "    cols = len(B_cols)\n",
    "    \n",
    "    C = np.zeros((rows, cols))  # Matrice résultat\n",
    "    \n",
    "    with ProcessPoolExecutor(max_workers=num_workers) as p_exe:\n",
    "        futures = {p_exe.submit(compute_cell, i, j, A_rows, B_cols): (i, j) for i in range(rows) for j in range(cols)}\n",
    "        \n",
    "        for future in as_completed(futures):\n",
    "            i, j, value = future.result()\n",
    "            C[i, j] = value\n",
    "    \n",
    "    return C"
   ]
  },
  {
   "cell_type": "code",
   "execution_count": 16,
   "id": "ab20ea3f",
   "metadata": {},
   "outputs": [
    {
     "name": "stdout",
     "output_type": "stream",
     "text": [
      "CPU times: user 50.2 s, sys: 2min 42s, total: 3min 32s\n",
      "Wall time: 5min 8s\n"
     ]
    }
   ],
   "source": [
    "%time C = Produit_mp(\"A.npz\", \"B.npz\", num_workers=8)"
   ]
  },
  {
   "cell_type": "markdown",
   "id": "3e196f95-d4e4-4b8f-b59c-7a742804c062",
   "metadata": {},
   "source": [
    "3.Comparer les temps de restitution des différentes implémentations en variant le nombre de workers."
   ]
  },
  {
   "cell_type": "code",
   "execution_count": 21,
   "id": "24d06ad9-7f24-4324-ab16-039320425eb5",
   "metadata": {},
   "outputs": [],
   "source": [
    "def measure_time(function, num_workers, A, B):\n",
    "    tic = time.time()\n",
    "    C = function(A, B, num_workers)\n",
    "    toc = time.time()\n",
    "    duration = toc-tic\n",
    "    return duration\n",
    "\n",
    "def compare_performance(A, B, worker_counts):\n",
    "    mp_times = []\n",
    "    mt_times = []\n",
    "    \n",
    "    for num_workers in worker_counts:\n",
    "        mp_times.append(measure_time(Produit_mp, num_workers, A, B))\n",
    "        mt_times.append(measure_time(Produit_mt, num_workers, A, B))\n",
    "    \n",
    "    plt.figure(figsize=(10, 5))\n",
    "    plt.plot(worker_counts, mp_times, label='Multiprocessing', marker='o')\n",
    "    plt.plot(worker_counts, mt_times, label='Multithreading', marker='s')\n",
    "    plt.xlabel('Number of Workers')\n",
    "    plt.ylabel('Execution Time (seconds)')\n",
    "    plt.title('Comparison of Execution Times')\n",
    "    plt.legend()\n",
    "    plt.grid()\n",
    "    plt.show()"
   ]
  },
  {
   "cell_type": "code",
   "execution_count": 22,
   "id": "f2a1a5ae",
   "metadata": {},
   "outputs": [
    {
     "data": {
      "image/png": "[encoded data removed]",
      "text/plain": [
       "<Figure size 1000x500 with 1 Axes>"
      ]
     },
     "metadata": {},
     "output_type": "display_data"
    }
   ],
   "source": [
    "worker_counts = [1, 2, 4, 8, 16]\n",
    "compare_performance(\"A.npz\", \"B.npz\", worker_counts)"
   ]
  }
 ],
 "metadata": {
  "kernelspec": {
   "display_name": "Python 3",
   "language": "python",
   "name": "python3"
  },
  "language_info": {
   "codemirror_mode": {
    "name": "ipython",
    "version": 3
   },
   "file_extension": ".py",
   "mimetype": "text/x-python",
   "name": "python",
   "nbconvert_exporter": "python",
   "pygments_lexer": "ipython3",
   "version": "3.10.12"
  }
 },
 "nbformat": 4,
 "nbformat_minor": 5
}
