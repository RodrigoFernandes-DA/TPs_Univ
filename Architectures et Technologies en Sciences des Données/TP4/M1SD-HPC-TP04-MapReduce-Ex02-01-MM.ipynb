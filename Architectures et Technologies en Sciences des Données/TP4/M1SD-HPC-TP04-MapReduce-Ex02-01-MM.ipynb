{
 "cells": [
  {
   "cell_type": "markdown",
   "id": "6ae776b0-6c3b-4dd7-befb-a3623fab52a3",
   "metadata": {},
   "source": [
    "# TP04 MapReduce - Multiplication Matricielle\n",
    "# Matrice A et B complètes"
   ]
  },
  {
   "cell_type": "markdown",
   "id": "44e5c620-788e-4ca0-967b-618c62e6fdbe",
   "metadata": {},
   "source": [
    "## Chargement des matrices A et B"
   ]
  },
  {
   "cell_type": "code",
   "execution_count": 7,
   "id": "b11caf0c-edfa-4701-8a85-4238c195bb37",
   "metadata": {},
   "outputs": [
    {
     "name": "stderr",
     "output_type": "stream",
     "text": [
      "/usr/local/lib/python3.10/dist-packages/matplotlib/projections/__init__.py:63: UserWarning: Unable to import Axes3D. This may be due to multiple versions of Matplotlib being installed (e.g. as a system package and as a pip package). As a result, the 3D projection is not available.\n",
      "  warnings.warn(\"Unable to import Axes3D. This may be due to multiple versions of \"\n"
     ]
    }
   ],
   "source": [
    "import numpy as np\n",
    "import time\n",
    "from concurrent.futures import ProcessPoolExecutor\n",
    "from concurrent.futures import ThreadPoolExecutor\n",
    "import matplotlib.pyplot as plt"
   ]
  },
  {
   "cell_type": "code",
   "execution_count": 2,
   "id": "67ecd575-f105-47a1-9244-e3f599552a4e",
   "metadata": {},
   "outputs": [
    {
     "name": "stdout",
     "output_type": "stream",
     "text": [
      "Matrice A : (100, 10000)\n",
      "Matrice B : (10000, 100)\n"
     ]
    }
   ],
   "source": [
    "A = np.load(\"A.npy\")\n",
    "B = np.load(\"B.npy\")\n",
    "\n",
    "# Affichage des dimensions pour vérification\n",
    "print(f\"Matrice A : {A.shape}\")\n",
    "print(f\"Matrice B : {B.shape}\")"
   ]
  },
  {
   "cell_type": "code",
   "execution_count": 3,
   "id": "98c9cc61-8edc-4b0c-87c1-7961bf7685f2",
   "metadata": {},
   "outputs": [],
   "source": [
    "C_numpy = A @ B"
   ]
  },
  {
   "cell_type": "markdown",
   "id": "b99154fe-2496-44bb-9baa-13aba8bc9bdb",
   "metadata": {},
   "source": [
    "## Questions"
   ]
  },
  {
   "cell_type": "markdown",
   "id": "9e59f5da-5eec-41e5-ac08-76d29b1c9077",
   "metadata": {},
   "source": [
    "1. Ecrire un algorithme MapReduce qui calcule le produit matriciel de A et B en **multithreading** dans lequel chaque worker réalise le calcul d’un ou plusieurs $c_{ij}$"
   ]
  },
  {
   "cell_type": "code",
   "execution_count": 22,
   "id": "7ae544b9-1ead-4326-bfa8-e6b52f2a7190",
   "metadata": {},
   "outputs": [],
   "source": [
    "def compute_element(args):\n",
    "    \"\"\" Calcule un élément c_ij du produit matriciel C = A * B \"\"\"\n",
    "    A, B, i, j = args\n",
    "    return i, j, sum(A[i, k] * B[k, j] for k in range(A.shape[1]))\n",
    "\n",
    "def Produit_mp(A,B):\n",
    "    C = np.zeros((A.shape[0], B.shape[1]))\n",
    "\n",
    "    # Liste des tâches à répartir entre les workers\n",
    "    tasks = [(A, B, i, j) for i in range(A.shape[0]) for j in range(B.shape[1])]\n",
    "    print(tast)\n",
    "\n",
    "    # Liste des tâches à répartir entre les workers\n",
    "    tic = time.time()\n",
    "    with ThreadPoolExecutor(4) as t_exe:\n",
    "        results = t_exe.map(compute_element, tasks)\n",
    "    toc = time.time()\n",
    "\n",
    "    # Remplissage de la matrice résultat\n",
    "    for i, j, value in results:\n",
    "        C[i, j] = value\n",
    "\n",
    "    print(f\"{(toc - tic):.2f} seconds for MT\")\n",
    "    return C\n"
   ]
  },
  {
   "cell_type": "code",
   "execution_count": 14,
   "id": "fdeae8a5",
   "metadata": {},
   "outputs": [
    {
     "name": "stdout",
     "output_type": "stream",
     "text": [
      "30.61 seconds for MT\n",
      "CPU times: user 30.4 s, sys: 156 ms, total: 30.6 s\n",
      "Wall time: 30.6 s\n"
     ]
    }
   ],
   "source": [
    "%time C_mt = Produit_mp(A,B)"
   ]
  },
  {
   "cell_type": "code",
   "execution_count": 23,
   "id": "c3886654",
   "metadata": {},
   "outputs": [
    {
     "ename": "NameError",
     "evalue": "name 'parallel_matrix_multiplication' is not defined",
     "output_type": "error",
     "traceback": [
      "\u001b[0;31m---------------------------------------------------------------------------\u001b[0m",
      "\u001b[0;31mNameError\u001b[0m                                 Traceback (most recent call last)",
      "Cell \u001b[0;32mIn[23], line 6\u001b[0m\n\u001b[1;32m      3\u001b[0m A \u001b[38;5;241m=\u001b[39m np\u001b[38;5;241m.\u001b[39marray([[\u001b[38;5;241m1\u001b[39m, \u001b[38;5;241m2\u001b[39m, \u001b[38;5;241m3\u001b[39m], [\u001b[38;5;241m4\u001b[39m, \u001b[38;5;241m5\u001b[39m, \u001b[38;5;241m6\u001b[39m]])\n\u001b[1;32m      4\u001b[0m B \u001b[38;5;241m=\u001b[39m np\u001b[38;5;241m.\u001b[39marray([[\u001b[38;5;241m7\u001b[39m, \u001b[38;5;241m8\u001b[39m], [\u001b[38;5;241m9\u001b[39m, \u001b[38;5;241m10\u001b[39m], [\u001b[38;5;241m11\u001b[39m, \u001b[38;5;241m12\u001b[39m]])\n\u001b[0;32m----> 6\u001b[0m C \u001b[38;5;241m=\u001b[39m \u001b[43mparallel_matrix_multiplication\u001b[49m(A, B)\n\u001b[1;32m      7\u001b[0m \u001b[38;5;28mprint\u001b[39m(\u001b[38;5;124m\"\u001b[39m\u001b[38;5;124mMatrice A:\u001b[39m\u001b[38;5;124m\"\u001b[39m)\n\u001b[1;32m      8\u001b[0m \u001b[38;5;28mprint\u001b[39m(A)\n",
      "\u001b[0;31mNameError\u001b[0m: name 'parallel_matrix_multiplication' is not defined"
     ]
    }
   ],
   "source": [
    "if __name__ == \"__main__\":\n",
    "    # Exemple d'utilisation\n",
    "    A = np.array([[1, 2, 3], [4, 5, 6]])\n",
    "    B = np.array([[7, 8], [9, 10], [11, 12]])\n",
    "    \n",
    "    C = parallel_matrix_multiplication(A, B)\n",
    "    print(\"Matrice A:\")\n",
    "    print(A)\n",
    "    print(\"\\nMatrice B:\")\n",
    "    print(B)\n",
    "    print(\"\\nProduit matriciel A * B:\")\n",
    "    print(C)\n"
   ]
  },
  {
   "cell_type": "markdown",
   "id": "d88349c3-57c7-4b58-abc6-0146f57f71b5",
   "metadata": {},
   "source": [
    "2. Ecrire un algorithme MapReduce qui calcule le produit matriciel de A et B en **mutiprocessing** dans lequel chaque worker réalise le calcul d’un ou plusieurs $c_{ij}$"
   ]
  },
  {
   "cell_type": "code",
   "execution_count": 13,
   "id": "e7f1a550-65f0-4414-9c79-c6fa5cd4db4e",
   "metadata": {},
   "outputs": [],
   "source": [
    "#TODO"
   ]
  },
  {
   "cell_type": "markdown",
   "id": "3e196f95-d4e4-4b8f-b59c-7a742804c062",
   "metadata": {},
   "source": [
    "3.Comparer les temps de restitution des différentes implémentations en variant le nombre de workers."
   ]
  },
  {
   "cell_type": "code",
   "execution_count": 12,
   "id": "24d06ad9-7f24-4324-ab16-039320425eb5",
   "metadata": {},
   "outputs": [],
   "source": [
    "#TODO"
   ]
  }
 ],
 "metadata": {
  "kernelspec": {
   "display_name": "Python 3 (ipykernel)",
   "language": "python",
   "name": "python3"
  },
  "language_info": {
   "codemirror_mode": {
    "name": "ipython",
    "version": 3
   },
   "file_extension": ".py",
   "mimetype": "text/x-python",
   "name": "python",
   "nbconvert_exporter": "python",
   "pygments_lexer": "ipython3",
   "version": "3.10.12"
  }
 },
 "nbformat": 4,
 "nbformat_minor": 5
}
