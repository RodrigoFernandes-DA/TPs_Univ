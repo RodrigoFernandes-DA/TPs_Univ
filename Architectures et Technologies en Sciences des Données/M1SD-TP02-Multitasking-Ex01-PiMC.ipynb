{
 "cells": [
  {
   "cell_type": "markdown",
   "id": "962d1571-c00b-4c5d-a623-19fcf7a5a0e4",
   "metadata": {},
   "source": [
    "# TP 2 Multitâches\n",
    "# Exercice 1 - Pi Monte Carlo\n",
    "\n",
    "## Introduction\n",
    "\n",
    "Cet exercice nécessite le package **Numba**. \n",
    "\n",
    "Ce TP a pour but de paralléliser l'algorithme de pi par Monte Carlo en utilisant **multithreading** et **multiprocessing**."
   ]
  },
  {
   "cell_type": "code",
   "execution_count": 9,
   "id": "f890c3a7-281c-4a6d-9205-1f4554fcdc21",
   "metadata": {},
   "outputs": [],
   "source": [
    "import numpy as np\n",
    "from numba import njit\n",
    "import time\n",
    "from concurrent.futures import ProcessPoolExecutor\n",
    "from concurrent.futures import ThreadPoolExecutor"
   ]
  },
  {
   "cell_type": "markdown",
   "id": "e7c62416-f454-4844-acbb-e9f5224313e0",
   "metadata": {},
   "source": [
    "La méthode `pick` tire `n` coups dans le carré $[-1,1] \\times [-1,1]$ et retourne le nombre de coups tirés dans le disque inscrit au carré."
   ]
  },
  {
   "cell_type": "code",
   "execution_count": 2,
   "id": "4e32d789-d755-4dc9-8211-658a9090d486",
   "metadata": {},
   "outputs": [],
   "source": [
    "@njit\n",
    "def pick(n):\n",
    "    '''\n",
    "    input : n nombre de tirage dans le carre [-1, 1]\n",
    "    output: count_inside nombre de coups tires dans le disque inscrit au carre\n",
    "    '''\n",
    "    count_inside = 0\n",
    "    for i in range(n):\n",
    "        x, y = np.random.random(2) * 2 - 1\n",
    "        if x**2 + y**2 <= 1: count_inside += 1\n",
    "    return count_inside"
   ]
  },
  {
   "cell_type": "markdown",
   "id": "db1e6d3f-ce50-46d4-801e-2095c9bce29d",
   "metadata": {},
   "source": [
    "La méthode pi_mc appel la méthode pick sur la valeur n et retourne la valeur approchée $\\pi$ par la formule $4 \\times p_C/p_T$ où $p_C$ désigne le nombre de coups dans le disque et $p_T$ le nombre de coups total."
   ]
  },
  {
   "cell_type": "code",
   "execution_count": 8,
   "id": "742e7e93-7663-4805-ae95-9bec92a03af1",
   "metadata": {},
   "outputs": [
    {
     "name": "stdout",
     "output_type": "stream",
     "text": [
      "For 10000 picks and 1 process, the approximation of pi is 3.1424 compute in 0.004734992980957031 seconds\n",
      "For 10000000 picks and 1 process, the approximation of pi is 3.1411464 compute in 0.8369674682617188 seconds\n"
     ]
    }
   ],
   "source": [
    "def pi_mc(n):\n",
    "    '''\n",
    "    input : n nombre de tirage dans le carré [-1, 1]\n",
    "    output : api : valeur de pi calculée par Monte Carlo\n",
    "    '''\n",
    "    tic = time.time()\n",
    "    api = 4 * pick(n) / n\n",
    "    toc = time.time()\n",
    "    print(f'For {n} picks and 1 process, the approximation of pi is {api} compute in {toc - tic} seconds')\n",
    "    return api\n",
    "\n",
    "if (__name__ == \"__main__\"):\n",
    "    n = 10_000\n",
    "    pi_mc(n)\n",
    "\n",
    "    n = 10_000_000\n",
    "    pi_mc(n)"
   ]
  },
  {
   "cell_type": "markdown",
   "id": "fd4f9d7a-bfdb-487a-a783-266b2e962429",
   "metadata": {},
   "source": [
    "\n",
    "## 1 - Parallélisation avec multiprocessing\n",
    "\n",
    "1.a) Sur la base de `pi_mc` créer une fonction `pi_mc_mp` qui répartit le travail entre plusieurs processus à l'aide de `multiprocessing` comme vu en cours.\n"
   ]
  },
  {
   "cell_type": "code",
   "execution_count": 4,
   "id": "eb735296",
   "metadata": {},
   "outputs": [
    {
     "name": "stdout",
     "output_type": "stream",
     "text": [
      "For 10000 picks and 10 processes, the approximation of pi is 3.1764 compute in 0.2568488121032715 seconds\n"
     ]
    }
   ],
   "source": [
    "def pi_mc_mp(n,p):\n",
    "    tic = time.time()\n",
    "    chunk = [n//p for i in range(p)]\n",
    "    p_exe = ProcessPoolExecutor()\n",
    "    result = [res for res in p_exe.map(pick,chunk)]\n",
    "    count = sum(result)\n",
    "    pi = 4 * count / n\n",
    "    toc = time.time()\n",
    "    print(f'For {n} picks and {p} processes, the approximation of pi is {pi} compute in {toc - tic} seconds')\n",
    "\n",
    "\n",
    "if (__name__ == \"__main__\"):\n",
    "    n = 10000 #int(sys.argv[1])\n",
    "    p = 10\n",
    "    pi_mc_mp(n,p)\n"
   ]
  },
  {
   "cell_type": "markdown",
   "id": "fc671f5d-73f4-4630-a082-612dec803dbd",
   "metadata": {},
   "source": [
    "1.b) Mesurer les temps de restitution en variant le nombre de tir et le nombre de processus."
   ]
  },
  {
   "cell_type": "code",
   "execution_count": 5,
   "id": "298c529c",
   "metadata": {},
   "outputs": [
    {
     "name": "stdout",
     "output_type": "stream",
     "text": [
      "For 10000 picks and 10 processes, the approximation of pi is 3.148 compute in 0.042574405670166016 seconds\n",
      "For 10000 picks and 20 processes, the approximation of pi is 3.118 compute in 0.0457758903503418 seconds\n",
      "For 10000 picks and 50 processes, the approximation of pi is 3.146 compute in 0.05580639839172363 seconds\n",
      "For 10000 picks and 100 processes, the approximation of pi is 3.1336 compute in 0.08130240440368652 seconds\n",
      "For 10000000 picks and 10 processes, the approximation of pi is 3.1419704 compute in 0.21980714797973633 seconds\n",
      "For 10000000 picks and 50 processes, the approximation of pi is 3.14177 compute in 0.19802546501159668 seconds\n",
      "For 10000000 picks and 100 processes, the approximation of pi is 3.1423064 compute in 0.2676541805267334 seconds\n",
      "For 10000000 picks and 1000 processes, the approximation of pi is 3.1416508 compute in 0.5803806781768799 seconds\n"
     ]
    }
   ],
   "source": [
    "values_n = [10_000, 10_000, 10_000, 10_000, 10_000_000, 10_000_000, 10_000_000, 10_000_000]\n",
    "values_p = [10, 20, 50, 100, 10, 50, 100, 1000]\n",
    "\n",
    "for i in range(len(values_n)):\n",
    "    pi_mc_mp(values_n[i], values_p[i])"
   ]
  },
  {
   "cell_type": "markdown",
   "id": "e11738f6",
   "metadata": {},
   "source": [
    "Nous pouvons constater que l’augmentation du nombre de processus a tendance à entraîner une légère augmentation du temps d’exécution.\n",
    "\n",
    "Diviser le travail en plusieurs processus accélère le processus par rapport à la fonction pi_mc() dans le cas de 10_000_000 picks. Cependant, dans le cas de seulement 10 000 sélections, le multitraitement est moins efficace, probablement en raison de la nécessité de transférer des informations entre les processus et d'effectuer d'autres étapes de division de blocs."
   ]
  },
  {
   "cell_type": "markdown",
   "id": "02147690-4314-4805-9341-f97b0158311b",
   "metadata": {},
   "source": [
    "\n",
    "## 2 - Parallélisation avec multithreading\n",
    "\n",
    "2.a) Sur la base de `pi_mc_mp` créer une fonction `pi_mc_mt` qui répartit le travail entre plusieurs threads à l'aide de `multithreading` comme vu en cours.\n"
   ]
  },
  {
   "cell_type": "code",
   "execution_count": 6,
   "id": "0ea061cc-5084-423b-bc0f-55d298e09842",
   "metadata": {},
   "outputs": [
    {
     "name": "stdout",
     "output_type": "stream",
     "text": [
      "For 10000 picks and 10 processes, the approximation of pi is 3.142 compute in 0.0029447078704833984 seconds\n"
     ]
    }
   ],
   "source": [
    "def pi_mc_mt(n,p):\n",
    "    tic = time.time()\n",
    "    chunk = [n//p for i in range(p)]\n",
    "    t_exe = ThreadPoolExecutor()\n",
    "    result = [res for res in t_exe.map(pick,chunk)]\n",
    "    count = sum(result)\n",
    "    pi = 4 * count / n\n",
    "    toc = time.time()\n",
    "    print(f'For {n} picks and {p} processes, the approximation of pi is {pi} compute in {toc - tic} seconds')\n",
    "\n",
    "\n",
    "if (__name__ == \"__main__\"):\n",
    "    n = 10000 #int(sys.argv[1])\n",
    "    p = 10\n",
    "    pi_mc_mt(n,p)"
   ]
  },
  {
   "cell_type": "markdown",
   "id": "5b28ae18-d6e7-4e5b-acaa-7062412558ae",
   "metadata": {},
   "source": [
    "2.b) Mesurer les temps de restitution en variant le nombre de tir et le nombre de processus. Comparer avec la méthode précédente."
   ]
  },
  {
   "cell_type": "code",
   "execution_count": 7,
   "id": "615561df-21ea-4476-ade6-346830d9df22",
   "metadata": {},
   "outputs": [
    {
     "name": "stdout",
     "output_type": "stream",
     "text": [
      "For 10000 picks and 10 processes, the approximation of pi is 3.1536 compute in 0.002092123031616211 seconds\n",
      "For 10000 picks and 20 processes, the approximation of pi is 3.1456 compute in 0.0030694007873535156 seconds\n",
      "For 10000 picks and 50 processes, the approximation of pi is 3.1284 compute in 0.0050199031829833984 seconds\n",
      "For 10000 picks and 100 processes, the approximation of pi is 3.1404 compute in 0.0035648345947265625 seconds\n",
      "For 10000000 picks and 10 processes, the approximation of pi is 3.14127 compute in 0.7681381702423096 seconds\n",
      "For 10000000 picks and 50 processes, the approximation of pi is 3.1420716 compute in 0.7781856060028076 seconds\n",
      "For 10000000 picks and 100 processes, the approximation of pi is 3.1417544 compute in 0.7970001697540283 seconds\n",
      "For 10000000 picks and 1000 processes, the approximation of pi is 3.1421096 compute in 0.8204166889190674 seconds\n"
     ]
    }
   ],
   "source": [
    "for i in range(len(values_n)):\n",
    "    pi_mc_mt(values_n[i], values_p[i])"
   ]
  },
  {
   "cell_type": "markdown",
   "id": "54306192",
   "metadata": {},
   "source": [
    "En divisant le travail en différents threads, le temps d'exécution est considérablement inférieur à celui de l'appel de fonction pi_mc() habituel. De plus, l'augmentation du nombre de sélections et de processus continue d'augmenter le temps d'exécution de la fonction.\n",
    "\n",
    "Il convient de mentionner que pour que la parallélisation soit possible, il faut que :\n",
    "- l'algorithme est parallélisable\n",
    "- Le système opérationnel l'accepte\n",
    "- La langue est l'accepte\n",
    "- Il y a suffisamment de ressources matérielles\n",
    "\n",
    "Les trois premières conditions sont toujours remplies pour cet exercice. Par conséquent, comme l’augmentation du nombre de threads entraîne un coût, une augmentation importante du nombre de processus peut atteindre la limite des ressources matérielles, ce qui peut avoir un impact sur ces résultats."
   ]
  }
 ],
 "metadata": {
  "kernelspec": {
   "display_name": "Python 3 (ipykernel)",
   "language": "python",
   "name": "python3"
  },
  "language_info": {
   "codemirror_mode": {
    "name": "ipython",
    "version": 3
   },
   "file_extension": ".py",
   "mimetype": "text/x-python",
   "name": "python",
   "nbconvert_exporter": "python",
   "pygments_lexer": "ipython3",
   "version": "3.10.12"
  }
 },
 "nbformat": 4,
 "nbformat_minor": 5
}
