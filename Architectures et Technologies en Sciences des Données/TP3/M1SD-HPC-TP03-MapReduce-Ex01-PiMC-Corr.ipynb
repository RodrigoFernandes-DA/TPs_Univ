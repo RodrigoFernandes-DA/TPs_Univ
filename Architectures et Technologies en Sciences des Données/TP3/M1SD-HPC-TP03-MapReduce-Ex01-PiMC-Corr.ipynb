{
 "cells": [
  {
   "cell_type": "markdown",
   "id": "962d1571-c00b-4c5d-a623-19fcf7a5a0e4",
   "metadata": {},
   "source": [
    "# M1SD TP03 $\\pi$ Monte Carlo"
   ]
  },
  {
   "cell_type": "code",
   "execution_count": 1,
   "id": "f890c3a7-281c-4a6d-9205-1f4554fcdc21",
   "metadata": {
    "tags": []
   },
   "outputs": [],
   "source": [
    "import numpy as np"
   ]
  },
  {
   "cell_type": "code",
   "execution_count": 27,
   "id": "e53b3726-fd16-486e-82f9-5926983f7d8c",
   "metadata": {
    "tags": []
   },
   "outputs": [],
   "source": [
    "import time"
   ]
  },
  {
   "cell_type": "markdown",
   "id": "38d9d633-339f-480e-b448-dc32c42ad7f4",
   "metadata": {},
   "source": [
    "La méthode `pick_np`\n",
    " prend en entrée un ndarray de dimension `(2, n)` chaque ligne représentant respectivement les coordonnées $x,y$ d'un point dans le carré $[-1,1]$ et retourne une approximation de $\\pi$ avec un masque numpy."
   ]
  },
  {
   "cell_type": "code",
   "execution_count": 2,
   "id": "5843e3f0-129e-4c17-ac65-851473585afe",
   "metadata": {
    "tags": []
   },
   "outputs": [],
   "source": [
    "def pick_np(xxyy):\n",
    "    '''\n",
    "    input : xxyy ndarray de n coordonnées (x,y) dans le carre [-1, 1]\n",
    "    output: count_inside nombre de coups tires dans le disque inscrit au carre\n",
    "    '''\n",
    "    norm = np.linalg.norm(xxyy, axis=0)\n",
    "    count = np.sum(norm <= 1)\n",
    "    return count"
   ]
  },
  {
   "cell_type": "code",
   "execution_count": 28,
   "id": "4f9f1ee0-7041-430b-9c95-bff33d834f29",
   "metadata": {
    "tags": []
   },
   "outputs": [],
   "source": [
    "def pi_mc_np(n):\n",
    "    '''\n",
    "    input : n nombre de tirage dans le carré [-1, 1]\n",
    "    output : api : valeur de pi calculée par Monte Carlo\n",
    "    '''\n",
    "    xxyy =np.random.uniform(-1, 1, size=(2, n))\n",
    "    api = 4 * pick_np(xxyy) / n\n",
    "    return api"
   ]
  },
  {
   "cell_type": "code",
   "execution_count": 23,
   "id": "4fa1e6c6-f629-4a52-b3e1-a4a1ccb83b2d",
   "metadata": {
    "tags": []
   },
   "outputs": [],
   "source": [
    "n = 1_000_000_000"
   ]
  },
  {
   "cell_type": "code",
   "execution_count": 29,
   "id": "1dcdac21-5df9-4d5d-b9c3-72e4030cde00",
   "metadata": {
    "tags": []
   },
   "outputs": [
    {
     "name": "stdout",
     "output_type": "stream",
     "text": [
      "CPU times: user 19.2 s, sys: 3.69 s, total: 22.9 s\n",
      "Wall time: 23 s\n"
     ]
    },
    {
     "data": {
      "text/plain": [
       "3.141707456"
      ]
     },
     "execution_count": 29,
     "metadata": {},
     "output_type": "execute_result"
    }
   ],
   "source": [
    "%time pi_mc_np(n)"
   ]
  },
  {
   "cell_type": "markdown",
   "id": "705021f7-0318-48b5-ae1b-73d0183a6bdf",
   "metadata": {},
   "source": [
    "## Splitting\n",
    "1. À l’aide de numpy diviser le ndarray en sous-tableaux et à l’aide de la méthode `map` appliquer `pick_np` à chaque sous-tableau et effectuer une réduction sur l’ensemble des valeurs calculées."
   ]
  },
  {
   "cell_type": "code",
   "execution_count": 43,
   "id": "2edda410-f3db-4102-a0b2-4433a1b59126",
   "metadata": {
    "tags": []
   },
   "outputs": [],
   "source": [
    "def pi_mc_np_split(n):\n",
    "    '''\n",
    "    input : n nombre de tirage dans le carré [-1, 1]\n",
    "    output : api : valeur de pi calculée par Monte Carlo\n",
    "    '''\n",
    "    xxyy =np.random.uniform(-1, 1, size=(2, n))\n",
    "    l = np.split(xxyy,10,axis=1)\n",
    "    tic = time.time()\n",
    "    result = sum(list(map(pick_np,l)))\n",
    "    toc = time.time()\n",
    "    print(f\"{toc - tic} seconds for {n} picks in sequential map\")\n",
    "    api = 4 * result / n\n",
    "    return api"
   ]
  },
  {
   "cell_type": "code",
   "execution_count": 44,
   "id": "ade5c9e8-9b44-47ef-8458-8f330dfe84a4",
   "metadata": {
    "tags": []
   },
   "outputs": [
    {
     "name": "stdout",
     "output_type": "stream",
     "text": [
      "6.923130989074707 seconds for 1000000000 picks in sequential map\n",
      "CPU times: user 19.2 s, sys: 3.73 s, total: 22.9 s\n",
      "Wall time: 23 s\n"
     ]
    },
    {
     "data": {
      "text/plain": [
       "3.141615036"
      ]
     },
     "execution_count": 44,
     "metadata": {},
     "output_type": "execute_result"
    }
   ],
   "source": [
    "%time pi_mc_np_split(n)"
   ]
  },
  {
   "cell_type": "code",
   "execution_count": null,
   "id": "4b2c8b4e-28a5-4fc2-9a83-008e3c841145",
   "metadata": {
    "jupyter": {
     "source_hidden": true
    },
    "tags": []
   },
   "outputs": [],
   "source": [
    "%time xxyy =np.random.uniform(-1, 1, size=(2, n))\n",
    "%time res1 = 4 * pick_np(xxyy) / n\n",
    "%time l = np.split(xxyy,10,axis=1)\n",
    "%time res2 = 4 * sum(list(map(pick_np,l))) / n"
   ]
  },
  {
   "cell_type": "code",
   "execution_count": null,
   "id": "c27cafbf-6b1f-40a2-9d0c-08ba71cda0db",
   "metadata": {
    "jupyter": {
     "source_hidden": true
    },
    "tags": []
   },
   "outputs": [],
   "source": [
    "res1, res2"
   ]
  },
  {
   "cell_type": "markdown",
   "id": "07bc0818-a95b-415b-a1ac-24ce1c03a399",
   "metadata": {},
   "source": [
    "## Multiprocessing\n",
    "1. Appliquer l’algorithme suivant en distribuant les calculs parmis les *workers* d’un `PoolProcessPoolExecutor`.\n",
    "2. Mesurer les temps de restitution en variant le nombre de tir et le nombre de processus."
   ]
  },
  {
   "cell_type": "code",
   "execution_count": 8,
   "id": "57f25220-153b-42ec-b912-e8e664c829c5",
   "metadata": {
    "tags": []
   },
   "outputs": [],
   "source": [
    "from concurrent.futures import ProcessPoolExecutor"
   ]
  },
  {
   "cell_type": "code",
   "execution_count": 32,
   "id": "9d364055-f565-4930-ae74-f597509335af",
   "metadata": {
    "tags": []
   },
   "outputs": [],
   "source": [
    "def pi_mc_np_mp(n):\n",
    "    '''\n",
    "    input : n nombre de tirage dans le carré [-1, 1]\n",
    "    output : api : valeur de pi calculée par Monte Carlo\n",
    "    '''\n",
    "    xxyy =np.random.uniform(-1, 1, size=(2, n))\n",
    "    l = np.split(xxyy,10,axis=1)\n",
    "    tic = time.time()\n",
    "    with ProcessPoolExecutor(4) as p_exe:\n",
    "        result = sum(list(p_exe.map(pick_np,l)))\n",
    "    toc = time.time()\n",
    "    print(f\"{toc - tic} seconds for {n} picks in MP\")\n",
    "    api = 4 * result / n\n",
    "    return api"
   ]
  },
  {
   "cell_type": "code",
   "execution_count": 45,
   "id": "9548cf85-a54a-4d3f-bbf0-33223ac45e5d",
   "metadata": {
    "tags": []
   },
   "outputs": [
    {
     "name": "stdout",
     "output_type": "stream",
     "text": [
      "19.295588731765747 seconds for 1000000000 picks in MP\n",
      "CPU times: user 22.6 s, sys: 7.79 s, total: 30.4 s\n",
      "Wall time: 35.4 s\n"
     ]
    },
    {
     "data": {
      "text/plain": [
       "3.141582468"
      ]
     },
     "execution_count": 45,
     "metadata": {},
     "output_type": "execute_result"
    }
   ],
   "source": [
    "%time pi_mc_np_mp(n)"
   ]
  },
  {
   "cell_type": "markdown",
   "id": "7f76639a-6120-4a39-bc21-763718e27d5a",
   "metadata": {},
   "source": [
    "## Multithreading\n",
    "1. Appliquer l’algorithme suivant en distribuant les calculs parmis les *workers* d’un `ThreadPoolExecutor`.\n",
    "2. Mesurer les temps de restitution en variant le nombre de tir et le nombre de thread.\n",
    "3. Comparer avec les versions précédentes."
   ]
  },
  {
   "cell_type": "code",
   "execution_count": 11,
   "id": "6f195a5f-53cc-4651-9d5f-a70d79c7f2e2",
   "metadata": {
    "tags": []
   },
   "outputs": [],
   "source": [
    "from concurrent.futures import ThreadPoolExecutor"
   ]
  },
  {
   "cell_type": "code",
   "execution_count": 34,
   "id": "572005e1-3841-43a4-946e-619258099041",
   "metadata": {
    "tags": []
   },
   "outputs": [],
   "source": [
    "def pi_mc_np_mt(n):\n",
    "    '''\n",
    "    input : n nombre de tirage dans le carré [-1, 1]\n",
    "    output : api : valeur de pi calculée par Monte Carlo\n",
    "    '''\n",
    "    xxyy =np.random.uniform(-1, 1, size=(2, n))\n",
    "    l = np.split(xxyy,10,axis=1)\n",
    "    tic = time.time()\n",
    "    with ThreadPoolExecutor(4) as t_exe:\n",
    "        result = sum(list(t_exe.map(pick_np,l)))\n",
    "    toc = time.time()\n",
    "    print(f\"{toc - tic} seconds for {n} picks in MT\")\n",
    "    api = 4 * result / n\n",
    "    return api"
   ]
  },
  {
   "cell_type": "code",
   "execution_count": 46,
   "id": "9efc8272-4a07-4678-88c8-97e360d9250e",
   "metadata": {
    "tags": []
   },
   "outputs": [
    {
     "name": "stdout",
     "output_type": "stream",
     "text": [
      "2.620981216430664 seconds for 1000000000 picks in MT\n",
      "CPU times: user 20.5 s, sys: 4.39 s, total: 24.9 s\n",
      "Wall time: 18.7 s\n"
     ]
    },
    {
     "data": {
      "text/plain": [
       "3.141618232"
      ]
     },
     "execution_count": 46,
     "metadata": {},
     "output_type": "execute_result"
    }
   ],
   "source": [
    "%time pi_mc_np_mt(n)"
   ]
  },
  {
   "cell_type": "markdown",
   "id": "2be91c56-5649-4d30-8ba6-1d947a4a6cf4",
   "metadata": {},
   "source": [
    "## Optimisation\n",
    "1. Modifier les méthodes suivantes afin de ne générer temporairement que les sous-tableaux.\n",
    "2. Effectuer de nouvelles mesures de performance."
   ]
  },
  {
   "cell_type": "code",
   "execution_count": 47,
   "id": "c779666c-71dc-4e6b-a16c-8cd8d51132c4",
   "metadata": {
    "tags": []
   },
   "outputs": [],
   "source": [
    "def pick_np_opt(n):\n",
    "    xxyy =np.random.uniform(-1, 1, size=(2, n))\n",
    "    norm = np.linalg.norm(xxyy, axis=0)\n",
    "    count = np.sum(norm <= 1)\n",
    "    return count"
   ]
  },
  {
   "cell_type": "code",
   "execution_count": 48,
   "id": "f507d9a8-9f73-4df5-9c63-94d33d17c4ad",
   "metadata": {
    "tags": []
   },
   "outputs": [],
   "source": [
    "def pi_mc_np_opt(n):\n",
    "    '''\n",
    "    input : n nombre de tirage dans le carré [-1, 1]\n",
    "    output : api : valeur de pi calculée par Monte Carlo\n",
    "    '''\n",
    "    api = 4 * pick_np_opt(n) / n\n",
    "    return api"
   ]
  },
  {
   "cell_type": "code",
   "execution_count": 49,
   "id": "c6fcd85b-54d9-4b09-a270-5a4ce8cbe4b0",
   "metadata": {
    "tags": []
   },
   "outputs": [],
   "source": [
    "def pi_mc_np_split_opt(n):\n",
    "    '''\n",
    "    input : n nombre de tirage dans le carré [-1, 1]\n",
    "    output : api : valeur de pi calculée par Monte Carlo\n",
    "    '''\n",
    "    l = [n//10 for i in range(10)]\n",
    "    tic = time.time()\n",
    "    result = sum(list(map(pick_np_opt,l)))\n",
    "    toc = time.time()\n",
    "    print(f\"{toc - tic} seconds for {n} picks in sequential map\")\n",
    "    api = 4 * result / n\n",
    "    return api"
   ]
  },
  {
   "cell_type": "code",
   "execution_count": 50,
   "id": "de7b9b87-7279-4d2a-a844-343f58c32f1b",
   "metadata": {
    "tags": []
   },
   "outputs": [
    {
     "name": "stdout",
     "output_type": "stream",
     "text": [
      "CPU times: user 19.2 s, sys: 3.69 s, total: 22.9 s\n",
      "Wall time: 22.9 s\n"
     ]
    },
    {
     "data": {
      "text/plain": [
       "3.141568112"
      ]
     },
     "execution_count": 50,
     "metadata": {},
     "output_type": "execute_result"
    }
   ],
   "source": [
    "%time pi_mc_np_opt(n)"
   ]
  },
  {
   "cell_type": "code",
   "execution_count": 51,
   "id": "1e9ae5c9-4340-4af6-9a94-1d3e2f152976",
   "metadata": {
    "tags": []
   },
   "outputs": [
    {
     "name": "stdout",
     "output_type": "stream",
     "text": [
      "22.949807167053223 seconds for 1000000000 picks in sequential map\n",
      "CPU times: user 19.2 s, sys: 3.69 s, total: 22.9 s\n",
      "Wall time: 22.9 s\n"
     ]
    },
    {
     "data": {
      "text/plain": [
       "3.141672032"
      ]
     },
     "execution_count": 51,
     "metadata": {},
     "output_type": "execute_result"
    }
   ],
   "source": [
    "%time pi_mc_np_split_opt(n)"
   ]
  },
  {
   "cell_type": "code",
   "execution_count": 52,
   "id": "9f838ba1-f1a2-4de6-a850-4481d98699c8",
   "metadata": {
    "tags": []
   },
   "outputs": [],
   "source": [
    "def pi_mc_np_mp_opt(n):\n",
    "    '''\n",
    "    input : n nombre de tirage dans le carré [-1, 1]\n",
    "    output : api : valeur de pi calculée par Monte Carlo\n",
    "    '''\n",
    "    l = [n//10 for i in range(10)]\n",
    "    tic = time.time()\n",
    "    with ProcessPoolExecutor(4) as p_exe:\n",
    "        result = sum(list(p_exe.map(pick_np_opt,l)))\n",
    "    toc = time.time()\n",
    "    print(f\"{toc - tic} seconds for {n} picks in MP\")\n",
    "    api = 4 * result / n\n",
    "    return api"
   ]
  },
  {
   "cell_type": "code",
   "execution_count": 53,
   "id": "21d742ea-0199-4dd6-a552-14075b8f4508",
   "metadata": {
    "tags": []
   },
   "outputs": [
    {
     "name": "stdout",
     "output_type": "stream",
     "text": [
      "7.835677146911621 seconds for 1000000000 picks in MP\n",
      "CPU times: user 4.07 ms, sys: 10.9 ms, total: 15 ms\n",
      "Wall time: 7.84 s\n"
     ]
    },
    {
     "data": {
      "text/plain": [
       "3.14163236"
      ]
     },
     "execution_count": 53,
     "metadata": {},
     "output_type": "execute_result"
    }
   ],
   "source": [
    "%time pi_mc_np_mp_opt(n)"
   ]
  },
  {
   "cell_type": "code",
   "execution_count": 39,
   "id": "7b83e58e-c592-4610-ac2d-a43070f53a72",
   "metadata": {
    "tags": []
   },
   "outputs": [],
   "source": [
    "def pi_mc_np_mt_opt(n):\n",
    "    '''\n",
    "    input : n nombre de tirage dans le carré [-1, 1]\n",
    "    output : api : valeur de pi calculée par Monte Carlo\n",
    "    '''\n",
    "    l = [n//10 for i in range(10)]\n",
    "    tic = time.time()\n",
    "    with ThreadPoolExecutor(4) as t_exe:\n",
    "        result = sum(list(t_exe.map(pick_np_opt,l)))\n",
    "    toc = time.time()\n",
    "    print(f\"{toc - tic} seconds for {n} picks in MT\")\n",
    "    api = 4 * result / n\n",
    "    return api"
   ]
  },
  {
   "cell_type": "code",
   "execution_count": 54,
   "id": "1ab67e90-7df6-4f2c-b089-eff95c9584c8",
   "metadata": {
    "tags": []
   },
   "outputs": [
    {
     "name": "stdout",
     "output_type": "stream",
     "text": [
      "16.91415524482727 seconds for 1000000000 picks in MT\n",
      "CPU times: user 19.3 s, sys: 3.78 s, total: 23.1 s\n",
      "Wall time: 16.9 s\n"
     ]
    },
    {
     "data": {
      "text/plain": [
       "3.141636188"
      ]
     },
     "execution_count": 54,
     "metadata": {},
     "output_type": "execute_result"
    }
   ],
   "source": [
    "%time pi_mc_np_mt_opt(n)"
   ]
  },
  {
   "cell_type": "code",
   "execution_count": null,
   "id": "28588d12-3872-413a-838d-bbdbf5d751f9",
   "metadata": {},
   "outputs": [],
   "source": []
  }
 ],
 "metadata": {
  "kernelspec": {
   "display_name": "Python4HPC",
   "language": "python",
   "name": "hpc"
  },
  "language_info": {
   "codemirror_mode": {
    "name": "ipython",
    "version": 3
   },
   "file_extension": ".py",
   "mimetype": "text/x-python",
   "name": "python",
   "nbconvert_exporter": "python",
   "pygments_lexer": "ipython3",
   "version": "3.11.6"
  }
 },
 "nbformat": 4,
 "nbformat_minor": 5
}
