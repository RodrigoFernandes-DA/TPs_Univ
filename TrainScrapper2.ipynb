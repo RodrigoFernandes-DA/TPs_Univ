{
 "cells": [
  {
   "cell_type": "code",
   "execution_count": 1,
   "metadata": {},
   "outputs": [],
   "source": [
    "from time import sleep, strftime\n",
    "from random import randint\n",
    "import pandas as pd\n",
    "from selenium import webdriver\n",
    "from selenium.webdriver.chrome.service import Service\n",
    "from selenium.webdriver.common.by import By\n",
    "from selenium.webdriver.common.keys import Keys\n",
    "import smtplib\n",
    "from email.mime.multipart import MIMEMultipart\n",
    "from urllib.parse import quote\n",
    "from datetime import datetime"
   ]
  },
  {
   "cell_type": "code",
   "execution_count": 2,
   "metadata": {},
   "outputs": [],
   "source": [
    "# Load more results to maximize the scraping\n",
    "\n",
    "def load_more():\n",
    "    try:\n",
    "        # more_results = '//a[@class = \"moreButton\"]'\n",
    "        plustard = '//a[@label=\"Touver des trains plus tard\"]'\n",
    "        driver.find_element_by_xpath(plustard).click()\n",
    "        print('sleeping.....')\n",
    "        sleep(randint(25,35))\n",
    "    except:\n",
    "        pass\n",
    "    \n",
    "    # Conversão das datas para o formato codificado\n",
    "def encode_date(date_str):\n",
    "    date_obj = datetime.strptime(date_str, \"%Y-%m-%d %H:%M:%S\")\n",
    "    date_iso = date_obj.isoformat()  # Converte para formato ISO 8601\n",
    "    return quote(date_iso)  # Codifica para URL"
   ]
  },
  {
   "cell_type": "code",
   "execution_count": 3,
   "metadata": {},
   "outputs": [],
   "source": [
    "\n",
    "def page_scrape():\n",
    "    \n",
    "    # getting the prices\n",
    "    xp_prices = '//div[@data-test=\"is-cheapest-tag\"]/span'\n",
    "    xp_prices = '(//span[@data-test=\"is-cheapest-tag\"]/preceding-sibling::div//span)[1]'\n",
    "    prices = driver.find_elements_by_xpath(xp_prices)\n",
    "    prices_list = [price.text.replace('&nbsp;€','') for price in prices if price.text != '']\n",
    "    prices_list = list(map(int, prices_list))\n",
    "    \n",
    "    print(prices_list)"
   ]
  },
  {
   "cell_type": "code",
   "execution_count": 26,
   "metadata": {},
   "outputs": [],
   "source": [
    "def start_trainline(city_from, city_to, inward_date, outward_date):\n",
    "    \n",
    "    service = Service()\n",
    "\n",
    "    # options = webdriver.ChromeOptions()\n",
    "    # options.add_argument(\"--incognito\")\n",
    "\n",
    "    # driver = webdriver.Chrome(service=service, options=options)\n",
    "    # sleep(2)\n",
    "    \n",
    "    encoded_outward_date = encode_date(outward_date)\n",
    "    encoded_inward_date = encode_date(inward_date)\n",
    "    \n",
    "    options = webdriver.EdgeOptions()\n",
    "    options.use_chromium = True\n",
    "    options.add_argument(\"-inprivate\")\n",
    "    \n",
    "    driver = webdriver.Edge(service=service, options = options)\n",
    "    sleep(2)\n",
    "    \n",
    "    trainline_url = (\n",
    "    \"https://www.thetrainline.com/book/results?\"\n",
    "    + f\"journeySearchType=return&origin={city_from}\"\n",
    "    + f\"&destination={city_to}&outwardDate={encoded_outward_date}\"\n",
    "    + \"&outwardDateType=departAfter\"\n",
    "    + f\"&inwardDate={encoded_inward_date}&inwardDateType=departAfter\"\n",
    "    + \"&selectedTab=train&splitSave=true&lang=fr\"\n",
    "    + \"&transportModes%5B%5D=mixed\"\n",
    "    + \"&dpiCookieId=HCEAT7USDRAJWSS08WIJINST5&partnershipType=accommodation\"\n",
    "    + \"&partnershipSelection=false&selectedOutward=6nVfyGbH7RU%3D%3A9yGUtSZSXHQ%3D%2CbUuQ3iTP8Ec%3D%3AStandard\"\n",
    ")\n",
    "    \n",
    "    print(trainline_url)\n",
    "    \n",
    "    driver.get(trainline_url)\n",
    "    sleep(randint(20,30))\n",
    "    \n",
    "    print('cloasing cookies.....')\n",
    "    # # sometimes a popup shows up, so we can use a try statement to check it and close\n",
    "    try:\n",
    "        # xp_popup_close = '//button[contains(@id,\"dialog-close\") and contains(@class,\"Button-No-Standard-Style close \")]'\n",
    "        xp_popup_close = '//button[contains(@class, \"onetrust-close-btn-handler banner-close-button ot-close-link)]'\n",
    "        driver.find_elements_by_xpath(xp_popup_close)[5].click()\n",
    "    except Exception as e:\n",
    "        print(\"sem cookies\")\n",
    "        pass\n",
    "    sleep(randint(60,95))\n",
    "    \n",
    "    print('loading more.....')\n",
    "    \n",
    "    # load_more()\n",
    "    try:\n",
    "        # more_results = '//a[@class = \"moreButton\"]'\n",
    "        plustard = '//a[@label=\"Touver des trains plus tard\"]'\n",
    "        driver.find_element_by_xpath(plustard).click()\n",
    "        print('sleeping.....')\n",
    "        sleep(randint(25,35))\n",
    "    except:\n",
    "        pass\n",
    "    \n",
    "    # page_scrape()\n",
    "    # getting the prices\n",
    "    xp_prices = '//div[@data-test=\"is-cheapest-tag\"]/span'\n",
    "    xp_prices = '(//span[@data-test=\"is-cheapest-tag\"]/preceding-sibling::div//span)[1]'\n",
    "    price = driver.find_element(By.XPATH, xp_prices)\n",
    "    price_text = price.text.replace(\" €\", \"\").replace(\",\", \".\")\n",
    "    price_float = float(price_text)\n",
    "    df = pd.DataFrame({\"Preço (€)\": [price_float],\n",
    "                       \"Data Ida\": [outward_date] })\n",
    "    \n",
    "    print(df)\n",
    "    \n",
    "    "
   ]
  },
  {
   "cell_type": "code",
   "execution_count": null,
   "metadata": {},
   "outputs": [
    {
     "name": "stdout",
     "output_type": "stream",
     "text": [
      "https://www.thetrainline.com/book/results?journeySearchType=return&origin=urn%3Atrainline%3Ageneric%3Aloc%3A5601&destination=urn%3Atrainline%3Ageneric%3Aloc%3A7480&outwardDate=2025-02-17T06%3A00%3A37&outwardDateType=departAfter&inwardDate=2025-02-20T06%3A00%3A37&inwardDateType=departAfter&selectedTab=train&splitSave=true&lang=fr&transportModes%5B%5D=mixed&dpiCookieId=HCEAT7USDRAJWSS08WIJINST5&partnershipType=accommodation&partnershipSelection=false&selectedOutward=6nVfyGbH7RU%3D%3A9yGUtSZSXHQ%3D%2CbUuQ3iTP8Ec%3D%3AStandard\n",
      "cloasing cookies.....\n",
      "sem cookies\n"
     ]
    }
   ],
   "source": [
    "origin_code = \"urn%3Atrainline%3Ageneric%3Aloc%3A5601\"  # Código Rouen\n",
    "destination_code = \"urn%3Atrainline%3Ageneric%3Aloc%3A7480\"  # Código Munchen\n",
    "outward_date = \"2025-02-17 06:00:37\"  # Data de ida (legível)\n",
    "inward_date = \"2025-02-20 06:00:37\"  # Data de volta (legível)\n",
    "\n",
    "start_trainline(origin_code, destination_code, inward_date, outward_date)"
   ]
  }
 ],
 "metadata": {
  "kernelspec": {
   "display_name": "base",
   "language": "python",
   "name": "python3"
  },
  "language_info": {
   "codemirror_mode": {
    "name": "ipython",
    "version": 3
   },
   "file_extension": ".py",
   "mimetype": "text/x-python",
   "name": "python",
   "nbconvert_exporter": "python",
   "pygments_lexer": "ipython3",
   "version": "3.12.4"
  }
 },
 "nbformat": 4,
 "nbformat_minor": 2
}
