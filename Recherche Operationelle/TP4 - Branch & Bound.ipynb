{
 "cells": [
  {
   "cell_type": "markdown",
   "metadata": {},
   "source": [
    "### Exercice 1 – Branch and Bound pour le problème du sac à dos 0/1\n",
    "On vous demande dans cet exercice de programmer un algorithme de Branch & Bound pour résoudre le\n",
    "problème du sac à dos 0/1. Vous testerez d’abord votre algorithme sur les données du cours, puis sur celles\n",
    "utilisées lors de la séance précédente, et vous comparerez les temps de calcul. Vous pourrez également comparer\n",
    "les 3 stratégies de branchement vues en cours.\n",
    "\n",
    "Pistes : pour mon code, je me suis appuyé sur les deux classes suivantes (rien ne vous y oblige naturellement)\n",
    "\n",
    "Avertissement : peu de chance que vous triomphiez de ce problème sans écrire au préalable un algorithme sur\n",
    "papier"
   ]
  },
  {
   "cell_type": "code",
   "execution_count": 117,
   "metadata": {},
   "outputs": [],
   "source": [
    "class TreeNode:\n",
    "    def __init__(self, level, V, W, taken):\n",
    "        self.level = level # niveau dans l’arbre de recherche >=0\n",
    "        self.V = V # valeur de la solution courante\n",
    "        self.W = W # poids de la solution courante\n",
    "        self.taken = taken # liste des index d’objets de la solution courante\n",
    "    def __str__(self):\n",
    "        return str((self.level, self.V, self.W, self.taken))\n",
    "    \n",
    "class KPBB:\n",
    "    def __init__(self, cap, values, weights): # Initialisation des données\n",
    "        self.capacity = cap\n",
    "        self.values = values\n",
    "        self.weights = weights\n",
    "        self.unordered = [((v, w), i) for i, (v, w) in enumerate(zip(self.values, self.weights))]\n",
    "        self.ordered = sorted([((v, w), i) for i, (v, w) in enumerate(zip(self.values, self.weights))], key = lambda tup: float(tup[0][0])/tup[0][1], reverse = True)\n",
    "    \n",
    "    def initialSolution(self): # calcul de la solution initiale\n",
    "        W = self.capacity\n",
    "        result = 0\n",
    "\n",
    "        for item in self.ordered:\n",
    "            if W-item[0][1] >= 0:\n",
    "                result = result+item[0][0] \n",
    "                W = W-item[0][1]\n",
    "\n",
    "        return result\n",
    "    \n",
    "    def UpperBound(self):\n",
    "        W = self.capacity\n",
    "        result = 0\n",
    "        i = 0\n",
    "        \n",
    "        for item in self.ordered:\n",
    "            if W-item[0][1] >= 0:\n",
    "                result = result+item[0][0] \n",
    "                W = W-item[0][1] \n",
    "                i = i+1\n",
    "            else:\n",
    "                break\n",
    "        \n",
    "        result = result + (item[0][0]* (W/item[0][1]))\n",
    "\n",
    "        return result\n",
    "\n",
    "    def nodeEvaluation(self,index, node): # fonction d’évaluation d’un noeud\n",
    "\n",
    "        return 0\n",
    "\n",
    "    def solve(self): # algorithme de résolution\n",
    "        i = 0\n",
    "        ub = self.UpperBound()\n",
    "        lb = self.initialSolution()\n",
    "        t = TreeNode(i, ub, 0, 1)\n",
    "\n",
    "        nodes = []\n",
    "        for i in range(len(self.ordered)):\n",
    "            node = TreeNode(i, ub, 0, [1])\n",
    "            node = \n",
    "\n",
    "\n",
    "        return t"
   ]
  },
  {
   "cell_type": "code",
   "execution_count": 119,
   "metadata": {},
   "outputs": [
    {
     "name": "stdout",
     "output_type": "stream",
     "text": [
      "Melhor valor encontrado: 220\n",
      "Índices dos itens escolhidos: [1, 2]\n"
     ]
    }
   ],
   "source": [
    "class TreeNode:\n",
    "    def __init__(self, level, V, W, taken):\n",
    "        self.level = level  # nível na árvore de busca\n",
    "        self.V = V  # valor da solução corrente\n",
    "        self.W = W  # peso da solução corrente\n",
    "        self.taken = taken  # lista de índices dos itens na solução corrente\n",
    "    def __str__(self):\n",
    "        return str((self.level, self.V, self.W, self.taken))\n",
    "    \n",
    "class KPBB:\n",
    "    def __init__(self, cap, values, weights): \n",
    "        self.capacity = cap\n",
    "        self.values = values\n",
    "        self.weights = weights\n",
    "        self.unordered = [((v, w), i) for i, (v, w) in enumerate(zip(self.values, self.weights))]\n",
    "        # Ordenação dos itens com base na relação valor/peso\n",
    "        self.ordered = sorted([((v, w), i) for i, (v, w) in enumerate(zip(self.values, self.weights))], key=lambda tup: float(tup[0][0])/tup[0][1], reverse=True)\n",
    "    \n",
    "    def initialSolution(self):  # solução inicial com base na abordagem gananciosa\n",
    "        W = self.capacity\n",
    "        result = 0\n",
    "        for item in self.ordered:\n",
    "            if W - item[0][1] >= 0:  # se o item cabe na mochila\n",
    "                result += item[0][0]\n",
    "                W -= item[0][1]\n",
    "        return result\n",
    "    \n",
    "    def UpperBound(self, node):  # cálculo do limite superior (Upper Bound)\n",
    "        W = self.capacity - node.W  # peso restante\n",
    "        result = node.V  # valor atual\n",
    "        i = node.level + 1  # o próximo item a ser considerado\n",
    "        \n",
    "        while i < len(self.ordered) and self.ordered[i][0][1] <= W:\n",
    "            W -= self.ordered[i][0][1]\n",
    "            result += self.ordered[i][0][0]\n",
    "            i += 1\n",
    "        \n",
    "        if i < len(self.ordered):\n",
    "            result += self.ordered[i][0][0] * (W / self.ordered[i][0][1])  # fração do item\n",
    "\n",
    "        return result\n",
    "    \n",
    "    def nodeEvaluation(self, index, node):  # avaliação do nó na árvore de busca\n",
    "        if node.W <= self.capacity and node.V > self.bestValue:  # se o nó é válido e melhor que o melhor valor\n",
    "            self.bestValue = node.V  # atualização do melhor valor\n",
    "            self.bestTaken = node.taken  # atualização dos itens escolhidos\n",
    "        # Se o valor da solução for possível, calculamos o limite superior\n",
    "        if node.W <= self.capacity:\n",
    "            upper_bound = self.UpperBound(node)\n",
    "            return upper_bound\n",
    "        else:\n",
    "            return 0  # Se o peso for maior que a capacidade, o nó é inválido\n",
    "\n",
    "    def solve(self):  # algoritmo de Branch & Bound\n",
    "        root = TreeNode(-1, 0, 0, [])  # nó raiz\n",
    "        queue = [root]  # fila de nós a serem explorados\n",
    "        \n",
    "        self.bestValue = 0  # melhor valor encontrado\n",
    "        self.bestTaken = []  # lista de itens que compõem a melhor solução\n",
    "        \n",
    "        while queue:  # enquanto houver nós na fila\n",
    "            node = queue.pop(0)  # retira o primeiro nó da fila\n",
    "\n",
    "            if node.level < len(self.ordered) - 1:\n",
    "                # Caso 1: Não incluir o item\n",
    "                nodeLeft = TreeNode(node.level + 1, node.V, node.W, node.taken[:])\n",
    "                upperLeft = self.nodeEvaluation(nodeLeft.level, nodeLeft)  # cálculo do upper bound\n",
    "                \n",
    "                if upperLeft > self.bestValue:  # se o upper bound for melhor que a melhor solução encontrada\n",
    "                    queue.append(nodeLeft)\n",
    "\n",
    "                # Caso 2: Incluir o item\n",
    "                item = self.ordered[node.level + 1]\n",
    "                nodeRight = TreeNode(node.level + 1, node.V + item[0][0], node.W + item[0][1], node.taken + [item[1]])\n",
    "                upperRight = self.nodeEvaluation(nodeRight.level, nodeRight)  # cálculo do upper bound\n",
    "                \n",
    "                if upperRight > self.bestValue:  # se o upper bound for melhor que a melhor solução encontrada\n",
    "                    queue.append(nodeRight)\n",
    "        \n",
    "        return self.bestValue, self.bestTaken\n",
    "\n",
    "# Teste com valores e pesos de exemplo\n",
    "cap = 50  # capacidade da mochila\n",
    "values = [60, 100, 120]  # valores dos itens\n",
    "weights = [10, 20, 30]  # pesos dos itens\n",
    "\n",
    "Test = KPBB(cap, values, weights)\n",
    "bestValue, bestTaken = Test.solve()\n",
    "\n",
    "print(\"Melhor valor encontrado:\", bestValue)\n",
    "print(\"Índices dos itens escolhidos:\", bestTaken)\n"
   ]
  },
  {
   "cell_type": "code",
   "execution_count": 1,
   "metadata": {},
   "outputs": [],
   "source": [
    "import numpy as np\n",
    "import time\n",
    "import os"
   ]
  },
  {
   "cell_type": "code",
   "execution_count": 125,
   "metadata": {},
   "outputs": [
    {
     "name": "stdout",
     "output_type": "stream",
     "text": [
      "[95.  4. 60. 32. 23. 72. 80. 62. 65. 46.]\n",
      "[55. 10. 47.  5.  4. 50.  8. 61. 85. 87.]\n"
     ]
    }
   ],
   "source": [
    "path = \"./instances_01_KP/low-dimensional/f1_l-d_kp_10_269\" \n",
    "dataset = np.loadtxt(path)\n",
    "\n",
    "n = int(dataset[0][0])\n",
    "cap = dataset[0][1]\n",
    "itens = dataset[1:]\n",
    "\n",
    "weights = dataset[1:,1]\n",
    "values = dataset[1:,0]\n",
    "\n",
    "print(weights)\n",
    "print(values)\n",
    "\n",
    "unordered = [((v, w), i) for i, (v, w) in enumerate(zip(values, weights))]\n",
    "ordered = sorted([((v, w), i) for i, (v, w) in enumerate(zip(values, weights))], key = lambda tup: float(tup[0][0])/tup[0][1], reverse = True)"
   ]
  },
  {
   "cell_type": "code",
   "execution_count": 123,
   "metadata": {},
   "outputs": [],
   "source": [
    "def initialSolution(unordered, cap): # calcul de la solution initiale\n",
    "        W = cap\n",
    "        result = 0\n",
    "\n",
    "        for item in unordered:\n",
    "            if W-item[0][1] >= 0:\n",
    "                result = result+item[0][0] \n",
    "                W = W-item[0][1]\n",
    "\n",
    "        return result\n",
    "\n",
    "def UpperBound(ordered, cap):\n",
    "    W = cap\n",
    "    result = 0\n",
    "    i = 0\n",
    "    \n",
    "    for item in ordered:\n",
    "        if W-item[0][1] >= 0:\n",
    "            result = result+item[0][0] \n",
    "            W = W-item[0][1] \n",
    "            i = i+1\n",
    "        else:\n",
    "            break\n",
    "    \n",
    "    print(W)\n",
    "    result = result + (item[0][0]* (W/item[0][1]))\n",
    "\n",
    "    return result"
   ]
  },
  {
   "cell_type": "code",
   "execution_count": 124,
   "metadata": {},
   "outputs": [
    {
     "name": "stdout",
     "output_type": "stream",
     "text": [
      "97.0\n",
      "0.0\n",
      "97.0\n"
     ]
    }
   ],
   "source": [
    "LowerBound = initialSolution(ordered, cap)\n",
    "print(LowerBound)\n",
    "\n",
    "UpperBound = UpperBound(ordered, cap)\n",
    "print(UpperBound)"
   ]
  },
  {
   "cell_type": "code",
   "execution_count": 126,
   "metadata": {},
   "outputs": [
    {
     "name": "stdout",
     "output_type": "stream",
     "text": [
      "294.0\n"
     ]
    }
   ],
   "source": [
    "Test = KPBB(cap, values, weights)\n",
    "LowerBound = Test.initialSolution()\n",
    "print(LowerBound)"
   ]
  },
  {
   "cell_type": "code",
   "execution_count": 127,
   "metadata": {},
   "outputs": [
    {
     "name": "stdout",
     "output_type": "stream",
     "text": [
      "(np.float64(295.0), [1, 9, 8, 7, 2, 3])\n"
     ]
    }
   ],
   "source": [
    "ret = Test.solve()\n",
    "print(ret)"
   ]
  },
  {
   "cell_type": "markdown",
   "metadata": {},
   "source": [
    "Explicação:\n",
    "\n",
    "- Classe TreeNode: Representa um nó na árvore de Branch & Bound. Ele armazena o nível da árvore (índice do item a ser considerado), o valor acumulado (V), o peso acumulado (W), e a lista dos itens que foram selecionados até aquele ponto (taken).\n",
    "\n",
    "- Classe KPBB: Representa o problema da mochila e contém:\n",
    "    - Função initialSolution(): Implementa uma solução inicial gananciosa que tenta encher a mochila com os itens de maior relação valor/peso.\n",
    "    - Função UpperBound(): Calcula o limite superior (Upper Bound) a partir do nó atual, considerando a inclusão de itens fracionados.\n",
    "    - Função nodeEvaluation(): Avalia um nó, atualizando a melhor solução encontrada até o momento e calculando o upper bound.\n",
    "    - Função solve(): Implementa o algoritmo Branch & Bound, explorando a árvore de soluções usando uma fila. Ela expande nós e mantém a melhor solução encontrada.\n",
    "\n",
    "- Testando o algoritmo: O problema da mochila é resolvido com um exemplo simples onde a capacidade da mochila é 50, com 3 itens, cujos valores e pesos são fornecidos.\n",
    "\n",
    "Ao final, o algoritmo imprime o melhor valor encontrado e os índices dos itens selecionados.\n",
    "\n",
    "Este algoritmo de Branch & Bound permite que a solução seja encontrada de maneira eficiente, descartando ramos que não podem levar a uma solução melhor que a melhor solução encontrada até o momento."
   ]
  }
 ],
 "metadata": {
  "kernelspec": {
   "display_name": "Python 3",
   "language": "python",
   "name": "python3"
  },
  "language_info": {
   "codemirror_mode": {
    "name": "ipython",
    "version": 3
   },
   "file_extension": ".py",
   "mimetype": "text/x-python",
   "name": "python",
   "nbconvert_exporter": "python",
   "pygments_lexer": "ipython3",
   "version": "3.10.12"
  }
 },
 "nbformat": 4,
 "nbformat_minor": 2
}
