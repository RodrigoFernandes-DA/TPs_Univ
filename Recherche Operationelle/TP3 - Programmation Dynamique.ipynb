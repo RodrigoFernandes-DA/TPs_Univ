{
 "cells": [
  {
   "cell_type": "markdown",
   "metadata": {},
   "source": [
    "### Exercice 1 – String Edit Distance\n",
    "On vous demande dans cet exercice de programmer la version recursive du calcul de distance de Levenshtein par programmation dynamique. Les plus téméraires pourront s’attaquer à la version Bottom-up."
   ]
  },
  {
   "cell_type": "code",
   "execution_count": 1,
   "metadata": {},
   "outputs": [],
   "source": [
    "def EditDistCost(s1, s2, i, j):\n",
    "    m = len(s1)\n",
    "    n = len(s2)\n",
    "\n",
    "    # Final Objective\n",
    "    if i == m and j == n:\n",
    "        return 0\n",
    "    \n",
    "    # If the first letter is finished\n",
    "    elif i == m:\n",
    "        return abs(n) - j\n",
    "    \n",
    "    # If the second letter is finished\n",
    "    elif j == n:\n",
    "        return abs(m) - i\n",
    "    \n",
    "    # If letters are the same, pass to the following\n",
    "    elif s1[i] == s2[j]:        \n",
    "        return EditDistCost(s1, s2, i+1, j+1)\n",
    "\n",
    "    # If letters are different\n",
    "    else: \n",
    "        mincost = min(\n",
    "                    EditDistCost(s1, s2, i+1, j) + 1 #del\n",
    "                    , min(\n",
    "                        EditDistCost(s1, s2, i, j+1) + 1 #ins\n",
    "                        , EditDistCost(s1, s2, i+1, j+1) + 1 #sub                      \n",
    "                        ) \n",
    "                    )\n",
    "\n",
    "        return mincost"
   ]
  },
  {
   "cell_type": "code",
   "execution_count": 2,
   "metadata": {},
   "outputs": [
    {
     "name": "stdout",
     "output_type": "stream",
     "text": [
      "Levenshtein Distance: 5\n"
     ]
    }
   ],
   "source": [
    "s1 = \"intention\"\n",
    "s2 = \"execution\"\n",
    "\n",
    "m = len(s1)\n",
    "n = len(s2)\n",
    "\n",
    "cost = EditDistCost(s1, s2, 0, 0)\n",
    "\n",
    "print(\"Levenshtein Distance:\", cost)"
   ]
  },
  {
   "cell_type": "markdown",
   "metadata": {},
   "source": [
    "### Exercice 2 – 0/1 Knapsack problem\n",
    "On vous demande dans cet exercice de programmer la version récursive de résolution du problème du sac à dos 0/1 par programmation dynamique.\n",
    "\n",
    "Vous pourrez tester votre algorithme sur les données fournies sur http://artemisa.unicauca.edu.co/~johnyortega/instances_01_KP/ qui nous serviront de benchmark pour les TP suivants."
   ]
  },
  {
   "cell_type": "code",
   "execution_count": 3,
   "metadata": {},
   "outputs": [],
   "source": [
    "import numpy as np\n",
    "import time\n",
    "import os"
   ]
  },
  {
   "cell_type": "code",
   "execution_count": 4,
   "metadata": {},
   "outputs": [],
   "source": [
    "def Knapsack_NoMemo(itens, i, X):\n",
    "\n",
    "    if i > len(itens)-1:\n",
    "        return 0\n",
    "\n",
    "    wi = itens[i][1]\n",
    "    ri = itens[i][0]\n",
    "\n",
    "    p1 = Knapsack_NoMemo(itens,i+1, X)\n",
    "\n",
    "    if wi <= X:\n",
    "        p2 = ri + Knapsack_NoMemo(itens,i+1, X-wi)\n",
    "    else: \n",
    "        p2 = 0\n",
    "\n",
    "    return max(p1, p2)\n"
   ]
  },
  {
   "cell_type": "code",
   "execution_count": 5,
   "metadata": {},
   "outputs": [],
   "source": [
    "def Knapsack(itens, i, X, memo):\n",
    "    if i > len(itens) - 1:\n",
    "        return 0\n",
    "    \n",
    "    if (i, X) in memo:\n",
    "        return memo[(i, X)]\n",
    "\n",
    "    wi = itens[i][1]\n",
    "    ri = itens[i][0]\n",
    "\n",
    "    p1 = Knapsack(itens, i + 1, X, memo)\n",
    "    \n",
    "    if wi <= X:\n",
    "        p2 = ri + Knapsack(itens, i + 1, X - wi, memo)\n",
    "    else:\n",
    "        p2 = 0\n",
    "    \n",
    "    memo[(i, X)] = max(p1, p2)\n",
    "    return memo[(i, X)]"
   ]
  },
  {
   "cell_type": "code",
   "execution_count": 6,
   "metadata": {},
   "outputs": [],
   "source": [
    "datasets = []\n",
    "listing = os.listdir(\"./instances_01_KP/low-dimensional/\")\n",
    "my_array=np.zeros(shape=(0,5))\n",
    "for infile in listing:\n",
    "    path = \"./instances_01_KP/low-dimensional/\" + infile\n",
    "    data = np.loadtxt(path)\n",
    "    datasets.append(data)"
   ]
  },
  {
   "cell_type": "code",
   "execution_count": 7,
   "metadata": {},
   "outputs": [
    {
     "name": "stdout",
     "output_type": "stream",
     "text": [
      "\n",
      "===Problem with 15 itens and 375 capacity===\n",
      "Optimum value =  481.069368\n",
      "With Memoizaion, compute in 0.0370 seconds\n",
      "\n",
      "===Problem with 10 itens and 269 capacity===\n",
      "Optimum value =  295.0\n",
      "With Memoizaion, compute in 0.0004 seconds\n",
      "\n",
      "===Problem with 10 itens and 60 capacity===\n",
      "Optimum value =  52.0\n",
      "With Memoizaion, compute in 0.0002 seconds\n",
      "\n",
      "===Problem with 20 itens and 878 capacity===\n",
      "Optimum value =  1024.0\n",
      "With Memoizaion, compute in 0.0064 seconds\n",
      "\n",
      "===Problem with 4 itens and 11 capacity===\n",
      "Optimum value =  23.0\n",
      "With Memoizaion, compute in 0.0000 seconds\n",
      "\n",
      "===Problem with 23 itens and 10000 capacity===\n",
      "Optimum value =  9767.0\n",
      "With Memoizaion, compute in 0.0097 seconds\n",
      "\n",
      "===Problem with 5 itens and 80 capacity===\n",
      "Optimum value =  130.0\n",
      "With Memoizaion, compute in 0.0000 seconds\n",
      "\n",
      "===Problem with 7 itens and 50 capacity===\n",
      "Optimum value =  107.0\n",
      "With Memoizaion, compute in 0.0001 seconds\n",
      "\n",
      "===Problem with 20 itens and 879 capacity===\n",
      "Optimum value =  1025.0\n",
      "With Memoizaion, compute in 0.0062 seconds\n",
      "\n",
      "===Problem with 4 itens and 20 capacity===\n",
      "Optimum value =  35.0\n",
      "With Memoizaion, compute in 0.0000 seconds\n"
     ]
    }
   ],
   "source": [
    "for dataset in datasets:\n",
    "    n = dataset[0][0]\n",
    "    wmax = dataset[0][1]\n",
    "    itens = dataset[1:]\n",
    "\n",
    "    memo = {}\n",
    "\n",
    "    print(f\"\\n===Problem with {n:.0f} itens and {wmax:.0f} capacity===\")\n",
    "    tic = time.time()\n",
    "    rmax = Knapsack(itens, 0, wmax, memo)\n",
    "    toc = time.time()\n",
    "\n",
    "    # tic2 = time.time()\n",
    "    # rmax2 = Knapsack_NoMemo(itens, 0, wmax)\n",
    "    # toc2 = time.time()\n",
    "\n",
    "    print(\"Optimum value = \", rmax)\n",
    "\n",
    "    print(f\"With Memoizaion, compute in {(toc - tic):.4f} seconds\")\n",
    "    # print(f\"Without Memoizaion, compute in {(toc2 - tic2):.4f} seconds\")"
   ]
  },
  {
   "cell_type": "code",
   "execution_count": 18,
   "metadata": {},
   "outputs": [],
   "source": [
    "datasets = []\n",
    "N_values = []\n",
    "W_values = []\n",
    "listing = os.listdir(\"./instances_01_KP/large_scale/\")\n",
    "my_array=np.zeros(shape=(0,5))\n",
    "for infile in listing:\n",
    "    path = os.path.join(\"./instances_01_KP/large_scale/\", infile)\n",
    "    \n",
    "    parts = infile.split(\"_\")\n",
    "    N = int(parts[2])  # Terceiro elemento corresponde a N\n",
    "    W = int(parts[3])  # Quarto elemento corresponde a W\n",
    "    \n",
    "    N_values.append(N)\n",
    "    W_values.append(W)\n",
    "\n",
    "    with open(path, \"r\") as f:\n",
    "        lines = f.readlines()[:-1]  \n",
    "    \n",
    "    data = np.loadtxt(lines)\n",
    "    datasets.append(data)"
   ]
  },
  {
   "cell_type": "code",
   "execution_count": 19,
   "metadata": {},
   "outputs": [
    {
     "name": "stdout",
     "output_type": "stream",
     "text": [
      "[200, 2000, 500, 100, 1000]\n"
     ]
    }
   ],
   "source": [
    "print(N_values)"
   ]
  },
  {
   "cell_type": "code",
   "execution_count": 20,
   "metadata": {},
   "outputs": [
    {
     "name": "stdout",
     "output_type": "stream",
     "text": [
      "\n",
      "===Problem with 200 itens and 1000 capacity===\n",
      "Optimum value =  11238.0\n",
      "With Memoizaion, compute in 0.1286 seconds\n",
      "\n",
      "===Problem with 2000 itens and 1000 capacity===\n",
      "Optimum value =  33449.0\n",
      "With Memoizaion, compute in 1.9746 seconds\n",
      "\n",
      "===Problem with 500 itens and 1000 capacity===\n",
      "Optimum value =  18582.0\n",
      "With Memoizaion, compute in 0.4072 seconds\n",
      "\n",
      "===Problem with 100 itens and 1000 capacity===\n",
      "Optimum value =  9147.0\n",
      "With Memoizaion, compute in 0.0499 seconds\n",
      "\n",
      "===Problem with 1000 itens and 1000 capacity===\n",
      "Optimum value =  24091.0\n",
      "With Memoizaion, compute in 0.9268 seconds\n"
     ]
    }
   ],
   "source": [
    "i=0\n",
    "for dataset in datasets:\n",
    "    n = N_values[i]\n",
    "    wmax = W_values[i]\n",
    "    itens = dataset[1:]\n",
    "\n",
    "    memo = {}\n",
    "\n",
    "    print(f\"\\n===Problem with {n:.0f} itens and {wmax:.0f} capacity===\")\n",
    "    tic = time.time()\n",
    "    rmax = Knapsack(itens, 0, wmax, memo)\n",
    "    toc = time.time()\n",
    "\n",
    "    # tic2 = time.time()\n",
    "    # rmax2 = Knapsack_NoMemo(itens, 0, wmax)\n",
    "    # toc2 = time.time()\n",
    "\n",
    "    print(\"Optimum value = \", rmax)\n",
    "\n",
    "    print(f\"With Memoizaion, compute in {(toc - tic):.4f} seconds\")\n",
    "    # print(f\"Without Memoizaion, compute in {(toc2 - tic2):.4f} seconds\")\n",
    "    i = i+1"
   ]
  }
 ],
 "metadata": {
  "kernelspec": {
   "display_name": "Python 3",
   "language": "python",
   "name": "python3"
  },
  "language_info": {
   "codemirror_mode": {
    "name": "ipython",
    "version": 3
   },
   "file_extension": ".py",
   "mimetype": "text/x-python",
   "name": "python",
   "nbconvert_exporter": "python",
   "pygments_lexer": "ipython3",
   "version": "3.10.12"
  }
 },
 "nbformat": 4,
 "nbformat_minor": 2
}
