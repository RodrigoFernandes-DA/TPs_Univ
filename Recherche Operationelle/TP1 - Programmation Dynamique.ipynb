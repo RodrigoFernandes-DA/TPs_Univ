{
 "cells": [
  {
   "cell_type": "code",
   "execution_count": 1,
   "metadata": {},
   "outputs": [
    {
     "name": "stderr",
     "output_type": "stream",
     "text": [
      "/usr/local/lib/python3.10/dist-packages/matplotlib/projections/__init__.py:63: UserWarning: Unable to import Axes3D. This may be due to multiple versions of Matplotlib being installed (e.g. as a system package and as a pip package). As a result, the 3D projection is not available.\n",
      "  warnings.warn(\"Unable to import Axes3D. This may be due to multiple versions of \"\n"
     ]
    }
   ],
   "source": [
    "import networkx as nx\n",
    "import matplotlib.pyplot as plt\n",
    "import time"
   ]
  },
  {
   "cell_type": "markdown",
   "metadata": {},
   "source": [
    "### Exercice 1 – Tutoriel Networkx\n",
    "\n",
    "Après avoir installé networkx grace à la commande pip3 install networkx –user, suivez le tutoriel relatif à ce package disponible dans l’espace de cours."
   ]
  },
  {
   "cell_type": "code",
   "execution_count": 2,
   "metadata": {},
   "outputs": [],
   "source": [
    "G = nx.DiGraph()\n",
    "G.add_edges_from([\n",
    "    ('a', 'b', {'weight': 4}),\n",
    "    ('a', 'c', {'weight': 2}),\n",
    "    ('b', 'c', {'weight': 5}),\n",
    "    ('b', 'd', {'weight': 10}),\n",
    "    ('c', 'e', {'weight': 3}),\n",
    "    ('d', 'f', {'weight': 11}),\n",
    "    ('e', 'd', {'weight': 4}),\n",
    "    ('e', 'f', {'weight': 14})\n",
    "    ])"
   ]
  },
  {
   "cell_type": "code",
   "execution_count": 11,
   "metadata": {},
   "outputs": [
    {
     "data": {
      "image/png": "[encoded data removed]",
      "text/plain": [
       "<Figure size 500x300 with 1 Axes>"
      ]
     },
     "metadata": {},
     "output_type": "display_data"
    }
   ],
   "source": [
    "# Generate positions for nodes\n",
    "pos = nx.spring_layout(G)\n",
    "\n",
    "# Plot the graph\n",
    "plt.figure(figsize=(5, 3))\n",
    "nx.draw(G, pos, with_labels=True, node_color='lightblue', font_weight='bold', edge_color='gray')\n",
    "\n",
    "# Draw edge labels for weights\n",
    "edge_labels = nx.get_edge_attributes(G, 'weight')\n",
    "nx.draw_networkx_edge_labels(G, pos, edge_labels=edge_labels)\n",
    "\n",
    "plt.show()"
   ]
  },
  {
   "cell_type": "markdown",
   "metadata": {},
   "source": [
    "### Exercice 2 – Version récursive\n",
    "\n",
    "On vous demande dans un premier temps d’implémenter une version récursive de la recherche de plus court chemin depuis un nœud source vers toutes les destinations possibles, qui affiche la longueur de ces chemins."
   ]
  },
  {
   "cell_type": "code",
   "execution_count": 12,
   "metadata": {},
   "outputs": [
    {
     "name": "stdout",
     "output_type": "stream",
     "text": [
      "The shortest path from a to a: 0\n",
      "The shortest path from a to b: 4\n",
      "The shortest path from a to c: 2\n",
      "The shortest path from a to d: 9\n",
      "The shortest path from a to e: 5\n",
      "The shortest path from a to f: 19\n"
     ]
    }
   ],
   "source": [
    "def Sp_Rec(G, dest, mem):\n",
    "    if dest in mem: # if the destination has already been calculated\n",
    "        return mem[dest] # returns from memory\n",
    "\n",
    "    min_d = float('inf') # inicialize inf\n",
    "\n",
    "    for pred in G.predecessors(dest): # For each predecessor of the target in the graph\n",
    "        dist = Sp_Rec(G, pred, mem) \n",
    "        dist += G[pred][dest]['weight']  # Checks if there is an edge from pred to dest\n",
    "        if dist < min_d: \n",
    "            min_d = dist\n",
    "\n",
    "    mem[dest] = min_d # stores the minimum distance in the mem\n",
    "    \n",
    "    return mem[dest]\n",
    "\n",
    "mem = {}\n",
    "src = 'a'\n",
    "mem[src] = 0  \n",
    "\n",
    "for dest in G:\n",
    "    res= Sp_Rec(G, dest, mem)\n",
    "    print(f\"The shortest path from {src} to {dest}: {res}\")\n"
   ]
  },
  {
   "cell_type": "markdown",
   "metadata": {},
   "source": [
    "- Se a distância para o nó de destino já estiver no dicionário mem, retornamos diretamente.\n",
    "- Para cada predecessor do nó de destino, calculamos recursivamente o caminho mais curto até ele, somando o peso da aresta.\n",
    "- Atualizamos o menor caminho encontrado."
   ]
  },
  {
   "cell_type": "markdown",
   "metadata": {},
   "source": [
    "### Exercice 3 – Version Bottom up\n",
    "\n",
    "Transformer le programme précédent pour en faire une version bottom-up qui produit le même affichage. Vous pourrez utiliser pour cela une méthode de networkx appelée topological_sort Vous comparerez les temps d’exécution des deux programmes."
   ]
  },
  {
   "cell_type": "code",
   "execution_count": 13,
   "metadata": {},
   "outputs": [
    {
     "name": "stdout",
     "output_type": "stream",
     "text": [
      "The shortest distance from a to a: 0\n",
      "The shortest distance from a to b: 4\n",
      "The shortest distance from a to c: 2\n",
      "The shortest distance from a to d: 9\n",
      "The shortest distance from a to e: 5\n",
      "The shortest distance from a to f: 19\n"
     ]
    }
   ],
   "source": [
    "def Sp_BottomUp(G, src):\n",
    "    order = list(nx.topological_sort(G))\n",
    "    \n",
    "    for v in G:\n",
    "        mem[v] = float('inf') # initialize with inf\n",
    "    mem[src] = 0  # dist to start is zero\n",
    "    \n",
    "    for v in order: # for each vertex\n",
    "        for u in G.predecessors(v): # for each predecessor of this vertex\n",
    "            dist = mem[u] + G[u][v]['weight'] # calcul of distance\n",
    "            if dist < mem[v]:\n",
    "                mem[v] = dist # if the dist is smaller, record it in mem\n",
    "                \n",
    "    return mem\n",
    "\n",
    "\n",
    "src = 'a'\n",
    "mem = Sp_BottomUp(G, src)\n",
    "for dest in G:\n",
    "    print(f\"The shortest distance from {src} to {dest}: {mem[dest]}\")"
   ]
  },
  {
   "cell_type": "markdown",
   "metadata": {},
   "source": [
    "### Exercice 4 – Parent pointers\n",
    "\n",
    "Transformer les deux programmes précédents afin d’afficher les chemins correspondants."
   ]
  },
  {
   "cell_type": "code",
   "execution_count": 14,
   "metadata": {},
   "outputs": [],
   "source": [
    "def Sp_Rec2(G, dest, mem, mem2):\n",
    "    if dest in mem:\n",
    "        return mem[dest], mem2[dest]\n",
    "\n",
    "    min_d = float('inf')\n",
    "    best_path = None # initialize the path\n",
    "\n",
    "    for pred in G.predecessors(dest):\n",
    "        dist, path = Sp_Rec2(G, pred, mem, mem2) \n",
    "        dist += G[pred][dest]['weight'] \n",
    "        if dist < min_d:\n",
    "            min_d = dist\n",
    "            best_path = path + [dest]  # Updates path with current destination\n",
    "\n",
    "    mem[dest] = min_d\n",
    "    mem2[dest] = best_path # records the new path in mem\n",
    "\n",
    "    return mem[dest], mem2[dest]\n",
    "\n",
    "\n",
    "\n",
    "\n",
    "def Sp_BottomUp2(G, src, mem, mem2):\n",
    "    order = list(nx.topological_sort(G))\n",
    "    \n",
    "    for v in G:\n",
    "        mem[v] = float('inf')\n",
    "    mem[src] = 0  \n",
    "    \n",
    "    for v in order:\n",
    "        for u in G.predecessors(v):\n",
    "            dist = mem[u] + G[u][v]['weight']\n",
    "            if dist < mem[v]:\n",
    "                mem[v] = dist\n",
    "                mem2[v] = mem2[u]+ [v] # add the current vertex to the path\n",
    "                \n",
    "    return mem, mem2"
   ]
  },
  {
   "cell_type": "code",
   "execution_count": 15,
   "metadata": {},
   "outputs": [
    {
     "name": "stdout",
     "output_type": "stream",
     "text": [
      "\n",
      "METHODE RECURSIVE\n",
      "The shortest path from a to a: 0, path: a\n",
      "The shortest path from a to b: 4, path: a -> b\n",
      "The shortest path from a to c: 2, path: a -> c\n",
      "The shortest path from a to d: 9, path: a -> c -> e -> d\n",
      "The shortest path from a to e: 5, path: a -> c -> e\n",
      "The shortest path from a to f: 19, path: a -> c -> e -> f\n",
      "Temps d'execution (secondes):  0.0\n",
      "\n",
      "METHODE BOTTOM UP\n",
      "The shortest distance from a to a: 0, path: a\n",
      "The shortest distance from a to b: 4, path: a -> b\n",
      "The shortest distance from a to c: 2, path: a -> c\n",
      "The shortest distance from a to d: 9, path: a -> c -> e -> d\n",
      "The shortest distance from a to e: 5, path: a -> c -> e\n",
      "The shortest distance from a to f: 19, path: a -> c -> e -> f\n",
      "Temps d'execution (secondes):  0.0\n"
     ]
    }
   ],
   "source": [
    "mem = {}\n",
    "mem2 = {}\n",
    "src = 'a'\n",
    "mem[src] = 0  \n",
    "mem2[src] = [src] \n",
    "\n",
    "print(\"\\nMETHODE RECURSIVE\")\n",
    "start_time = time.time()\n",
    "for dest in G:\n",
    "    res, path = Sp_Rec2(G, dest, mem, mem2)\n",
    "    print(f\"The shortest path from {src} to {dest}: {res}, path: {' -> '.join(path)}\")\n",
    "RecTime = (time.time() - start_time)\n",
    "print(\"Temps d'execution (secondes): \", RecTime)\n",
    "\n",
    "mem = {}\n",
    "mem2 = {}\n",
    "src = 'a'\n",
    "mem[src] = 0  \n",
    "mem2[src] = [src] \n",
    "\n",
    "print(\"\\nMETHODE BOTTOM UP\")\n",
    "start_time = time.time()\n",
    "res, paths = Sp_BottomUp2(G, src, mem, mem2)\n",
    "for dest in G:\n",
    "    path = paths[dest] \n",
    "    print(f\"The shortest distance from {src} to {dest}: {res[dest]}, path: {' -> '.join(path)}\")\n",
    "BotTime = (time.time() - start_time)\n",
    "print(\"Temps d'execution (secondes): \", BotTime)\n"
   ]
  },
  {
   "cell_type": "markdown",
   "metadata": {},
   "source": [
    "### Exercice 5 – Pour la suite\n",
    "\n",
    "Tester vos programme sur le graphe suivant "
   ]
  },
  {
   "cell_type": "code",
   "execution_count": 29,
   "metadata": {},
   "outputs": [],
   "source": [
    "Gcycle = nx.DiGraph()\n",
    "Gcycle.add_edges_from([\n",
    "    ('a', 'b', {'weight': 4}),\n",
    "    ('a', 'c', {'weight': 2}),\n",
    "    ('b', 'c', {'weight': 5}),\n",
    "    ('d', 'b', {'weight': 10}), # reversed direction to generate the cycle\n",
    "    ('c', 'e', {'weight': 3}),\n",
    "    ('d', 'f', {'weight': 11}),\n",
    "    ('e', 'd', {'weight': 4}),\n",
    "    ('e', 'f', {'weight': 14})\n",
    "    ])"
   ]
  },
  {
   "cell_type": "code",
   "execution_count": 30,
   "metadata": {},
   "outputs": [
    {
     "name": "stdout",
     "output_type": "stream",
     "text": [
      "\n",
      "METHODE RECURSIVE\n",
      "maximum recursion depth exceeded\n",
      "\n",
      "METHODE BOTTOM UP\n",
      "Graph contains a cycle or graph changed during iteration\n"
     ]
    }
   ],
   "source": [
    "\n",
    "print(\"\\nMETHODE RECURSIVE\")\n",
    "mem = {}\n",
    "mem2 = {}\n",
    "src = 'a'\n",
    "mem[src] = 0  \n",
    "mem2[src] = [src] \n",
    "\n",
    "try:\n",
    "    res, path = Sp_Rec2(Gcycle, \"f\", mem, mem2)\n",
    "except RecursionError as e:\n",
    "    print(e)\n",
    "\n",
    "###########################################\n",
    "\n",
    "print(\"\\nMETHODE BOTTOM UP\")\n",
    "mem = {}\n",
    "mem2 = {}\n",
    "src = 'a'\n",
    "mem[src] = 0  \n",
    "mem2[src] = [src] \n",
    "\n",
    "try:\n",
    "    res, paths = Sp_BottomUp2(Gcycle, src, mem, mem2)\n",
    "except nx.NetworkXUnfeasible as e:\n",
    "    print(e)\n",
    "\n",
    "\n"
   ]
  },
  {
   "cell_type": "markdown",
   "metadata": {},
   "source": [
    "### Exercice 6 – Gestion des cycles\n",
    "\n",
    "Après avoir testé le code fourni en cours pour gérer ce cas des graphes intégrant des cycles, on vous demande de proposer une version bottom-up de cet algorithme."
   ]
  },
  {
   "cell_type": "code",
   "execution_count": 31,
   "metadata": {},
   "outputs": [
    {
     "name": "stdout",
     "output_type": "stream",
     "text": [
      "\n",
      "METHODE RECURSIVE\n",
      "The shortest path from a to a: 0\n",
      "The shortest path from a to b: 4\n",
      "The shortest path from a to c: 2\n",
      "The shortest path from a to d: 9\n",
      "The shortest path from a to e: 5\n",
      "The shortest path from a to f: 19\n",
      "Temps d'execution (secondes):  0.0\n"
     ]
    }
   ],
   "source": [
    "def Sp_Rec_Cycle(Gcycle, k, dest, mem):\n",
    "    if (k,dest) in mem:\n",
    "        return mem[k,dest]\n",
    "\n",
    "    if k == 0:  \n",
    "        if dest == src:\n",
    "            return 0 # dest equal to the beginning\n",
    "        else:\n",
    "            return float('inf') # when k reaches zero, the recursion ends\n",
    "\n",
    "    min_d = Sp_Rec_Cycle(Gcycle, k-1, dest, mem)\n",
    "\n",
    "    for pred in Gcycle.predecessors(dest):\n",
    "        dist = Sp_Rec_Cycle(Gcycle, k-1, pred, mem) \n",
    "        dist += Gcycle[pred][dest]['weight'] \n",
    "        if dist < min_d:\n",
    "            min_d = dist \n",
    "\n",
    "    return min_d\n",
    "\n",
    "\n",
    "mem = {}\n",
    "src = 'a'\n",
    "mem[src] = 0  \n",
    "k = len(Gcycle.nodes) - 1\n",
    "\n",
    "print(\"\\nMETHODE RECURSIVE\")\n",
    "start_time = time.time()\n",
    "for dest in Gcycle:\n",
    "    res = Sp_Rec_Cycle(Gcycle, k, dest, mem)\n",
    "    print(f\"The shortest path from {src} to {dest}: {res}\")\n",
    "RecTime = (time.time() - start_time)\n",
    "print(\"Temps d'execution (secondes): \", RecTime)"
   ]
  },
  {
   "cell_type": "code",
   "execution_count": 33,
   "metadata": {},
   "outputs": [],
   "source": [
    "def Sp_BottomUp_Cycle(G, k, src):\n",
    "    mem = {v: float('inf') for v in G}\n",
    "    mem[src] = 0 \n",
    "\n",
    "    for _ in range(k): # Loop at most k times\n",
    "        for u, v, data in G.edges(data=True):\n",
    "            weight = data['weight']\n",
    "            if mem[u] + weight < mem[v]:\n",
    "                mem[v] = mem[u] + weight\n",
    "\n",
    "    for u, v, data in G.edges(data=True):\n",
    "        weight = data['weight']\n",
    "        if mem[u] + weight < mem[v]:\n",
    "            raise ValueError(\"Graph contains a negative weight cycle\")\n",
    "\n",
    "    return mem"
   ]
  },
  {
   "cell_type": "code",
   "execution_count": 36,
   "metadata": {},
   "outputs": [
    {
     "name": "stdout",
     "output_type": "stream",
     "text": [
      "\n",
      "METHODE BOTTOM UP\n",
      "The shortest distance from a to a: 0\n",
      "The shortest distance from a to b: 4\n",
      "The shortest distance from a to c: 2\n",
      "The shortest distance from a to d: 9\n",
      "The shortest distance from a to e: 5\n",
      "The shortest distance from a to f: 19\n",
      "Temps d'execution (secondes):  0.0012269020080566406\n"
     ]
    }
   ],
   "source": [
    "mem = {}\n",
    "mem2 = {}\n",
    "src = 'a'\n",
    "mem[src] = 0  \n",
    "mem2[src] = [src] \n",
    "k = len(Gcycle.nodes) - 1\n",
    "\n",
    "print(\"\\nMETHODE BOTTOM UP\")\n",
    "start_time = time.time()\n",
    "res = Sp_BottomUp_Cycle(G, src)\n",
    "for dest in G:\n",
    "    print(f\"The shortest distance from {src} to {dest}: {res[dest]}\")\n",
    "BotTime = (time.time() - start_time)\n",
    "print(\"Temps d'execution (secondes): \", BotTime)"
   ]
  }
 ],
 "metadata": {
  "kernelspec": {
   "display_name": "base",
   "language": "python",
   "name": "python3"
  },
  "language_info": {
   "codemirror_mode": {
    "name": "ipython",
    "version": 3
   },
   "file_extension": ".py",
   "mimetype": "text/x-python",
   "name": "python",
   "nbconvert_exporter": "python",
   "pygments_lexer": "ipython3",
   "version": "3.10.12"
  }
 },
 "nbformat": 4,
 "nbformat_minor": 2
}
