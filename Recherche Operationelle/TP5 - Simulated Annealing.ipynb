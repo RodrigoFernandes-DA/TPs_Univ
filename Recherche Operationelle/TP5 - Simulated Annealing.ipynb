{
 "cells": [
  {
   "cell_type": "code",
   "execution_count": 1,
   "metadata": {},
   "outputs": [],
   "source": [
    "import time\n",
    "import matplotlib.pyplot as plt\n",
    "import numpy as np\n",
    "import os"
   ]
  },
  {
   "cell_type": "markdown",
   "metadata": {},
   "source": [
    "### Exercice 1 – Recuit simulé pour le problème du sac à dos 0/1\n",
    "\n",
    "On vous demande dans cet exercice de programmer un algorithme de recuit simulé pour résoudre le problème\n",
    "du sac à dos 0/1. Vous testerez votre algorithme sur les données fournies lors des séances précédentes. Vous\n",
    "comparerez statistiquement (donc en faisant de multiples run de votre algorithme, ce qui est indispensable\n",
    "quand l’aléatoire intervient) les résultats de votre algorithme avec ceux obtenus par une stratégie déterministe,\n",
    "consistant à accepter uniquement les solutions améliorantes. Vous pourrez également :\n",
    "\n",
    "- comparer les solutions obtenues avec les solutions optimales.\n",
    "- analyser l’impact des différents paramètres de l’algorithme.\n",
    "\n",
    "Pour générer un voisin à partir d’une solution initiale, plusieurs options pourront être imaginées. Une pos-\n",
    "sibilité consiste à :\n",
    "\n",
    "1. Tirer aléatoirement un objet non présent dans le sac\n",
    "2. Ajouter cet objet\n",
    "3. Tant que le poids du sac dépasse la capacité maximale :\n",
    "\n",
    "(a) Tirer aléatoirement un objet présent dans le sac\n",
    "\n",
    "(b) Supprimer cet objet"
   ]
  },
  {
   "cell_type": "code",
   "execution_count": 84,
   "metadata": {},
   "outputs": [],
   "source": [
    "def initial_solution(weights, values, wmax):\n",
    "    W = int(wmax) \n",
    "    n = len(weights) \n",
    "    list = np.zeros(n)\n",
    "    result = 0\n",
    "\n",
    "    while W >= 0:\n",
    "        i = np.random.randint(n)\n",
    "        if list[i] == 0:\n",
    "            list[i] = 1\n",
    "            W = W - weights[i]\n",
    "            result = result + values[i]\n",
    "\n",
    "    list[i] = 0\n",
    "    W = W + weights[i]\n",
    "    result = result - values[i]\n",
    "    return result, W, list"
   ]
  },
  {
   "cell_type": "code",
   "execution_count": 261,
   "metadata": {},
   "outputs": [],
   "source": [
    "def Knapsack_DA(weights, values, wmax):\n",
    "    result, W, list = initial_solution(weights, values, wmax)\n",
    "    n = len(weights)\n",
    "\n",
    "    # print(\"resultado inicial = \", result)\n",
    "    # print(list)\n",
    "\n",
    "    Best_list = list\n",
    "    Best_result = result\n",
    "    Best_W = W\n",
    "\n",
    "    print(f\"{Best_list}, {Best_W}, {Best_result} (Initial)\\n\")\n",
    "\n",
    "    for iteration in range(20):\n",
    "        voisin_list = Best_list\n",
    "        voisin_result = Best_result\n",
    "        voisin_W = Best_W\n",
    "        \n",
    "        i = np.random.randint(n)\n",
    "        if voisin_list[i] == 0:\n",
    "            voisin_list[i] = 1\n",
    "            voisin_W = voisin_W - weights[i]\n",
    "            voisin_result = voisin_result + values[i]\n",
    "\n",
    "            print(f\"{voisin_list}, {voisin_W}, {voisin_result} (add{i}, {weights[i]}, {values[i]})\")\n",
    "\n",
    "            while voisin_W < 0:\n",
    "                j = np.random.randint(n)\n",
    "                if voisin_list[j] == 1:\n",
    "                    voisin_list[j] = 0\n",
    "                    voisin_W = voisin_W + weights[j]\n",
    "                    voisin_result = voisin_result - values[j]\n",
    "                    print(f\"{voisin_list}, {voisin_W}, {voisin_result} (remove{j}, {weights[j]}, {values[j]})\")\n",
    "\n",
    "            if voisin_result >= Best_result:\n",
    "                Best_list = voisin_list\n",
    "                Best_W = voisin_W \n",
    "                Best_result = voisin_result\n",
    "\n",
    "                print(f\"{Best_list}, {Best_W}, {Best_result} (New Best)\\n\")\n",
    "\n",
    "    return Best_result, Best_list\n",
    "    "
   ]
  },
  {
   "cell_type": "code",
   "execution_count": 2,
   "metadata": {},
   "outputs": [
    {
     "name": "stdout",
     "output_type": "stream",
     "text": [
      "[84. 83. 43.  4. 44.  6. 82. 92. 25. 83. 56. 18. 58. 14. 48. 70. 96. 32.\n",
      " 68. 92.]\n",
      "[91. 72. 90. 46. 55.  8. 35. 75. 61. 15. 77. 40. 63. 75. 29. 75. 17. 78.\n",
      " 40. 44.]\n"
     ]
    }
   ],
   "source": [
    "path = \"./instances_01_KP/low-dimensional/f10_l-d_kp_20_879\" \n",
    "dataset = np.loadtxt(path)\n",
    "\n",
    "n = int(dataset[0][0])\n",
    "wmax = dataset[0][1]\n",
    "itens = dataset[1:]\n",
    "\n",
    "weights = dataset[1:,1]\n",
    "values = dataset[1:,0]\n",
    "\n",
    "print(weights)\n",
    "print(values)"
   ]
  },
  {
   "cell_type": "code",
   "execution_count": 271,
   "metadata": {},
   "outputs": [
    {
     "name": "stdout",
     "output_type": "stream",
     "text": [
      "[1. 1. 1. 1. 1. 0. 1. 0. 1. 0. 1. 1. 1. 1. 1. 1. 1. 1. 0. 1.], 30.0, 948.0 (Initial)\n",
      "\n",
      "[1. 1. 1. 1. 1. 0. 1. 0. 1. 0. 1. 1. 1. 1. 1. 1. 1. 1. 1. 1.], -38.0, 988.0 (add18, 68.0, 40.0)\n",
      "[1. 1. 1. 1. 1. 0. 1. 0. 1. 0. 1. 1. 1. 1. 1. 1. 0. 1. 1. 1.], 58.0, 971.0 (remove16, 96.0, 17.0)\n",
      "[1. 1. 1. 1. 1. 0. 1. 0. 1. 0. 1. 1. 1. 1. 1. 1. 0. 1. 1. 1.], 58.0, 971.0 (New Best)\n",
      "\n",
      "[1. 1. 1. 1. 1. 0. 1. 0. 1. 1. 1. 1. 1. 1. 1. 1. 0. 1. 1. 1.], -25.0, 986.0 (add9, 83.0, 15.0)\n",
      "[1. 1. 1. 1. 0. 0. 1. 0. 1. 1. 1. 1. 1. 1. 1. 1. 0. 1. 1. 1.], 19.0, 931.0 (remove4, 44.0, 55.0)\n",
      "[1. 1. 1. 1. 0. 0. 1. 1. 1. 1. 1. 1. 1. 1. 1. 1. 0. 1. 1. 1.], -34.0, 1046.0 (add7, 92.0, 75.0)\n",
      "[1. 1. 1. 1. 0. 0. 1. 1. 1. 1. 1. 1. 1. 1. 1. 1. 0. 0. 1. 1.], -2.0, 968.0 (remove17, 32.0, 78.0)\n",
      "[1. 1. 1. 1. 0. 0. 1. 1. 0. 1. 1. 1. 1. 1. 1. 1. 0. 0. 1. 1.], 23.0, 907.0 (remove8, 25.0, 61.0)\n",
      "[1. 1. 1. 1. 1. 0. 1. 1. 0. 1. 1. 1. 1. 1. 1. 1. 0. 0. 1. 1.], 14.0, 1026.0 (add4, 44.0, 55.0)\n",
      "[1. 1. 1. 1. 1. 0. 1. 1. 0. 1. 1. 1. 1. 1. 1. 1. 0. 0. 1. 1.], 14.0, 1026.0 (New Best)\n",
      "\n",
      "resultado final =  1026.0\n",
      "[1. 1. 1. 1. 1. 0. 1. 1. 0. 1. 1. 1. 1. 1. 1. 1. 0. 0. 1. 1.] \n",
      "\n"
     ]
    }
   ],
   "source": [
    "for i in range(1):\n",
    "    result, list = Knapsack_DA(weights, values, wmax)\n",
    "    print(\"resultado final = \", result)\n",
    "    print(list,\"\\n\")"
   ]
  },
  {
   "cell_type": "code",
   "execution_count": null,
   "metadata": {},
   "outputs": [],
   "source": []
  }
 ],
 "metadata": {
  "kernelspec": {
   "display_name": "Python 3",
   "language": "python",
   "name": "python3"
  },
  "language_info": {
   "codemirror_mode": {
    "name": "ipython",
    "version": 3
   },
   "file_extension": ".py",
   "mimetype": "text/x-python",
   "name": "python",
   "nbconvert_exporter": "python",
   "pygments_lexer": "ipython3",
   "version": "3.10.12"
  }
 },
 "nbformat": 4,
 "nbformat_minor": 2
}
