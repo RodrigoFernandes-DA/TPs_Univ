{
 "cells": [
  {
   "cell_type": "code",
   "execution_count": 2,
   "metadata": {},
   "outputs": [],
   "source": [
    "from sklearn.datasets import load_iris\n",
    "from sklearn.tree import DecisionTreeClassifier, export_graphviz\n",
    "from sklearn.model_selection import train_test_split\n",
    "from sklearn.naive_bayes import GaussianNB\n",
    "from sklearn.neighbors import KNeighborsClassifier\n",
    "from sklearn.model_selection import cross_val_score\n",
    "import numpy as np\n"
   ]
  },
  {
   "cell_type": "code",
   "execution_count": 3,
   "metadata": {},
   "outputs": [],
   "source": [
    "# Charger la base de données Iris\n",
    "iris = load_iris()\n",
    "X, y = iris.data, iris.target\n",
    "\n",
    "# Construire l'arbre de décision\n",
    "clf = DecisionTreeClassifier()\n",
    "clf.fit(X, y)\n",
    "\n",
    "# Exporter l'arbre au format DOT\n",
    "with open(\"iris_tree.dot\", \"w\") as f:\n",
    "    export_graphviz(clf, out_file=f, feature_names=iris.feature_names, class_names=iris.target_names, filled=True)"
   ]
  },
  {
   "cell_type": "code",
   "execution_count": 4,
   "metadata": {},
   "outputs": [
    {
     "name": "stdout",
     "output_type": "stream",
     "text": [
      "Taux de bonne classification (Arbre de décision) : 100.00%\n",
      "Taux de bonne classification (Naive Bayes Gaussien) : 97.78%\n",
      "Taux de bonne classification (K-Plus Proches Voisins) : 100.00%\n"
     ]
    }
   ],
   "source": [
    "# Découper en ensembles d'apprentissage (70%) et de test (30%)\n",
    "X_train, X_test, y_train, y_test = train_test_split(X, y, test_size=0.3, random_state=42)\n",
    "\n",
    "# Initialiser les classifieurs\n",
    "clf_tree = DecisionTreeClassifier(random_state=42)\n",
    "clf_nb = GaussianNB()\n",
    "clf_knn = KNeighborsClassifier()\n",
    "\n",
    "# Entraîner sur l'ensemble d'apprentissage\n",
    "clf_tree.fit(X_train, y_train)\n",
    "clf_nb.fit(X_train, y_train)\n",
    "clf_knn.fit(X_train, y_train)\n",
    "\n",
    "# Calculer les scores\n",
    "score_tree = clf_tree.score(X_test, y_test) *100\n",
    "score_nb = clf_nb.score(X_test, y_test) *100\n",
    "score_knn = clf_knn.score(X_test, y_test) *100\n",
    "\n",
    "# Afficher les résultats\n",
    "print(f\"Taux de bonne classification (Arbre de décision) : {score_tree:.2f}%\")\n",
    "print(f\"Taux de bonne classification (Naive Bayes Gaussien) : {score_nb:.2f}%\")\n",
    "print(f\"Taux de bonne classification (K-Plus Proches Voisins) : {score_knn:.2f}%\")\n",
    "\n",
    "\n"
   ]
  },
  {
   "cell_type": "code",
   "execution_count": 5,
   "metadata": {},
   "outputs": [
    {
     "name": "stdout",
     "output_type": "stream",
     "text": [
      "Decision Tree: Accuracy = 0.95 (+/- 0.03)\n",
      "Gaussian Naive Bayes: Accuracy = 0.95 (+/- 0.03)\n",
      "K-Nearest Neighbors: Accuracy = 0.97 (+/- 0.02)\n"
     ]
    }
   ],
   "source": [
    "# Validation croisée pour chaque classifieur\n",
    "scores_tree = cross_val_score(clf_tree, X, y, cv=5)\n",
    "scores_nb = cross_val_score(clf_nb, X, y, cv=5)\n",
    "scores_knn = cross_val_score(clf_knn, X, y, cv=5)\n",
    "\n",
    "# Calculer la moyenne et l'écart-type\n",
    "mean_tree, std_tree = np.mean(scores_tree), np.std(scores_tree)\n",
    "mean_nb, std_nb = np.mean(scores_nb), np.std(scores_nb)\n",
    "mean_knn, std_knn = np.mean(scores_knn), np.std(scores_knn)\n",
    "\n",
    "# Afficher les résultats\n",
    "print(f\"Decision Tree: Accuracy = {mean_tree:.2f} (+/- {std_tree:.2f})\")\n",
    "print(f\"Gaussian Naive Bayes: Accuracy = {mean_nb:.2f} (+/- {std_nb:.2f})\")\n",
    "print(f\"K-Nearest Neighbors: Accuracy = {mean_knn:.2f} (+/- {std_knn:.2f})\")\n"
   ]
  }
 ],
 "metadata": {
  "kernelspec": {
   "display_name": "base",
   "language": "python",
   "name": "python3"
  },
  "language_info": {
   "codemirror_mode": {
    "name": "ipython",
    "version": 3
   },
   "file_extension": ".py",
   "mimetype": "text/x-python",
   "name": "python",
   "nbconvert_exporter": "python",
   "pygments_lexer": "ipython3",
   "version": "3.12.4"
  }
 },
 "nbformat": 4,
 "nbformat_minor": 2
}
