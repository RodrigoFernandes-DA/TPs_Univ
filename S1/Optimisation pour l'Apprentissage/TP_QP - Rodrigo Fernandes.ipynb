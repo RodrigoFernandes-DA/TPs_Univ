{
 "cells": [
  {
   "cell_type": "markdown",
   "metadata": {
    "colab_type": "text",
    "id": "OUg5LE7nNZxG"
   },
   "source": [
    "# TP QP par un algorithme de points intérieurs"
   ]
  },
  {
   "cell_type": "code",
   "execution_count": 10,
   "metadata": {
    "colab": {
     "autoexec": {
      "startup": false,
      "wait_interval": 0
     }
    },
    "colab_type": "code",
    "id": "GKMEhNKGEIcM"
   },
   "outputs": [],
   "source": [
    "\n",
    "import numpy as np\n",
    "import matplotlib.pyplot as plt\n",
    "from sklearn.datasets import make_moons\n",
    "from sklearn.svm import SVC\n",
    "import scipy as sp\n",
    "from scipy import optimize\n"
   ]
  },
  {
   "cell_type": "code",
   "execution_count": 11,
   "metadata": {
    "colab": {
     "autoexec": {
      "startup": false,
      "wait_interval": 0
     }
    },
    "colab_type": "code",
    "id": "rUDDo91yEOMq"
   },
   "outputs": [
    {
     "data": {
      "image/png": "[encoded data removed]",
      "text/plain": [
       "<Figure size 500x500 with 1 Axes>"
      ]
     },
     "metadata": {},
     "output_type": "display_data"
    }
   ],
   "source": [
    "n_train = 100\n",
    "X,y = make_moons(n_samples=100, shuffle=True, noise=None, random_state=None)\n",
    "y = np.where(y > 0.5, y, -1)\n",
    "\n",
    "# afficher les données d'apprentissage sur un plot avec une couleur par classe\n",
    "# inserer votre code ici\n",
    "\n",
    "colors =['r','b']\n",
    "\n",
    "plt.figure(figsize=(5,5))\n",
    "for k in range(len(np.unique(y))):\n",
    "    plt.plot(X[y==k,0],X[y==k,1],colors[k]+'o',markersize=4,markeredgewidth=3)\n",
    "plt.show()"
   ]
  },
  {
   "cell_type": "code",
   "execution_count": null,
   "metadata": {
    "colab": {
     "autoexec": {
      "startup": false,
      "wait_interval": 0
     }
    },
    "colab_type": "code",
    "id": "FzOxrzpdEXrG"
   },
   "outputs": [
    {
     "name": "stdout",
     "output_type": "stream",
     "text": [
      "cout opt -16.618071819892787\n"
     ]
    }
   ],
   "source": [
    "#%% SVM dual \n",
    "C =1000\n",
    "N = X.shape[0]\n",
    "\n",
    "from sklearn.metrics.pairwise import rbf_kernel\n",
    "gamma = 1\n",
    "N = X.shape[0]\n",
    "K = rbf_kernel(X,gamma = gamma)\n",
    "yb = y.reshape(N,1)\n",
    "P = K*(yb@yb.T)\n",
    "q = -np.ones(N)\n",
    "\n",
    "clf = SVC(C=C,kernel='precomputed')\n",
    "clf.fit(K, y)\n",
    "indice_SV = clf.support_\n",
    "alpha_sk = clf.dual_coef_[0]\n",
    "b_sk = clf.intercept_\n",
    "\n",
    "# construire le vecteur solution alpha_0\n",
    "\n",
    "# %% \n",
    "alpha_o = np.zeros(N)\n",
    "xo = alpha_o\n",
    "alpha_o[indice_SV] = np.abs(alpha_sk)\n",
    "\n",
    "# calculer la valeur objective optimale du problème QP obtenu par ce solveur SVM\n",
    "# et afficher le résultat\n",
    "\n",
    "cout_optmal_SVM = 0.5*alpha_o.T@P@xo + q.T@alpha_o\n",
    "\n",
    "print('cout opt SVM',cout_optmal_SVM)\n"
   ]
  },
  {
   "cell_type": "markdown",
   "metadata": {
    "colab_type": "text",
    "id": "P3YMPOHwHzXk"
   },
   "source": [
    "On s'interesse au problème\n",
    "$$\n",
    "\\min_{\\alpha} \\frac{1}{2} \\alpha^\\top P \\alpha + q^\\top \\alpha  \\quad \\text{ } \\quad \\text{sc } \\quad \\alpha^\\top y = 0  \\text{ et } \\alpha \\geq 0\n",
    "$$"
   ]
  },
  {
   "cell_type": "code",
   "execution_count": 13,
   "metadata": {},
   "outputs": [],
   "source": [
    "def Jacobienne(P, A, N, nb_constraint, Sk, Xk):\n",
    "    J1 = np.hstack((P, -A.T, -np.eye(N)))\n",
    "    J2 = np.hstack((A, np.zeros((nb_constraint, nb_constraint)), np.zeros((nb_constraint, N))))\n",
    "    J3 = np.hstack((Sk, np.zeros((N, nb_constraint)), Xk))\n",
    "    \n",
    "    # construire la Jacobienne\n",
    "    J = np.vstack((J1,J2,J3)) \n",
    "\n",
    "    return J\n",
    "\n",
    "def Second_Membre(P, A, N, nb_constraint, Xk, sigma, tau, x, q, s):\n",
    "    b1 = (P@x + q - s - (A.T@ll).flatten()).reshape(N, 1)\n",
    "    b2 = (A@x - b).reshape(nb_constraint, 1)\n",
    "    b3 = ((Xk@s) - sigma*tau*np.ones(N)).reshape(N, 1)\n",
    "\n",
    "    second_membre = np.vstack((b1,b2,b3)) \n",
    "    return second_membre\n",
    "\n",
    "def Deltas(S, N, nb_constraint):\n",
    "    dx = S[:N].flatten()\n",
    "    dy = S[N:N+nb_constraint].flatten()\n",
    "    ds = S[N+nb_constraint:].flatten()\n",
    "    \n",
    "    return dx, dy, ds\n",
    "\n",
    "def PasOptin(x, dx, s, ds):\n",
    "    step = 1\n",
    "    while (np.any(x + step*dx < 0) or np.any(s + step*ds < 0)):\n",
    "        step = step*0.5\n",
    "        \n",
    "    return step"
   ]
  },
  {
   "cell_type": "code",
   "execution_count": 14,
   "metadata": {
    "colab": {
     "autoexec": {
      "startup": false,
      "wait_interval": 0
     }
    },
    "colab_type": "code",
    "id": "fU9whk6tF_oT"
   },
   "outputs": [
    {
     "name": "stdout",
     "output_type": "stream",
     "text": [
      "cout init -0.46088127484897445\n"
     ]
    }
   ],
   "source": [
    "# Algorithme de point intérieur \n",
    "\n",
    "# construction du problème et des matrices associés\n",
    "\n",
    "q = -np.ones(N)\n",
    "b = np.array([0.0])\n",
    "A = y.reshape(1,N)\n",
    "\n",
    "# initialization du point intérieur\n",
    "\n",
    "alpha = np.random.rand(N)*1e-2 #### X\n",
    "nb_constraint = A.shape[0]\n",
    "\n",
    "ll = np.ones((nb_constraint,1)) # multiplicateur de Lagrange ##### lambda\n",
    "s = ((P@alpha + q).reshape(N,1) - A.T@ ll).reshape(N)\n",
    "s = np.where(s < 0.000001, 1e-16, s)  # on garde que les parties positives pour que s soit faisable\n",
    "\n",
    "cout_init = 0.5*alpha.T@P@alpha + q.T@alpha\n",
    "\n",
    "print('cout init', cout_init)\n",
    "\n",
    "x = alpha.copy()\n"
   ]
  },
  {
   "cell_type": "code",
   "execution_count": null,
   "metadata": {
    "colab": {
     "autoexec": {
      "startup": false,
      "wait_interval": 0
     }
    },
    "colab_type": "code",
    "id": "HP9GwSXPL-11"
   },
   "outputs": [
    {
     "name": "stdout",
     "output_type": "stream",
     "text": [
      "Convergence réalisée\n"
     ]
    }
   ],
   "source": [
    "tolerance = 1e-12\n",
    "cost_values = [0.5 * alpha.T @ P @ alpha + q.T @ alpha]\n",
    "\n",
    "for i in range(1000):\n",
    "    tau = x@s/N\n",
    "    Sk = np.diag(s)\n",
    "    Xk = np.diag(x)\n",
    "    sigma = 0.5\n",
    "\n",
    "    # construire la Jacobienne\n",
    "    J = Jacobienne(P, A, N, nb_constraint, Sk, Xk) \n",
    "\n",
    "    # # construire le second membre\n",
    "    second_membre = Second_Membre(P, A, N, nb_constraint, Xk, sigma, tau, x, q, s)\n",
    "\n",
    "    # résoudre le problème\n",
    "    S = np.linalg.solve(J, -second_membre)\n",
    "    \n",
    "    # extraire les directions pour chaque partie\n",
    "    dx, dy, ds = Deltas(S, N, nb_constraint)\n",
    "    \n",
    "    # définir le pas optimal \n",
    "    step = PasOptin(x, dx, s, ds)\n",
    "\n",
    "    # mise à jour\n",
    "    x = x + step*dx\n",
    "    ll = ll + step*dy\n",
    "    s = s + step*ds\n",
    "    \n",
    "    # calcul du Cout\n",
    "    cost_values.append(0.5 * x.T @ P @ x + q.T @ x)\n",
    "    \n",
    "    # condition de sortie \n",
    "    if len(cost_values) > 1 and abs(cost_values[-1] - cost_values[-2]) < tolerance:\n",
    "        print(\"Convergence réalisée\")\n",
    "        break\n",
    "\n",
    "cout_optmal = cost_values[-1]"
   ]
  },
  {
   "cell_type": "markdown",
   "metadata": {
    "colab_type": "text",
    "id": "AcNYRh7YNH7A"
   },
   "source": [
    "\n",
    "\n",
    "1.   Montrer que le cout décroit correctement\n",
    "2.   Comparer la solution alpha avec celui obtenu par le solveur SVM\n",
    "3.   Améliorer la boucle pour avoir une condition de sortie plus pertinente\n",
    "\n",
    "\n",
    "\n"
   ]
  },
  {
   "cell_type": "markdown",
   "metadata": {},
   "source": [
    "### 1. Montrer que le cout décroit correctement"
   ]
  },
  {
   "cell_type": "code",
   "execution_count": 24,
   "metadata": {},
   "outputs": [
    {
     "name": "stdout",
     "output_type": "stream",
     "text": [
      "Coût initial: -0.460881\n",
      "Coût optimal: -16.618797\n"
     ]
    },
    {
     "data": {
      "image/png": "[encoded data removed]",
      "text/plain": [
       "<Figure size 640x480 with 1 Axes>"
      ]
     },
     "metadata": {},
     "output_type": "display_data"
    }
   ],
   "source": [
    "print(f\"Coût initial: {cout_init:.6f}\")\n",
    "print(f\"Coût optimal: {cout_optmal:.6f}\")\n",
    "\n",
    "plt.plot(cost_values, marker='o')\n",
    "plt.xlabel(\"Itération\")\n",
    "plt.ylabel(\"Coût\")\n",
    "plt.title(\"Décroissance des coûts par itération\")\n",
    "plt.grid(True)\n",
    "plt.show()"
   ]
  },
  {
   "cell_type": "markdown",
   "metadata": {},
   "source": [
    "### 2. Comparer la solution alpha avec celui obtenu par le solveur SVM"
   ]
  },
  {
   "cell_type": "code",
   "execution_count": 22,
   "metadata": {},
   "outputs": [
    {
     "name": "stdout",
     "output_type": "stream",
     "text": [
      "Coût optimal SVM: -16.618072\n",
      "Coût optimal: -16.618797\n",
      "Divergence absolue: 0.000725\n",
      "Divergence relative: 0.0044%\n"
     ]
    }
   ],
   "source": [
    "diff_abs = abs(cout_optmal - cout_optmal_SVM)\n",
    "rel_error = diff_abs / abs(cout_optmal_SVM)\n",
    "\n",
    "print(f\"Coût optimal SVM: {cout_optmal_SVM:.6f}\")\n",
    "print(f\"Coût optimal: {cout_optmal:.6f}\")\n",
    "print(f\"Divergence absolue: {diff_abs:.6f}\")\n",
    "print(f\"Divergence relative: {rel_error:.4%}\")\n"
   ]
  },
  {
   "cell_type": "markdown",
   "metadata": {},
   "source": [
    "### 3. Améliorer la boucle pour avoir une condition de sortie plus pertinente"
   ]
  },
  {
   "cell_type": "markdown",
   "metadata": {},
   "source": [
    "> Pour améliorer la condition de sortie de la boucle et éviter d'atteindre le nombre maximal d'itérations, la différence entre les deux derniers valeurs de la fonction de coût est calculée, puis comparée à une valeur de tolérance (tolerance = 1e-12). Dans cette condition, si la différence est inférieure à la tolérance, le programme reconnaît la convergence de la méthode et interrompt l'exécution avec la commande break. Cela améliore l'efficacité de la méthode en évitant des calculs inutiles après avoir atteint un résultat suffisamment précis."
   ]
  },
  {
   "cell_type": "markdown",
   "metadata": {
    "colab_type": "text",
    "id": "DSijfWbeN2tA"
   },
   "source": [
    "Modifier les matrices proposées en entrée de cette algorithme afin de résoudre le problème complet\n",
    "$$\n",
    "\\min_{\\alpha} \\frac{1}{2} \\alpha^\\top P \\alpha + q^\\top \\alpha  \\quad \\text{ } \\quad \\text{sc } \\quad \\alpha^\\top y = 0  \\text{ et } C \\geq \\alpha \\geq 0\n",
    "$$"
   ]
  },
  {
   "cell_type": "code",
   "execution_count": null,
   "metadata": {
    "colab": {
     "autoexec": {
      "startup": false,
      "wait_interval": 0
     }
    },
    "colab_type": "code",
    "id": "tONaKzGGP9Pf"
   },
   "outputs": [],
   "source": []
  }
 ],
 "metadata": {
  "colab": {
   "collapsed_sections": [],
   "default_view": {},
   "name": "TP_QP_points_intérieurs.ipynb",
   "provenance": [],
   "version": "0.3.2",
   "views": {}
  },
  "kernelspec": {
   "display_name": "base",
   "language": "python",
   "name": "python3"
  },
  "language_info": {
   "codemirror_mode": {
    "name": "ipython",
    "version": 3
   },
   "file_extension": ".py",
   "mimetype": "text/x-python",
   "name": "python",
   "nbconvert_exporter": "python",
   "pygments_lexer": "ipython3",
   "version": "3.12.4"
  }
 },
 "nbformat": 4,
 "nbformat_minor": 4
}
