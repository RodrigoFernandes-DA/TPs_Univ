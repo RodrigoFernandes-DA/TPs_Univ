{
  "cells": [
    {
      "cell_type": "code",
      "execution_count": 1,
      "metadata": {
        "colab": {
          "base_uri": "https://localhost:8080/"
        },
        "id": "0lbX-sW0AJ0I",
        "outputId": "70276e17-dd60-49a8-d586-bb7b8f0df40d"
      },
      "outputs": [
        {
          "name": "stderr",
          "output_type": "stream",
          "text": [
            "/usr/local/lib/python3.10/dist-packages/matplotlib/projections/__init__.py:63: UserWarning: Unable to import Axes3D. This may be due to multiple versions of Matplotlib being installed (e.g. as a system package and as a pip package). As a result, the 3D projection is not available.\n",
            "  warnings.warn(\"Unable to import Axes3D. This may be due to multiple versions of \"\n"
          ]
        },
        {
          "name": "stdout",
          "output_type": "stream",
          "text": [
            "Defaulting to user installation because normal site-packages is not writeable\n",
            "Collecting torchinfo\n",
            "  Downloading torchinfo-1.8.0-py3-none-any.whl (23 kB)\n",
            "Installing collected packages: torchinfo\n",
            "Successfully installed torchinfo-1.8.0\n"
          ]
        }
      ],
      "source": [
        "import os\n",
        "import torch\n",
        "from torch import nn\n",
        "from torchvision.datasets import MNIST\n",
        "from torch.utils.data import DataLoader\n",
        "from torch.utils.data import random_split\n",
        "from torchvision import transforms\n",
        "from tqdm import tqdm\n",
        "import matplotlib.pyplot as plt\n",
        "import math\n",
        "import numpy as np\n",
        "!pip install torchinfo\n",
        "from torchinfo import summary"
      ]
    },
    {
      "cell_type": "code",
      "execution_count": 36,
      "metadata": {
        "id": "J0ASzRxmAJ0L"
      },
      "outputs": [],
      "source": [
        "### Ici, on va jouer sur le nombre de couches et les fonctions d'activations\n",
        "class MLP(nn.Module):\n",
        "  '''\n",
        "    Multilayer Perceptron.\n",
        "  '''\n",
        "  def __init__(self,input_features=128):\n",
        "    super().__init__()\n",
        "    self.layers = nn.Sequential(\n",
        "      nn.Flatten(),                   # Aplatit les entrées si ce n'est pas le cas\n",
        "      nn.Linear(input_features, 512),\n",
        "      nn.Sigmoid(), # \n",
        "      # nn.ReLU(),\n",
        "      nn.Linear(512,128),\n",
        "      nn.Sigmoid(), # \n",
        "      # nn.ReLU(),\n",
        "      nn.Linear(128, 10)   # 10 car le nombre de classes = 10\n",
        "    )\n",
        "\n",
        "  def forward(self, x):      # l'activation softmax est mise automatiquement dans la loss CrossEntropy\n",
        "    '''Forward pass'''\n",
        "    return self.layers(x)\n",
        "\n",
        "\n",
        "# class MLP(nn.Module):\n",
        "#   '''\n",
        "#     Multilayer Perceptron.\n",
        "#   '''\n",
        "#   def __init__(self,input_features=128):\n",
        "#     super().__init__()\n",
        "#     self.layers = nn.Sequential(\n",
        "#       nn.Flatten(),                   # on vectorise les entrées si ce n'est pas le cas\n",
        "#       nn.Linear(input_features, 512),\n",
        "#       nn.ReLU(), #nn.Sigmoid(),\n",
        "#       nn.Linear(512,256),\n",
        "#       nn.ReLU(), #nn.Sigmoid(), nn.ReLU()\n",
        "#       nn.Linear(256,128),\n",
        "#       nn.ReLU(), #nn.Sigmoid(), nn.ReLU()\n",
        "#       nn.Linear(128, 10)\n",
        "#     )\n",
        "\n",
        "# class MLP(nn.Module):\n",
        "#   '''\n",
        "#     Multilayer Perceptron.\n",
        "#   '''\n",
        "#   def __init__(self,input_features=128):\n",
        "#     super().__init__()\n",
        "#     self.layers = nn.Sequential(\n",
        "#       nn.Flatten(),                   # on vectorise les entrées si ce n'est pas le cas\n",
        "#       nn.Linear(input_features, 216),\n",
        "#       nn.ReLU(), #nn.Sigmoid(),\n",
        "#       nn.Linear(216,10)\n",
        "#     )\n",
        "\n",
        "# class MLP(nn.Module):\n",
        "#   '''\n",
        "#     Multilayer Perceptron.\n",
        "#   '''\n",
        "#   def __init__(self,input_features=128):\n",
        "#     super().__init__()\n",
        "#     self.layers = nn.Sequential(\n",
        "#       nn.Flatten(),                   # on vectorise les entrées si ce n'est pas le cas\n",
        "#       nn.Linear(input_features, 1024),\n",
        "#       nn.ReLU(), #nn.Sigmoid(),\n",
        "#       nn.Linear(1024,512),\n",
        "#       nn.ReLU(), #nn.Sigmoid(),\n",
        "#       nn.Linear(512,256),\n",
        "#       nn.ReLU(), #nn.Sigmoid(), nn.ReLU()\n",
        "#       nn.Linear(256,128),\n",
        "#       nn.ReLU(), #nn.Sigmoid(), nn.ReLU()\n",
        "#       nn.Linear(128, 10)\n",
        "#     )\n"
      ]
    },
    {
      "cell_type": "code",
      "execution_count": 37,
      "metadata": {
        "id": "HzhLwzhYAJ0O"
      },
      "outputs": [],
      "source": [
        "def train_loop(dataloader, model, loss_fn, optimizer):\n",
        "    # Début de la boucle d'entraînement\n",
        "    size = len(dataloader.dataset)  # Taille totale du jeu de données\n",
        "    nb_batches = len(dataloader)     # Nombre total de lots dans le jeu de données\n",
        "    epoch_loss = 0                   # Initialisation de la perte totale pour l'époque\n",
        "\n",
        "    for batch, (X, y) in enumerate(dataloader):\n",
        "        # X : données d'entrée, y : étiquettes correspondantes\n",
        "\n",
        "        # Calcul de la prédiction du modèle et de la perte\n",
        "        pred = model(X.float())  # Utilisation du modèle pour prédire les sorties\n",
        "        loss = loss_fn(pred, y)  # Calcul de la perte entre les prédictions et les étiquettes réelles\n",
        "        epoch_loss += loss.item()  # Ajout de la perte de ce lot à la perte totale de l'époque\n",
        "\n",
        "        # Rétropropagation (Backpropagation)\n",
        "        optimizer.zero_grad()  # Réinitialisation des gradients accumulés dans les paramètres du modèle\n",
        "        loss.backward()       # Calcul des gradients par rétropropagation\n",
        "        optimizer.step()       # Mise à jour des paramètres du modèle en fonction des gradients\n",
        "\n",
        "    # Calcul de la perte moyenne pour l'époque et affichage\n",
        "    average_loss = epoch_loss / nb_batches\n",
        "    #print(f\"\\nPerte d'entraînement :\", average_loss)\n",
        "\n",
        "    # Retourne la perte moyenne pour l'époque\n",
        "    return average_loss\n",
        "\n",
        "def valid_loop(dataloader, model, loss_fn):\n",
        "    # Début de la boucle de validation\n",
        "    size = len(list(dataloader.dataset))  # Taille totale du jeu de données de validation\n",
        "    nb_batches = len(dataloader)           # Nombre total de lots dans le jeu de données\n",
        "    valid_loss = 0                         # Initialisation de la perte de validation\n",
        "\n",
        "    with torch.no_grad():\n",
        "        # Désactive le calcul des gradients pendant la validation\n",
        "        for X, y in dataloader:\n",
        "            # X : données d'entrée, y : étiquettes correspondantes\n",
        "\n",
        "            # Calcul de la prédiction du modèle et de la perte\n",
        "            pred = model(X.float())  # Utilisation du modèle pour prédire les sorties\n",
        "            valid_loss += loss_fn(pred, y).item()  # Ajout de la perte de ce lot à la perte totale de validation\n",
        "\n",
        "    # Calcul de la perte moyenne de validation et affichage\n",
        "    valid_loss /= nb_batches\n",
        "    #print(\"Perte de validation :\", valid_loss)\n",
        "\n",
        "    # Retourne la perte moyenne de validation\n",
        "    return valid_loss\n",
        "\n",
        "def perf_loop(dataloader, model):\n",
        "    # Début de la boucle de performance\n",
        "    Total = len(list(dataloader.dataset))  # Nombre total d'exemples dans le jeu de données de test\n",
        "    nb_batches = len(dataloader)            # Nombre total de lots dans le jeu de données\n",
        "    Positifs = 0                            # Initialisation du compteur de prédictions correctes\n",
        "\n",
        "    with torch.no_grad():\n",
        "        # Désactive le calcul des gradients pendant la performance\n",
        "        for X, y in dataloader:\n",
        "            # X : données d'entrée, y : étiquettes correspondantes\n",
        "\n",
        "            # Calcul de la prédiction du modèle\n",
        "            pred = model(X.float())  # Utilisation du modèle pour prédire les sorties\n",
        "\n",
        "            # Calcul des probabilités de classe avec Softmax\n",
        "            prob_pred = nn.Softmax(dim=1)(pred)\n",
        "\n",
        "            # Prédiction de la classe avec la probabilité maximale\n",
        "            y_pred = torch.argmax(prob_pred, dim=1)\n",
        "\n",
        "            # Comparaison des prédictions avec les étiquettes réelles\n",
        "            similaires = np.array(y_pred == y)\n",
        "            Positifs += np.sum(similaires)\n",
        "\n",
        "    # Retourne le nombre total de prédictions correctes, le nombre total d'exemples, et la dernière prédiction\n",
        "    return Positifs, Total, y_pred\n",
        "\n",
        "def affichage(dataloader, message):\n",
        "  fig1, axs1 = plt.subplots(1,6,figsize=(6,1))\n",
        "  image_batch, label_batch = next(iter(dataloader))\n",
        "  for i in range(6):\n",
        "    image = image_batch[i].squeeze().numpy() # squeeze les dimensions de longueur 1 : ici la dimension du canal de l'image\n",
        "    message += str(label_batch[i].numpy())+\" \"\n",
        "    plt.subplot(1,6,i+1)\n",
        "    plt.imshow(image, cmap=\"gray\")\n",
        "  print(message)\n",
        "  plt.show()\n",
        "\n",
        "\n",
        "def count_parameters(model):\n",
        "    return sum(p.numel() for p in model.parameters() if p.requires_grad)"
      ]
    },
    {
      "cell_type": "code",
      "execution_count": 38,
      "metadata": {
        "colab": {
          "base_uri": "https://localhost:8080/"
        },
        "id": "lzGW7K35AJ0O",
        "outputId": "dae4a6d6-bc25-4e0e-daaa-4e83c4734376"
      },
      "outputs": [
        {
          "data": {
            "text/plain": [
              "Dataset MNIST\n",
              "    Number of datapoints: 60000\n",
              "    Root location: /home/ENT-UR/AUTOFS/STUDENTS/coelhrod/Git/Apprentissage profond/TP2\n",
              "    Split: Train\n",
              "    StandardTransform\n",
              "Transform: ToTensor()"
            ]
          },
          "execution_count": 38,
          "metadata": {},
          "output_type": "execute_result"
        }
      ],
      "source": [
        "#Set fixed random number seed\n",
        "torch.manual_seed(42)\n",
        "\n",
        "# Prepare MNIST dataset\n",
        "dataset = MNIST(os.getcwd(), train = True, download=True, transform=transforms.ToTensor())\n",
        "dataset"
      ]
    },
    {
      "cell_type": "code",
      "execution_count": 51,
      "metadata": {
        "colab": {
          "base_uri": "https://localhost:8080/",
          "height": 334
        },
        "id": "JN7v1jVSAJ0P",
        "outputId": "75c1238f-3383-4022-ea06-1b7ff8fb6b1f"
      },
      "outputs": [
        {
          "name": "stdout",
          "output_type": "stream",
          "text": [
            "Train :6 5 3 1 0 3 \n"
          ]
        },
        {
          "data": {
            "image/png": "[encoded data removed]",
            "text/plain": [
              "<Figure size 600x100 with 6 Axes>"
            ]
          },
          "metadata": {},
          "output_type": "display_data"
        },
        {
          "name": "stdout",
          "output_type": "stream",
          "text": [
            "Valid :6 2 3 5 8 4 \n"
          ]
        },
        {
          "data": {
            "image/png": "[encoded data removed]",
            "text/plain": [
              "<Figure size 600x100 with 6 Axes>"
            ]
          },
          "metadata": {},
          "output_type": "display_data"
        }
      ],
      "source": [
        "N = len(dataset)\n",
        "N_train = int(N * 0.9)\n",
        "N_valid = N - N_train\n",
        "BATCH_SIZE = 64 # 128\n",
        "EPOCHS = 20 # 60\n",
        "LEARNING_RATE = 1e-3 # 1e-3\n",
        "OPTIM = \"ADAM\" #  \"SGD\"\n",
        "Model_name = \"Mon_meilleur_MLP\"\n",
        "\n",
        "############### POUR LES FEATURES PIXELS #############\n",
        "# il faut construire la valid et le train\n",
        "train_dataset, valid_dataset = random_split(dataset, [N_train, N_valid])\n",
        "trainloader = torch.utils.data.DataLoader(train_dataset, batch_size=BATCH_SIZE, shuffle=True, num_workers=8)\n",
        "validloader = torch.utils.data.DataLoader(valid_dataset, batch_size=BATCH_SIZE, shuffle=True, num_workers=8)\n",
        "affichage(trainloader,\"Train :\")\n",
        "affichage(validloader,\"Valid :\")"
      ]
    },
    {
      "cell_type": "code",
      "execution_count": 52,
      "metadata": {
        "colab": {
          "base_uri": "https://localhost:8080/"
        },
        "id": "SlvJkgkeAJ0P",
        "outputId": "9ad504fb-6be9-4572-d472-894fa0c6d35a"
      },
      "outputs": [
        {
          "data": {
            "text/plain": [
              "========================================================================================================================\n",
              "Layer (type (var_name))                  Input Shape          Output Shape         Param #              Trainable\n",
              "========================================================================================================================\n",
              "MLP (MLP)                                [64, 1, 28, 28]      [64, 10]             --                   True\n",
              "├─Sequential (layers)                    [64, 1, 28, 28]      [64, 10]             --                   True\n",
              "│    └─Flatten (0)                       [64, 1, 28, 28]      [64, 784]            --                   --\n",
              "│    └─Linear (1)                        [64, 784]            [64, 512]            401,920              True\n",
              "│    └─Sigmoid (2)                       [64, 512]            [64, 512]            --                   --\n",
              "│    └─Linear (3)                        [64, 512]            [64, 128]            65,664               True\n",
              "│    └─Sigmoid (4)                       [64, 128]            [64, 128]            --                   --\n",
              "│    └─Linear (5)                        [64, 128]            [64, 10]             1,290                True\n",
              "========================================================================================================================\n",
              "Total params: 468,874\n",
              "Trainable params: 468,874\n",
              "Non-trainable params: 0\n",
              "Total mult-adds (M): 30.01\n",
              "========================================================================================================================\n",
              "Input size (MB): 0.20\n",
              "Forward/backward pass size (MB): 0.33\n",
              "Params size (MB): 1.88\n",
              "Estimated Total Size (MB): 2.41\n",
              "========================================================================================================================"
            ]
          },
          "execution_count": 52,
          "metadata": {},
          "output_type": "execute_result"
        }
      ],
      "source": [
        "dim = 28 * 28\n",
        "summary(model=MLP(input_features = dim),\n",
        "        input_size=(BATCH_SIZE, 1, 28, 28), # (batch_size, input_channels, img_width, img_height)\n",
        "        col_names=[\"input_size\", \"output_size\", \"num_params\", \"trainable\"],\n",
        "        col_width=20,\n",
        "        row_settings=[\"var_names\"])"
      ]
    },
    {
      "cell_type": "code",
      "execution_count": 53,
      "metadata": {
        "colab": {
          "base_uri": "https://localhost:8080/",
          "height": 829
        },
        "id": "K20aXoxdAJ0P",
        "outputId": "62fb841a-0d18-4a44-c993-e2148256535d"
      },
      "outputs": [
        {
          "name": "stderr",
          "output_type": "stream",
          "text": [
            "  0%|          | 0/20 [00:00<?, ?it/s]"
          ]
        },
        {
          "name": "stderr",
          "output_type": "stream",
          "text": [
            " 10%|█         | 2/20 [00:42<06:18, 21.04s/it]"
          ]
        },
        {
          "name": "stdout",
          "output_type": "stream",
          "text": [
            "best validation loss : 0.1560476190866308\n"
          ]
        },
        {
          "name": "stderr",
          "output_type": "stream",
          "text": [
            " 15%|█▌        | 3/20 [01:01<05:46, 20.36s/it]"
          ]
        },
        {
          "name": "stdout",
          "output_type": "stream",
          "text": [
            "best validation loss : 0.11769262374319295\n"
          ]
        },
        {
          "name": "stderr",
          "output_type": "stream",
          "text": [
            " 20%|██        | 4/20 [01:22<05:27, 20.48s/it]"
          ]
        },
        {
          "name": "stdout",
          "output_type": "stream",
          "text": [
            "best validation loss : 0.09856861918926874\n"
          ]
        },
        {
          "name": "stderr",
          "output_type": "stream",
          "text": [
            " 25%|██▌       | 5/20 [01:45<05:23, 21.60s/it]"
          ]
        },
        {
          "name": "stdout",
          "output_type": "stream",
          "text": [
            "best validation loss : 0.08484675078355569\n"
          ]
        },
        {
          "name": "stderr",
          "output_type": "stream",
          "text": [
            " 30%|███       | 6/20 [02:05<04:54, 21.01s/it]"
          ]
        },
        {
          "name": "stdout",
          "output_type": "stream",
          "text": [
            "best validation loss : 0.07988334579908467\n"
          ]
        },
        {
          "name": "stderr",
          "output_type": "stream",
          "text": [
            " 35%|███▌      | 7/20 [02:25<04:26, 20.54s/it]"
          ]
        },
        {
          "name": "stdout",
          "output_type": "stream",
          "text": [
            "best validation loss : 0.0779444233692707\n"
          ]
        },
        {
          "name": "stderr",
          "output_type": "stream",
          "text": [
            " 40%|████      | 8/20 [02:45<04:04, 20.34s/it]"
          ]
        },
        {
          "name": "stdout",
          "output_type": "stream",
          "text": [
            "best validation loss : 0.07259767974647595\n"
          ]
        },
        {
          "name": "stderr",
          "output_type": "stream",
          "text": [
            " 45%|████▌     | 9/20 [03:05<03:42, 20.19s/it]"
          ]
        },
        {
          "name": "stdout",
          "output_type": "stream",
          "text": [
            "best validation loss : 0.06423090523396163\n"
          ]
        },
        {
          "name": "stderr",
          "output_type": "stream",
          "text": [
            " 90%|█████████ | 18/20 [06:21<00:42, 21.19s/it]\n"
          ]
        },
        {
          "ename": "KeyboardInterrupt",
          "evalue": "",
          "output_type": "error",
          "traceback": [
            "\u001b[0;31m---------------------------------------------------------------------------\u001b[0m",
            "\u001b[0;31mKeyboardInterrupt\u001b[0m                         Traceback (most recent call last)",
            "Cell \u001b[0;32mIn[53], line 18\u001b[0m\n\u001b[1;32m     16\u001b[0m train_loss\u001b[38;5;241m.\u001b[39mappend(train_loop(trainloader, my_MLP, my_loss, my_optimizer))\n\u001b[1;32m     17\u001b[0m \u001b[38;5;66;03m# on test à chaque itération\u001b[39;00m\n\u001b[0;32m---> 18\u001b[0m valid_loss\u001b[38;5;241m.\u001b[39mappend(\u001b[43mvalid_loop\u001b[49m\u001b[43m(\u001b[49m\u001b[43mvalidloader\u001b[49m\u001b[43m,\u001b[49m\u001b[43m \u001b[49m\u001b[43mmy_MLP\u001b[49m\u001b[43m,\u001b[49m\u001b[43m \u001b[49m\u001b[43mmy_loss\u001b[49m\u001b[43m)\u001b[49m)\n\u001b[1;32m     19\u001b[0m \u001b[38;5;66;03m# mettre ici le Early Stopping\u001b[39;00m\n\u001b[1;32m     20\u001b[0m \u001b[38;5;28;01mif\u001b[39;00m t \u001b[38;5;241m==\u001b[39m \u001b[38;5;241m0\u001b[39m:\n",
            "Cell \u001b[0;32mIn[37], line 29\u001b[0m, in \u001b[0;36mvalid_loop\u001b[0;34m(dataloader, model, loss_fn)\u001b[0m\n\u001b[1;32m     27\u001b[0m \u001b[38;5;28;01mdef\u001b[39;00m \u001b[38;5;21mvalid_loop\u001b[39m(dataloader, model, loss_fn):\n\u001b[1;32m     28\u001b[0m     \u001b[38;5;66;03m# Début de la boucle de validation\u001b[39;00m\n\u001b[0;32m---> 29\u001b[0m     size \u001b[38;5;241m=\u001b[39m \u001b[38;5;28mlen\u001b[39m(\u001b[38;5;28;43mlist\u001b[39;49m\u001b[43m(\u001b[49m\u001b[43mdataloader\u001b[49m\u001b[38;5;241;43m.\u001b[39;49m\u001b[43mdataset\u001b[49m\u001b[43m)\u001b[49m)  \u001b[38;5;66;03m# Taille totale du jeu de données de validation\u001b[39;00m\n\u001b[1;32m     30\u001b[0m     nb_batches \u001b[38;5;241m=\u001b[39m \u001b[38;5;28mlen\u001b[39m(dataloader)           \u001b[38;5;66;03m# Nombre total de lots dans le jeu de données\u001b[39;00m\n\u001b[1;32m     31\u001b[0m     valid_loss \u001b[38;5;241m=\u001b[39m \u001b[38;5;241m0\u001b[39m                         \u001b[38;5;66;03m# Initialisation de la perte de validation\u001b[39;00m\n",
            "File \u001b[0;32m/usr/local/lib/python3.10/dist-packages/torch/utils/data/dataset.py:412\u001b[0m, in \u001b[0;36mSubset.__getitem__\u001b[0;34m(self, idx)\u001b[0m\n\u001b[1;32m    410\u001b[0m \u001b[38;5;28;01mif\u001b[39;00m \u001b[38;5;28misinstance\u001b[39m(idx, \u001b[38;5;28mlist\u001b[39m):\n\u001b[1;32m    411\u001b[0m     \u001b[38;5;28;01mreturn\u001b[39;00m \u001b[38;5;28mself\u001b[39m\u001b[38;5;241m.\u001b[39mdataset[[\u001b[38;5;28mself\u001b[39m\u001b[38;5;241m.\u001b[39mindices[i] \u001b[38;5;28;01mfor\u001b[39;00m i \u001b[38;5;129;01min\u001b[39;00m idx]]\n\u001b[0;32m--> 412\u001b[0m \u001b[38;5;28;01mreturn\u001b[39;00m \u001b[38;5;28;43mself\u001b[39;49m\u001b[38;5;241;43m.\u001b[39;49m\u001b[43mdataset\u001b[49m\u001b[43m[\u001b[49m\u001b[38;5;28;43mself\u001b[39;49m\u001b[38;5;241;43m.\u001b[39;49m\u001b[43mindices\u001b[49m\u001b[43m[\u001b[49m\u001b[43midx\u001b[49m\u001b[43m]\u001b[49m\u001b[43m]\u001b[49m\n",
            "File \u001b[0;32m/usr/local/lib/python3.10/dist-packages/torchvision/datasets/mnist.py:146\u001b[0m, in \u001b[0;36mMNIST.__getitem__\u001b[0;34m(self, index)\u001b[0m\n\u001b[1;32m    143\u001b[0m img \u001b[38;5;241m=\u001b[39m Image\u001b[38;5;241m.\u001b[39mfromarray(img\u001b[38;5;241m.\u001b[39mnumpy(), mode\u001b[38;5;241m=\u001b[39m\u001b[38;5;124m\"\u001b[39m\u001b[38;5;124mL\u001b[39m\u001b[38;5;124m\"\u001b[39m)\n\u001b[1;32m    145\u001b[0m \u001b[38;5;28;01mif\u001b[39;00m \u001b[38;5;28mself\u001b[39m\u001b[38;5;241m.\u001b[39mtransform \u001b[38;5;129;01mis\u001b[39;00m \u001b[38;5;129;01mnot\u001b[39;00m \u001b[38;5;28;01mNone\u001b[39;00m:\n\u001b[0;32m--> 146\u001b[0m     img \u001b[38;5;241m=\u001b[39m \u001b[38;5;28;43mself\u001b[39;49m\u001b[38;5;241;43m.\u001b[39;49m\u001b[43mtransform\u001b[49m\u001b[43m(\u001b[49m\u001b[43mimg\u001b[49m\u001b[43m)\u001b[49m\n\u001b[1;32m    148\u001b[0m \u001b[38;5;28;01mif\u001b[39;00m \u001b[38;5;28mself\u001b[39m\u001b[38;5;241m.\u001b[39mtarget_transform \u001b[38;5;129;01mis\u001b[39;00m \u001b[38;5;129;01mnot\u001b[39;00m \u001b[38;5;28;01mNone\u001b[39;00m:\n\u001b[1;32m    149\u001b[0m     target \u001b[38;5;241m=\u001b[39m \u001b[38;5;28mself\u001b[39m\u001b[38;5;241m.\u001b[39mtarget_transform(target)\n",
            "File \u001b[0;32m/usr/local/lib/python3.10/dist-packages/torchvision/transforms/transforms.py:137\u001b[0m, in \u001b[0;36mToTensor.__call__\u001b[0;34m(self, pic)\u001b[0m\n\u001b[1;32m    129\u001b[0m \u001b[38;5;28;01mdef\u001b[39;00m \u001b[38;5;21m__call__\u001b[39m(\u001b[38;5;28mself\u001b[39m, pic):\n\u001b[1;32m    130\u001b[0m \u001b[38;5;250m    \u001b[39m\u001b[38;5;124;03m\"\"\"\u001b[39;00m\n\u001b[1;32m    131\u001b[0m \u001b[38;5;124;03m    Args:\u001b[39;00m\n\u001b[1;32m    132\u001b[0m \u001b[38;5;124;03m        pic (PIL Image or numpy.ndarray): Image to be converted to tensor.\u001b[39;00m\n\u001b[0;32m   (...)\u001b[0m\n\u001b[1;32m    135\u001b[0m \u001b[38;5;124;03m        Tensor: Converted image.\u001b[39;00m\n\u001b[1;32m    136\u001b[0m \u001b[38;5;124;03m    \"\"\"\u001b[39;00m\n\u001b[0;32m--> 137\u001b[0m     \u001b[38;5;28;01mreturn\u001b[39;00m \u001b[43mF\u001b[49m\u001b[38;5;241;43m.\u001b[39;49m\u001b[43mto_tensor\u001b[49m\u001b[43m(\u001b[49m\u001b[43mpic\u001b[49m\u001b[43m)\u001b[49m\n",
            "File \u001b[0;32m/usr/local/lib/python3.10/dist-packages/torchvision/transforms/functional.py:176\u001b[0m, in \u001b[0;36mto_tensor\u001b[0;34m(pic)\u001b[0m\n\u001b[1;32m    174\u001b[0m img \u001b[38;5;241m=\u001b[39m img\u001b[38;5;241m.\u001b[39mpermute((\u001b[38;5;241m2\u001b[39m, \u001b[38;5;241m0\u001b[39m, \u001b[38;5;241m1\u001b[39m))\u001b[38;5;241m.\u001b[39mcontiguous()\n\u001b[1;32m    175\u001b[0m \u001b[38;5;28;01mif\u001b[39;00m \u001b[38;5;28misinstance\u001b[39m(img, torch\u001b[38;5;241m.\u001b[39mByteTensor):\n\u001b[0;32m--> 176\u001b[0m     \u001b[38;5;28;01mreturn\u001b[39;00m \u001b[43mimg\u001b[49m\u001b[38;5;241;43m.\u001b[39;49m\u001b[43mto\u001b[49m\u001b[43m(\u001b[49m\u001b[43mdtype\u001b[49m\u001b[38;5;241;43m=\u001b[39;49m\u001b[43mdefault_float_dtype\u001b[49m\u001b[43m)\u001b[49m\u001b[38;5;241m.\u001b[39mdiv(\u001b[38;5;241m255\u001b[39m)\n\u001b[1;32m    177\u001b[0m \u001b[38;5;28;01melse\u001b[39;00m:\n\u001b[1;32m    178\u001b[0m     \u001b[38;5;28;01mreturn\u001b[39;00m img\n",
            "\u001b[0;31mKeyboardInterrupt\u001b[0m: "
          ]
        }
      ],
      "source": [
        "#################  Instanciation du MLP #################\n",
        "dim = 28 * 28  # dimension des images MNIST\n",
        "my_MLP = MLP(input_features = dim)\n",
        "my_loss = nn.CrossEntropyLoss()\n",
        "if OPTIM == \"SGD\":\n",
        "    my_optimizer = torch.optim.SGD(my_MLP.parameters(), lr=LEARNING_RATE)\n",
        "elif OPTIM == \"ADAM\":\n",
        "    my_optimizer = torch.optim.Adam(my_MLP.parameters(), lr=LEARNING_RATE)\n",
        "else:\n",
        "    print(\"Optimiseur inconnu !!!!\")\n",
        "\n",
        "############      BOUCLES D'APPRENTISSAGE     ###########\n",
        "train_loss = []\n",
        "valid_loss = []\n",
        "for t in tqdm(range(EPOCHS)):\n",
        "    train_loss.append(train_loop(trainloader, my_MLP, my_loss, my_optimizer))\n",
        "    # on test à chaque itération\n",
        "    valid_loss.append(valid_loop(validloader, my_MLP, my_loss))\n",
        "    # mettre ici le Early Stopping\n",
        "    if t == 0:\n",
        "        best_valid_loss = valid_loss[-1]\n",
        "    else:\n",
        "        if valid_loss[-1] < best_valid_loss:\n",
        "            best_valid_loss = valid_loss[-1]\n",
        "            print(f\"best validation loss : {best_valid_loss}\")\n",
        "            # on mémorise ce modèle\n",
        "            best_iter = t\n",
        "            torch.save(my_MLP.state_dict(), Model_name)\n",
        "\n",
        "print('Apprentisage terminé.\\n')\n",
        "\n",
        "# visu des loss train et test\n",
        "plt.figure()\n",
        "plt.plot(train_loss,\"b\",label=\"L_train\")\n",
        "plt.plot(valid_loss,\"r\",label=\"L_valid\")\n",
        "plt.legend()"
      ]
    },
    {
      "cell_type": "code",
      "execution_count": 50,
      "metadata": {
        "colab": {
          "base_uri": "https://localhost:8080/",
          "height": 255
        },
        "id": "RQKSwMi4AJ0P",
        "outputId": "c8219725-fea5-4586-ae3f-2e50076f1c07"
      },
      "outputs": [
        {
          "name": "stdout",
          "output_type": "stream",
          "text": [
            "Test :7 2 1 0 4 1 \n"
          ]
        },
        {
          "data": {
            "image/png": "[encoded data removed]",
            "text/plain": [
              "<Figure size 600x100 with 6 Axes>"
            ]
          },
          "metadata": {},
          "output_type": "display_data"
        },
        {
          "name": "stderr",
          "output_type": "stream",
          "text": [
            "/tmp/ipykernel_6687/3187708192.py:10: FutureWarning: You are using `torch.load` with `weights_only=False` (the current default value), which uses the default pickle module implicitly. It is possible to construct malicious pickle data which will execute arbitrary code during unpickling (See https://github.com/pytorch/pytorch/blob/main/SECURITY.md#untrusted-models for more details). In a future release, the default value for `weights_only` will be flipped to `True`. This limits the functions that could be executed during unpickling. Arbitrary objects will no longer be allowed to be loaded via this mode unless they are explicitly allowlisted by the user via `torch.serialization.add_safe_globals`. We recommend you start setting `weights_only=True` for any use case where you don't have full control of the loaded file. Please open an issue on GitHub for any issues related to this experimental feature.\n",
            "  my_best_MLP.load_state_dict(torch.load(Model_name))\n"
          ]
        },
        {
          "name": "stdout",
          "output_type": "stream",
          "text": [
            "Taux de reco en Test: 9801 / 10000 = 98.00999999999999 % de réussite\n",
            "Meilleure époque : 13\n",
            "Nombre de paramètres libres: 468874\n"
          ]
        }
      ],
      "source": [
        "############## on teste maintenaant les performances ################\n",
        "test_dataset = MNIST(os.getcwd(), train = False, download=True, transform=transforms.ToTensor())\n",
        "N_test = len(test_dataset)\n",
        "\n",
        "##############\n",
        "testloader = torch.utils.data.DataLoader(test_dataset, batch_size=N_test, shuffle=False, num_workers=1)\n",
        "affichage(testloader,\"Test :\")\n",
        "\n",
        "my_best_MLP = MLP(input_features = dim)\n",
        "my_best_MLP.load_state_dict(torch.load(Model_name))\n",
        "Positifs, Total, y_pred = perf_loop(testloader, my_best_MLP)\n",
        "print(\"Taux de reco en Test:\",Positifs,\"/\", Total, \"=\", (Positifs/Total)*100, \"% de réussite\")\n",
        "print(\"Meilleure époque :\",best_iter+1)\n",
        "\n",
        "nb_train_param = count_parameters(my_best_MLP)\n",
        "print(\"Nombre de paramètres libres:\",nb_train_param)"
      ]
    }
  ],
  "metadata": {
    "accelerator": "GPU",
    "colab": {
      "gpuType": "T4",
      "provenance": []
    },
    "kernelspec": {
      "display_name": "Python 3",
      "name": "python3"
    },
    "language_info": {
      "codemirror_mode": {
        "name": "ipython",
        "version": 3
      },
      "file_extension": ".py",
      "mimetype": "text/x-python",
      "name": "python",
      "nbconvert_exporter": "python",
      "pygments_lexer": "ipython3",
      "version": "3.10.12"
    }
  },
  "nbformat": 4,
  "nbformat_minor": 0
}
