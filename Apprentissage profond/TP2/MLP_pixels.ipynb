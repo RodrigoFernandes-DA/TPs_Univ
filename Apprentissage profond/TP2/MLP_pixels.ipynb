{
  "cells": [
    {
      "cell_type": "code",
      "execution_count": 2,
      "metadata": {
        "colab": {
          "base_uri": "https://localhost:8080/"
        },
        "id": "0lbX-sW0AJ0I",
        "outputId": "70276e17-dd60-49a8-d586-bb7b8f0df40d"
      },
      "outputs": [
        {
          "name": "stderr",
          "output_type": "stream",
          "text": [
            "/usr/local/lib/python3.10/dist-packages/matplotlib/projections/__init__.py:63: UserWarning: Unable to import Axes3D. This may be due to multiple versions of Matplotlib being installed (e.g. as a system package and as a pip package). As a result, the 3D projection is not available.\n",
            "  warnings.warn(\"Unable to import Axes3D. This may be due to multiple versions of \"\n"
          ]
        },
        {
          "name": "stdout",
          "output_type": "stream",
          "text": [
            "Defaulting to user installation because normal site-packages is not writeable\n",
            "Requirement already satisfied: torchinfo in /home/UR/coelhrod/.local/lib/python3.10/site-packages (1.8.0)\n"
          ]
        }
      ],
      "source": [
        "import os\n",
        "import torch\n",
        "from torch import nn\n",
        "from torchvision.datasets import MNIST\n",
        "from torch.utils.data import DataLoader\n",
        "from torch.utils.data import random_split\n",
        "from torchvision import transforms\n",
        "from tqdm import tqdm\n",
        "import matplotlib.pyplot as plt\n",
        "import math\n",
        "import numpy as np\n",
        "!pip install torchinfo\n",
        "from torchinfo import summary"
      ]
    },
    {
      "cell_type": "code",
      "execution_count": 13,
      "metadata": {
        "id": "J0ASzRxmAJ0L"
      },
      "outputs": [],
      "source": [
        "### Ici, on va jouer sur le nombre de couches et les fonctions d'activations\n",
        "# class MLP(nn.Module):\n",
        "#   '''\n",
        "#     Multilayer Perceptron.\n",
        "#   '''\n",
        "#   def __init__(self,input_features=128):\n",
        "#     super().__init__()\n",
        "#     self.layers = nn.Sequential(\n",
        "#       nn.Flatten(),                   # Aplatit les entrées si ce n'est pas le cas\n",
        "#       nn.Linear(input_features, 512),\n",
        "#       # nn.Sigmoid(), # \n",
        "#       nn.ReLU(),\n",
        "#       nn.Linear(512,128),\n",
        "#       # nn.Sigmoid(), # \n",
        "#       nn.ReLU(),\n",
        "#       nn.Linear(128, 10)   # 10 car le nombre de classes = 10\n",
        "#     )\n",
        "\n",
        "#   def forward(self, x):      # l'activation softmax est mise automatiquement dans la loss CrossEntropy\n",
        "#     '''Forward pass'''\n",
        "#     return self.layers(x)\n",
        "\n",
        "\n",
        "# class MLP(nn.Module):\n",
        "#   '''\n",
        "#     Multilayer Perceptron.\n",
        "#   '''\n",
        "#   def __init__(self,input_features=128):\n",
        "#     super().__init__()\n",
        "#     self.layers = nn.Sequential(\n",
        "#       nn.Flatten(),                   # on vectorise les entrées si ce n'est pas le cas\n",
        "#       nn.Linear(input_features, 512),\n",
        "#       nn.ReLU(), #nn.Sigmoid(),\n",
        "#       nn.Linear(512,256),\n",
        "#       nn.ReLU(), #nn.Sigmoid(), nn.ReLU()\n",
        "#       nn.Linear(256,128),\n",
        "#       nn.ReLU(), #nn.Sigmoid(), nn.ReLU()\n",
        "#       nn.Linear(128, 10)\n",
        "#     )\n",
        "\n",
        "#   def forward(self, x):      # l'activation softmax est mise automatiquement dans la loss CrossEntropy\n",
        "#     '''Forward pass'''\n",
        "#     return self.layers(x)\n",
        "\n",
        "class MLP(nn.Module):\n",
        "  '''\n",
        "    Multilayer Perceptron.\n",
        "  '''\n",
        "  def __init__(self,input_features=128):\n",
        "    super().__init__()\n",
        "    self.layers = nn.Sequential(\n",
        "      nn.Flatten(),                   # on vectorise les entrées si ce n'est pas le cas\n",
        "      nn.Linear(input_features, 216),\n",
        "      nn.ReLU(), #nn.Sigmoid(),\n",
        "      nn.Linear(216,10)\n",
        "    )\n",
        "\n",
        "  def forward(self, x):      # l'activation softmax est mise automatiquement dans la loss CrossEntropy\n",
        "    '''Forward pass'''\n",
        "    return self.layers(x)\n",
        "\n",
        "# class MLP(nn.Module):\n",
        "#   '''\n",
        "#     Multilayer Perceptron.\n",
        "#   '''\n",
        "#   def __init__(self,input_features=128):\n",
        "#     super().__init__()\n",
        "#     self.layers = nn.Sequential(\n",
        "#       nn.Flatten(),                   # on vectorise les entrées si ce n'est pas le cas\n",
        "#       nn.Linear(input_features, 1024),\n",
        "#       nn.ReLU(), #nn.Sigmoid(),\n",
        "#       nn.Linear(1024,512),\n",
        "#       nn.ReLU(), #nn.Sigmoid(),\n",
        "#       nn.Linear(512,256),\n",
        "#       nn.ReLU(), #nn.Sigmoid(), nn.ReLU()\n",
        "#       nn.Linear(256,128),\n",
        "#       nn.ReLU(), #nn.Sigmoid(), nn.ReLU()\n",
        "#       nn.Linear(128, 10)\n",
        "#     )\n"
      ]
    },
    {
      "cell_type": "code",
      "execution_count": 4,
      "metadata": {
        "id": "HzhLwzhYAJ0O"
      },
      "outputs": [],
      "source": [
        "def train_loop(dataloader, model, loss_fn, optimizer):\n",
        "    # Début de la boucle d'entraînement\n",
        "    size = len(dataloader.dataset)  # Taille totale du jeu de données\n",
        "    nb_batches = len(dataloader)     # Nombre total de lots dans le jeu de données\n",
        "    epoch_loss = 0                   # Initialisation de la perte totale pour l'époque\n",
        "\n",
        "    for batch, (X, y) in enumerate(dataloader):\n",
        "        # X : données d'entrée, y : étiquettes correspondantes\n",
        "\n",
        "        # Calcul de la prédiction du modèle et de la perte\n",
        "        pred = model(X.float())  # Utilisation du modèle pour prédire les sorties\n",
        "        loss = loss_fn(pred, y)  # Calcul de la perte entre les prédictions et les étiquettes réelles\n",
        "        epoch_loss += loss.item()  # Ajout de la perte de ce lot à la perte totale de l'époque\n",
        "\n",
        "        # Rétropropagation (Backpropagation)\n",
        "        optimizer.zero_grad()  # Réinitialisation des gradients accumulés dans les paramètres du modèle\n",
        "        loss.backward()       # Calcul des gradients par rétropropagation\n",
        "        optimizer.step()       # Mise à jour des paramètres du modèle en fonction des gradients\n",
        "\n",
        "    # Calcul de la perte moyenne pour l'époque et affichage\n",
        "    average_loss = epoch_loss / nb_batches\n",
        "    #print(f\"\\nPerte d'entraînement :\", average_loss)\n",
        "\n",
        "    # Retourne la perte moyenne pour l'époque\n",
        "    return average_loss\n",
        "\n",
        "def valid_loop(dataloader, model, loss_fn):\n",
        "    # Début de la boucle de validation\n",
        "    size = len(list(dataloader.dataset))  # Taille totale du jeu de données de validation\n",
        "    nb_batches = len(dataloader)           # Nombre total de lots dans le jeu de données\n",
        "    valid_loss = 0                         # Initialisation de la perte de validation\n",
        "\n",
        "    with torch.no_grad():\n",
        "        # Désactive le calcul des gradients pendant la validation\n",
        "        for X, y in dataloader:\n",
        "            # X : données d'entrée, y : étiquettes correspondantes\n",
        "\n",
        "            # Calcul de la prédiction du modèle et de la perte\n",
        "            pred = model(X.float())  # Utilisation du modèle pour prédire les sorties\n",
        "            valid_loss += loss_fn(pred, y).item()  # Ajout de la perte de ce lot à la perte totale de validation\n",
        "\n",
        "    # Calcul de la perte moyenne de validation et affichage\n",
        "    valid_loss /= nb_batches\n",
        "    #print(\"Perte de validation :\", valid_loss)\n",
        "\n",
        "    # Retourne la perte moyenne de validation\n",
        "    return valid_loss\n",
        "\n",
        "def perf_loop(dataloader, model):\n",
        "    # Début de la boucle de performance\n",
        "    Total = len(list(dataloader.dataset))  # Nombre total d'exemples dans le jeu de données de test\n",
        "    nb_batches = len(dataloader)            # Nombre total de lots dans le jeu de données\n",
        "    Positifs = 0                            # Initialisation du compteur de prédictions correctes\n",
        "\n",
        "    with torch.no_grad():\n",
        "        # Désactive le calcul des gradients pendant la performance\n",
        "        for X, y in dataloader:\n",
        "            # X : données d'entrée, y : étiquettes correspondantes\n",
        "\n",
        "            # Calcul de la prédiction du modèle\n",
        "            pred = model(X.float())  # Utilisation du modèle pour prédire les sorties\n",
        "\n",
        "            # Calcul des probabilités de classe avec Softmax\n",
        "            prob_pred = nn.Softmax(dim=1)(pred)\n",
        "\n",
        "            # Prédiction de la classe avec la probabilité maximale\n",
        "            y_pred = torch.argmax(prob_pred, dim=1)\n",
        "\n",
        "            # Comparaison des prédictions avec les étiquettes réelles\n",
        "            similaires = np.array(y_pred == y)\n",
        "            Positifs += np.sum(similaires)\n",
        "\n",
        "    # Retourne le nombre total de prédictions correctes, le nombre total d'exemples, et la dernière prédiction\n",
        "    return Positifs, Total, y_pred\n",
        "\n",
        "def affichage(dataloader, message):\n",
        "  fig1, axs1 = plt.subplots(1,6,figsize=(6,1))\n",
        "  image_batch, label_batch = next(iter(dataloader))\n",
        "  for i in range(6):\n",
        "    image = image_batch[i].squeeze().numpy() # squeeze les dimensions de longueur 1 : ici la dimension du canal de l'image\n",
        "    message += str(label_batch[i].numpy())+\" \"\n",
        "    plt.subplot(1,6,i+1)\n",
        "    plt.imshow(image, cmap=\"gray\")\n",
        "  print(message)\n",
        "  plt.show()\n",
        "\n",
        "\n",
        "def count_parameters(model):\n",
        "    return sum(p.numel() for p in model.parameters() if p.requires_grad)"
      ]
    },
    {
      "cell_type": "code",
      "execution_count": null,
      "metadata": {
        "colab": {
          "base_uri": "https://localhost:8080/"
        },
        "id": "lzGW7K35AJ0O",
        "outputId": "dae4a6d6-bc25-4e0e-daaa-4e83c4734376"
      },
      "outputs": [
        {
          "data": {
            "text/plain": [
              "Dataset MNIST\n",
              "    Number of datapoints: 60000\n",
              "    Root location: /home/ENT-UR/AUTOFS/STUDENTS/coelhrod/Git/Apprentissage profond/TP2\n",
              "    Split: Train\n",
              "    StandardTransform\n",
              "Transform: ToTensor()"
            ]
          },
          "execution_count": 5,
          "metadata": {},
          "output_type": "execute_result"
        }
      ],
      "source": [
        "torch.manual_seed(42) #Set fixed random number seed\n",
        "\n",
        "# Prepare MNIST dataset\n",
        "dataset = MNIST(os.getcwd(), train = True, download=True, transform=transforms.ToTensor())\n",
        "dataset"
      ]
    },
    {
      "cell_type": "code",
      "execution_count": 14,
      "metadata": {
        "colab": {
          "base_uri": "https://localhost:8080/",
          "height": 334
        },
        "id": "JN7v1jVSAJ0P",
        "outputId": "75c1238f-3383-4022-ea06-1b7ff8fb6b1f"
      },
      "outputs": [
        {
          "name": "stdout",
          "output_type": "stream",
          "text": [
            "Train :5 7 1 5 0 2 \n"
          ]
        },
        {
          "data": {
            "image/png": "[encoded data removed]",
            "text/plain": [
              "<Figure size 600x100 with 6 Axes>"
            ]
          },
          "metadata": {},
          "output_type": "display_data"
        },
        {
          "name": "stdout",
          "output_type": "stream",
          "text": [
            "Valid :1 2 2 6 4 5 \n"
          ]
        },
        {
          "data": {
            "image/png": "[encoded data removed]",
            "text/plain": [
              "<Figure size 600x100 with 6 Axes>"
            ]
          },
          "metadata": {},
          "output_type": "display_data"
        }
      ],
      "source": [
        "N = len(dataset)\n",
        "N_train = int(N * 0.9)\n",
        "N_valid = N - N_train\n",
        "BATCH_SIZE = 64 # 128\n",
        "EPOCHS = 60 # 60\n",
        "LEARNING_RATE = 1e-3 # 1e-3\n",
        "OPTIM = \"ADAM\" # \"SGD\" #  \"ADAM\"\n",
        "Model_name = \"Mon_meilleur_MLP\"\n",
        "\n",
        "############### POUR LES FEATURES PIXELS #############\n",
        "# il faut construire la valid et le train\n",
        "train_dataset, valid_dataset = random_split(dataset, [N_train, N_valid])\n",
        "trainloader = torch.utils.data.DataLoader(train_dataset, batch_size=BATCH_SIZE, shuffle=True, num_workers=8)\n",
        "validloader = torch.utils.data.DataLoader(valid_dataset, batch_size=BATCH_SIZE, shuffle=True, num_workers=8)\n",
        "affichage(trainloader,\"Train :\")\n",
        "affichage(validloader,\"Valid :\")"
      ]
    },
    {
      "cell_type": "code",
      "execution_count": 15,
      "metadata": {
        "colab": {
          "base_uri": "https://localhost:8080/"
        },
        "id": "SlvJkgkeAJ0P",
        "outputId": "9ad504fb-6be9-4572-d472-894fa0c6d35a"
      },
      "outputs": [
        {
          "data": {
            "text/plain": [
              "========================================================================================================================\n",
              "Layer (type (var_name))                  Input Shape          Output Shape         Param #              Trainable\n",
              "========================================================================================================================\n",
              "MLP (MLP)                                [64, 1, 28, 28]      [64, 10]             --                   True\n",
              "├─Sequential (layers)                    [64, 1, 28, 28]      [64, 10]             --                   True\n",
              "│    └─Flatten (0)                       [64, 1, 28, 28]      [64, 784]            --                   --\n",
              "│    └─Linear (1)                        [64, 784]            [64, 216]            169,560              True\n",
              "│    └─ReLU (2)                          [64, 216]            [64, 216]            --                   --\n",
              "│    └─Linear (3)                        [64, 216]            [64, 10]             2,170                True\n",
              "========================================================================================================================\n",
              "Total params: 171,730\n",
              "Trainable params: 171,730\n",
              "Non-trainable params: 0\n",
              "Total mult-adds (M): 10.99\n",
              "========================================================================================================================\n",
              "Input size (MB): 0.20\n",
              "Forward/backward pass size (MB): 0.12\n",
              "Params size (MB): 0.69\n",
              "Estimated Total Size (MB): 1.00\n",
              "========================================================================================================================"
            ]
          },
          "execution_count": 15,
          "metadata": {},
          "output_type": "execute_result"
        }
      ],
      "source": [
        "dim = 28 * 28\n",
        "summary(model=MLP(input_features = dim),\n",
        "        input_size=(BATCH_SIZE, 1, 28, 28), # (batch_size, input_channels, img_width, img_height)\n",
        "        col_names=[\"input_size\", \"output_size\", \"num_params\", \"trainable\"],\n",
        "        col_width=20,\n",
        "        row_settings=[\"var_names\"])"
      ]
    },
    {
      "cell_type": "code",
      "execution_count": 16,
      "metadata": {
        "colab": {
          "base_uri": "https://localhost:8080/",
          "height": 829
        },
        "id": "K20aXoxdAJ0P",
        "outputId": "62fb841a-0d18-4a44-c993-e2148256535d"
      },
      "outputs": [
        {
          "name": "stderr",
          "output_type": "stream",
          "text": [
            "  3%|▎         | 2/60 [00:04<01:58,  2.05s/it]"
          ]
        },
        {
          "name": "stdout",
          "output_type": "stream",
          "text": [
            "best validation loss : 0.13236319325230222\n"
          ]
        },
        {
          "name": "stderr",
          "output_type": "stream",
          "text": [
            "  5%|▌         | 3/60 [00:06<01:56,  2.04s/it]"
          ]
        },
        {
          "name": "stdout",
          "output_type": "stream",
          "text": [
            "best validation loss : 0.10653076687471029\n"
          ]
        },
        {
          "name": "stderr",
          "output_type": "stream",
          "text": [
            "  7%|▋         | 4/60 [00:08<01:54,  2.04s/it]"
          ]
        },
        {
          "name": "stdout",
          "output_type": "stream",
          "text": [
            "best validation loss : 0.10265980407278588\n"
          ]
        },
        {
          "name": "stderr",
          "output_type": "stream",
          "text": [
            "  8%|▊         | 5/60 [00:10<01:51,  2.03s/it]"
          ]
        },
        {
          "name": "stdout",
          "output_type": "stream",
          "text": [
            "best validation loss : 0.09110855738176628\n"
          ]
        },
        {
          "name": "stderr",
          "output_type": "stream",
          "text": [
            " 10%|█         | 6/60 [00:12<01:48,  2.02s/it]"
          ]
        },
        {
          "name": "stdout",
          "output_type": "stream",
          "text": [
            "best validation loss : 0.08515098489365204\n"
          ]
        },
        {
          "name": "stderr",
          "output_type": "stream",
          "text": [
            " 12%|█▏        | 7/60 [00:14<01:46,  2.02s/it]"
          ]
        },
        {
          "name": "stdout",
          "output_type": "stream",
          "text": [
            "best validation loss : 0.08264854317035605\n"
          ]
        },
        {
          "name": "stderr",
          "output_type": "stream",
          "text": [
            " 15%|█▌        | 9/60 [00:18<01:42,  2.01s/it]"
          ]
        },
        {
          "name": "stdout",
          "output_type": "stream",
          "text": [
            "best validation loss : 0.079994989380716\n"
          ]
        },
        {
          "name": "stderr",
          "output_type": "stream",
          "text": [
            "100%|██████████| 60/60 [01:56<00:00,  1.95s/it]"
          ]
        },
        {
          "name": "stdout",
          "output_type": "stream",
          "text": [
            "Apprentisage terminé.\n",
            "\n"
          ]
        },
        {
          "name": "stderr",
          "output_type": "stream",
          "text": [
            "\n"
          ]
        },
        {
          "data": {
            "text/plain": [
              "<matplotlib.legend.Legend at 0x715815887550>"
            ]
          },
          "execution_count": 16,
          "metadata": {},
          "output_type": "execute_result"
        },
        {
          "data": {
            "image/png": "[encoded data removed]",
            "text/plain": [
              "<Figure size 640x480 with 1 Axes>"
            ]
          },
          "metadata": {},
          "output_type": "display_data"
        }
      ],
      "source": [
        "#################  Instanciation du MLP #################\n",
        "dim = 28 * 28  # dimension des images MNIST\n",
        "my_MLP = MLP(input_features = dim)\n",
        "my_loss = nn.CrossEntropyLoss()\n",
        "if OPTIM == \"SGD\":\n",
        "    my_optimizer = torch.optim.SGD(my_MLP.parameters(), lr=LEARNING_RATE)\n",
        "elif OPTIM == \"ADAM\":\n",
        "    my_optimizer = torch.optim.Adam(my_MLP.parameters(), lr=LEARNING_RATE)\n",
        "else:\n",
        "    print(\"Optimiseur inconnu !!!!\")\n",
        "\n",
        "############      BOUCLES D'APPRENTISSAGE     ###########\n",
        "train_loss = []\n",
        "valid_loss = []\n",
        "for t in tqdm(range(EPOCHS)):\n",
        "    train_loss.append(train_loop(trainloader, my_MLP, my_loss, my_optimizer))\n",
        "    # on test à chaque itération\n",
        "    valid_loss.append(valid_loop(validloader, my_MLP, my_loss))\n",
        "    # mettre ici le Early Stopping\n",
        "    if t == 0:\n",
        "        best_valid_loss = valid_loss[-1]\n",
        "    else:\n",
        "        if valid_loss[-1] < best_valid_loss:\n",
        "            best_valid_loss = valid_loss[-1]\n",
        "            print(f\"best validation loss : {best_valid_loss}\")\n",
        "            # on mémorise ce modèle\n",
        "            best_iter = t\n",
        "            torch.save(my_MLP.state_dict(), Model_name)\n",
        "\n",
        "print('Apprentisage terminé.\\n')\n",
        "\n",
        "# visu des loss train et test\n",
        "plt.figure()\n",
        "plt.plot(train_loss,\"b\",label=\"L_train\")\n",
        "plt.plot(valid_loss,\"r\",label=\"L_valid\")\n",
        "plt.legend()"
      ]
    },
    {
      "cell_type": "code",
      "execution_count": 17,
      "metadata": {
        "colab": {
          "base_uri": "https://localhost:8080/",
          "height": 255
        },
        "id": "RQKSwMi4AJ0P",
        "outputId": "c8219725-fea5-4586-ae3f-2e50076f1c07"
      },
      "outputs": [
        {
          "name": "stdout",
          "output_type": "stream",
          "text": [
            "Test :7 2 1 0 4 1 \n"
          ]
        },
        {
          "data": {
            "image/png": "[encoded data removed]",
            "text/plain": [
              "<Figure size 600x100 with 6 Axes>"
            ]
          },
          "metadata": {},
          "output_type": "display_data"
        },
        {
          "name": "stderr",
          "output_type": "stream",
          "text": [
            "/tmp/ipykernel_20628/3187708192.py:10: FutureWarning: You are using `torch.load` with `weights_only=False` (the current default value), which uses the default pickle module implicitly. It is possible to construct malicious pickle data which will execute arbitrary code during unpickling (See https://github.com/pytorch/pytorch/blob/main/SECURITY.md#untrusted-models for more details). In a future release, the default value for `weights_only` will be flipped to `True`. This limits the functions that could be executed during unpickling. Arbitrary objects will no longer be allowed to be loaded via this mode unless they are explicitly allowlisted by the user via `torch.serialization.add_safe_globals`. We recommend you start setting `weights_only=True` for any use case where you don't have full control of the loaded file. Please open an issue on GitHub for any issues related to this experimental feature.\n",
            "  my_best_MLP.load_state_dict(torch.load(Model_name))\n"
          ]
        },
        {
          "name": "stdout",
          "output_type": "stream",
          "text": [
            "Taux de reco en Test: 9776 / 10000 = 97.76 % de réussite\n",
            "Meilleure époque : 9\n",
            "Nombre de paramètres libres: 171730\n"
          ]
        },
        {
          "name": "stderr",
          "output_type": "stream",
          "text": [
            "/tmp/ipykernel_20628/1268584892.py:70: DeprecationWarning: __array__ implementation doesn't accept a copy keyword, so passing copy=False failed. __array__ must implement 'dtype' and 'copy' keyword arguments. To learn more, see the migration guide https://numpy.org/devdocs/numpy_2_0_migration_guide.html#adapting-to-changes-in-the-copy-keyword\n",
            "  similaires = np.array(y_pred == y)\n"
          ]
        }
      ],
      "source": [
        "############## on teste maintenaant les performances ################\n",
        "test_dataset = MNIST(os.getcwd(), train = False, download=True, transform=transforms.ToTensor())\n",
        "N_test = len(test_dataset)\n",
        "\n",
        "##############\n",
        "testloader = torch.utils.data.DataLoader(test_dataset, batch_size=N_test, shuffle=False, num_workers=1)\n",
        "affichage(testloader,\"Test :\")\n",
        "\n",
        "my_best_MLP = MLP(input_features = dim)\n",
        "my_best_MLP.load_state_dict(torch.load(Model_name))\n",
        "Positifs, Total, y_pred = perf_loop(testloader, my_best_MLP)\n",
        "print(\"Taux de reco en Test:\",Positifs,\"/\", Total, \"=\", (Positifs/Total)*100, \"% de réussite\")\n",
        "print(\"Meilleure époque :\",best_iter+1)\n",
        "\n",
        "nb_train_param = count_parameters(my_best_MLP)\n",
        "print(\"Nombre de paramètres libres:\",nb_train_param)"
      ]
    }
  ],
  "metadata": {
    "accelerator": "GPU",
    "colab": {
      "gpuType": "T4",
      "provenance": []
    },
    "kernelspec": {
      "display_name": "Python 3",
      "name": "python3"
    },
    "language_info": {
      "codemirror_mode": {
        "name": "ipython",
        "version": 3
      },
      "file_extension": ".py",
      "mimetype": "text/x-python",
      "name": "python",
      "nbconvert_exporter": "python",
      "pygments_lexer": "ipython3",
      "version": "3.10.12"
    }
  },
  "nbformat": 4,
  "nbformat_minor": 0
}
