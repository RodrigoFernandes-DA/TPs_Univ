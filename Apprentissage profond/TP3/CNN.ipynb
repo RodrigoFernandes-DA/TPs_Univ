{
  "cells": [
    {
      "cell_type": "code",
      "execution_count": 2,
      "metadata": {},
      "outputs": [
        {
          "name": "stdout",
          "output_type": "stream",
          "text": [
            "Defaulting to user installation because normal site-packages is not writeable\n",
            "Collecting tensorboard\n",
            "  Downloading tensorboard-2.19.0-py3-none-any.whl (5.5 MB)\n",
            "\u001b[2K     \u001b[90m━━━━━━━━━━━━━━━━━━━━━━━━━━━━━━━━━━━━━━━━\u001b[0m \u001b[32m5.5/5.5 MB\u001b[0m \u001b[31m26.1 MB/s\u001b[0m eta \u001b[36m0:00:00\u001b[0m00:01\u001b[0m00:01\u001b[0m\n",
            "\u001b[?25hRequirement already satisfied: numpy>=1.12.0 in /home/UR/coelhrod/.local/lib/python3.10/site-packages (from tensorboard) (2.0.0)\n",
            "Requirement already satisfied: six>1.9 in /usr/local/lib/python3.10/dist-packages (from tensorboard) (1.17.0)\n",
            "Collecting protobuf!=4.24.0,>=3.19.6\n",
            "  Downloading protobuf-5.29.3-cp38-abi3-manylinux2014_x86_64.whl (319 kB)\n",
            "\u001b[2K     \u001b[90m━━━━━━━━━━━━━━━━━━━━━━━━━━━━━━━━━━━━━━\u001b[0m \u001b[32m319.7/319.7 KB\u001b[0m \u001b[31m13.8 MB/s\u001b[0m eta \u001b[36m0:00:00\u001b[0m\n",
            "\u001b[?25hCollecting tensorboard-data-server<0.8.0,>=0.7.0\n",
            "  Downloading tensorboard_data_server-0.7.2-py3-none-manylinux_2_31_x86_64.whl (6.6 MB)\n",
            "\u001b[2K     \u001b[90m━━━━━━━━━━━━━━━━━━━━━━━━━━━━━━━━━━━━━━━━\u001b[0m \u001b[32m6.6/6.6 MB\u001b[0m \u001b[31m33.6 MB/s\u001b[0m eta \u001b[36m0:00:00\u001b[0m00:01\u001b[0m00:01\u001b[0m\n",
            "\u001b[?25hRequirement already satisfied: setuptools>=41.0.0 in /usr/local/lib/python3.10/dist-packages (from tensorboard) (75.8.1)\n",
            "Requirement already satisfied: packaging in /usr/local/lib/python3.10/dist-packages (from tensorboard) (24.2)\n",
            "Collecting grpcio>=1.48.2\n",
            "  Downloading grpcio-1.70.0-cp310-cp310-manylinux_2_17_x86_64.manylinux2014_x86_64.whl (5.9 MB)\n",
            "\u001b[2K     \u001b[90m━━━━━━━━━━━━━━━━━━━━━━━━━━━━━━━━━━━━━━━━\u001b[0m \u001b[32m5.9/5.9 MB\u001b[0m \u001b[31m33.4 MB/s\u001b[0m eta \u001b[36m0:00:00\u001b[0m00:01\u001b[0m00:01\u001b[0m\n",
            "\u001b[?25hCollecting werkzeug>=1.0.1\n",
            "  Downloading werkzeug-3.1.3-py3-none-any.whl (224 kB)\n",
            "\u001b[2K     \u001b[90m━━━━━━━━━━━━━━━━━━━━━━━━━━━━━━━━━━━━━━\u001b[0m \u001b[32m224.5/224.5 KB\u001b[0m \u001b[31m12.9 MB/s\u001b[0m eta \u001b[36m0:00:00\u001b[0m\n",
            "\u001b[?25hRequirement already satisfied: absl-py>=0.4 in /usr/local/lib/python3.10/dist-packages (from tensorboard) (2.1.0)\n",
            "Collecting markdown>=2.6.8\n",
            "  Downloading Markdown-3.7-py3-none-any.whl (106 kB)\n",
            "\u001b[2K     \u001b[90m━━━━━━━━━━━━━━━━━━━━━━━━━━━━━━━━━━━━━━━\u001b[0m \u001b[32m106.3/106.3 KB\u001b[0m \u001b[31m8.4 MB/s\u001b[0m eta \u001b[36m0:00:00\u001b[0m\n",
            "\u001b[?25hCollecting MarkupSafe>=2.1.1\n",
            "  Downloading MarkupSafe-3.0.2-cp310-cp310-manylinux_2_17_x86_64.manylinux2014_x86_64.whl (20 kB)\n",
            "Installing collected packages: tensorboard-data-server, protobuf, MarkupSafe, markdown, grpcio, werkzeug, tensorboard\n",
            "Successfully installed MarkupSafe-3.0.2 grpcio-1.70.0 markdown-3.7 protobuf-5.29.3 tensorboard-2.19.0 tensorboard-data-server-0.7.2 werkzeug-3.1.3\n",
            "Note: you may need to restart the kernel to use updated packages.\n"
          ]
        }
      ],
      "source": [
        "pip install tensorboard"
      ]
    },
    {
      "cell_type": "code",
      "execution_count": 3,
      "metadata": {
        "id": "sKMGG5_uhEMa"
      },
      "outputs": [],
      "source": [
        "import os\n",
        "import matplotlib.pyplot as plt\n",
        "import math\n",
        "import tqdm\n",
        "from tqdm import tqdm\n",
        "import numpy as np\n",
        "\n",
        "import torch\n",
        "import torchvision\n",
        "from torch import nn\n",
        "from torchvision.datasets import MNIST\n",
        "from torchvision.datasets import FashionMNIST\n",
        "from torch.utils.data import DataLoader\n",
        "from torch.utils.data import random_split\n",
        "from torchvision import transforms\n",
        "from torch.utils.tensorboard import SummaryWriter # Permet de générer des fichiers exploitables par TensorBoard"
      ]
    },
    {
      "cell_type": "markdown",
      "metadata": {
        "id": "2BJCQTSZszoh"
      },
      "source": [
        "#**1. MLP : utilisation du GPU**"
      ]
    },
    {
      "cell_type": "code",
      "execution_count": 4,
      "metadata": {
        "colab": {
          "base_uri": "https://localhost:8080/"
        },
        "id": "3HpaH9NohEMe",
        "outputId": "ae50ae78-6292-45c2-db1d-f34d696e27d5"
      },
      "outputs": [
        {
          "name": "stdout",
          "output_type": "stream",
          "text": [
            "Processeur disponible: cpu\n"
          ]
        }
      ],
      "source": [
        "# Test disponibilité du GPU\n",
        "if torch.cuda.is_available() :\n",
        "    device = torch.device(\"cuda:0\")\n",
        "    print(\" Proceseur disponible:\",device,\"device name :\",torch.cuda.get_device_name(0))\n",
        "else:\n",
        "    device = torch.device(\"cpu\")\n",
        "    print(\"Processeur disponible:\",device)\n",
        "\n",
        "# Permet de forcer l'utilisation sur CPU:\n",
        "#device = torch.device(\"cpu\")"
      ]
    },
    {
      "cell_type": "code",
      "execution_count": 5,
      "metadata": {
        "id": "FB2vrhXHhEMd"
      },
      "outputs": [],
      "source": [
        "# On redéfinit l'architecture de notre MLP\n",
        "class MLP(nn.Module):\n",
        "  '''\n",
        "    Multilayer Perceptron.\n",
        "  '''\n",
        "  def __init__(self,input_features=128):\n",
        "    super().__init__()\n",
        "    self.layers = nn.Sequential(\n",
        "      nn.Flatten(),                   # on vectorise les entrées si ce n'est pas le cas\n",
        "      nn.Linear(input_features, 512),\n",
        "      nn.Sigmoid(), #nn.Sigmoid(), nn.ReLU()\n",
        "      nn.Linear(512,128),\n",
        "      nn.Sigmoid(), #nn.Sigmoid(), nn.ReLU()\n",
        "      nn.Linear(128, 10)\n",
        "    )\n",
        "\n",
        "  def forward(self, x):      # l'activation softmax est mise automatiquement dans la loss CrossEntropy\n",
        "    '''Forward pass'''       # il faut l'ajouter au moment du test si on le souhaite\n",
        "    return self.layers(x)    # voir la méthode def perf_loop(dataloader, model):"
      ]
    },
    {
      "cell_type": "code",
      "execution_count": 6,
      "metadata": {
        "id": "M1ShZVYEc8bx"
      },
      "outputs": [],
      "source": [
        "def train_loop(dataloader, model, loss_fn, optimizer, device):\n",
        "    size = len(dataloader.dataset)\n",
        "    nb_batches = len(dataloader)\n",
        "    epoch_loss = 0\n",
        "\n",
        "    # Initialize tqdm progress bar\n",
        "    pbar = tqdm(total=nb_batches, desc='Training', position=0)\n",
        "\n",
        "    for batch, (X, y) in enumerate(dataloader):\n",
        "        X, y = X.to(device), y.to(device)\n",
        "        pred = model(X.float())\n",
        "        loss = loss_fn(pred, y)\n",
        "        epoch_loss += loss.item()\n",
        "\n",
        "        # Backpropagation\n",
        "        optimizer.zero_grad()\n",
        "        loss.backward()\n",
        "        optimizer.step()\n",
        "\n",
        "        # Update tqdm progress bar with current loss\n",
        "        pbar.set_postfix({'train_loss': loss.item()}, refresh=True)\n",
        "        pbar.update(1)\n",
        "    pbar.close()\n",
        "    return epoch_loss / nb_batches\n",
        "\n",
        "\n",
        "def valid_loop(dataloader, model, loss_fn, device):\n",
        "    size = len(dataloader.dataset)\n",
        "    nb_batches = len(dataloader)\n",
        "    valid_loss = 0\n",
        "\n",
        "    # Initialize tqdm progress bar\n",
        "    pbar = tqdm(total=nb_batches, desc='Validation', position=0)\n",
        "\n",
        "    with torch.no_grad():\n",
        "        for X, y in dataloader:\n",
        "            X, y = X.to(device), y.to(device)\n",
        "            pred = model(X.float())\n",
        "            valid_loss += loss_fn(pred, y).item()\n",
        "             # Update tqdm progress bar with current loss\n",
        "            pbar.set_postfix({'valid_loss': valid_loss}, refresh=True)\n",
        "            pbar.update(1)\n",
        "\n",
        "    pbar.close()\n",
        "\n",
        "    valid_loss /= nb_batches\n",
        "    return valid_loss\n",
        "\n",
        "\n",
        "def perf_loop(dataloader, model,device):\n",
        "    Total = len(list(dataloader.dataset))\n",
        "    nb_batches = len(dataloader)\n",
        "    Positifs = 0\n",
        "    with torch.no_grad():\n",
        "        for X, y in dataloader:\n",
        "            X, y = X.to(device), y.to(device)\n",
        "            pred = model(X.float())\n",
        "            prob_pred = nn.Softmax(dim=1)(pred) # pas nécessaire pour prédire le meilleur\n",
        "            y_pred = torch.argmax(prob_pred,dim=1)\n",
        "            #similaires = np.array(y_pred==y)\n",
        "            similaires = y_pred == y\n",
        "            #Positifs += np.sum(similaires)\n",
        "            Positifs += torch.sum(similaires)\n",
        "    return Positifs.cpu().numpy(), Total, y_pred.cpu().numpy()\n",
        "\n",
        "\n",
        "def affichage(dataloader, message):\n",
        "  fig1, axs1 = plt.subplots(1,6,figsize=(6,1))\n",
        "  image_batch, label_batch = next(iter(dataloader))\n",
        "  for i in range(6):\n",
        "    image = image_batch[i].squeeze().numpy() # squeeze les dimensions de longueur 1 : ici la dimension du canal de l'image\n",
        "    message += str(label_batch[i].numpy())+\" \"\n",
        "    plt.subplot(1,6,i+1)\n",
        "    plt.imshow(image, cmap=\"gray\")\n",
        "  print(message)\n",
        "  plt.show()\n",
        "\n",
        "\n",
        "def count_parameters(model):\n",
        "    return sum(p.numel() for p in model.parameters() if p.requires_grad)"
      ]
    },
    {
      "cell_type": "code",
      "execution_count": 7,
      "metadata": {
        "colab": {
          "base_uri": "https://localhost:8080/",
          "height": 280
        },
        "id": "7Jj9gtJwhEMe",
        "outputId": "661669a5-47cc-4877-bab6-8ff5f58bde1a"
      },
      "outputs": [
        {
          "name": "stdout",
          "output_type": "stream",
          "text": [
            "Downloading http://yann.lecun.com/exdb/mnist/train-images-idx3-ubyte.gz\n",
            "Failed to download (trying next):\n",
            "HTTP Error 404: Not Found\n",
            "\n",
            "Downloading https://ossci-datasets.s3.amazonaws.com/mnist/train-images-idx3-ubyte.gz\n",
            "Downloading https://ossci-datasets.s3.amazonaws.com/mnist/train-images-idx3-ubyte.gz to /home/ENT-UR/AUTOFS/STUDENTS/coelhrod/Git/Apprentissage profond/TP3/MNIST/raw/train-images-idx3-ubyte.gz\n"
          ]
        },
        {
          "name": "stderr",
          "output_type": "stream",
          "text": [
            "100%|██████████| 9912422/9912422 [00:00<00:00, 13794934.38it/s]\n"
          ]
        },
        {
          "name": "stdout",
          "output_type": "stream",
          "text": [
            "Extracting /home/ENT-UR/AUTOFS/STUDENTS/coelhrod/Git/Apprentissage profond/TP3/MNIST/raw/train-images-idx3-ubyte.gz to /home/ENT-UR/AUTOFS/STUDENTS/coelhrod/Git/Apprentissage profond/TP3/MNIST/raw\n",
            "\n",
            "Downloading http://yann.lecun.com/exdb/mnist/train-labels-idx1-ubyte.gz\n",
            "Failed to download (trying next):\n",
            "HTTP Error 404: Not Found\n",
            "\n",
            "Downloading https://ossci-datasets.s3.amazonaws.com/mnist/train-labels-idx1-ubyte.gz\n",
            "Downloading https://ossci-datasets.s3.amazonaws.com/mnist/train-labels-idx1-ubyte.gz to /home/ENT-UR/AUTOFS/STUDENTS/coelhrod/Git/Apprentissage profond/TP3/MNIST/raw/train-labels-idx1-ubyte.gz\n"
          ]
        },
        {
          "name": "stderr",
          "output_type": "stream",
          "text": [
            "100%|██████████| 28881/28881 [00:00<00:00, 429978.50it/s]\n"
          ]
        },
        {
          "name": "stdout",
          "output_type": "stream",
          "text": [
            "Extracting /home/ENT-UR/AUTOFS/STUDENTS/coelhrod/Git/Apprentissage profond/TP3/MNIST/raw/train-labels-idx1-ubyte.gz to /home/ENT-UR/AUTOFS/STUDENTS/coelhrod/Git/Apprentissage profond/TP3/MNIST/raw\n",
            "\n",
            "Downloading http://yann.lecun.com/exdb/mnist/t10k-images-idx3-ubyte.gz\n",
            "Failed to download (trying next):\n",
            "HTTP Error 404: Not Found\n",
            "\n",
            "Downloading https://ossci-datasets.s3.amazonaws.com/mnist/t10k-images-idx3-ubyte.gz\n",
            "Downloading https://ossci-datasets.s3.amazonaws.com/mnist/t10k-images-idx3-ubyte.gz to /home/ENT-UR/AUTOFS/STUDENTS/coelhrod/Git/Apprentissage profond/TP3/MNIST/raw/t10k-images-idx3-ubyte.gz\n"
          ]
        },
        {
          "name": "stderr",
          "output_type": "stream",
          "text": [
            "100%|██████████| 1648877/1648877 [00:00<00:00, 3474686.74it/s]\n"
          ]
        },
        {
          "name": "stdout",
          "output_type": "stream",
          "text": [
            "Extracting /home/ENT-UR/AUTOFS/STUDENTS/coelhrod/Git/Apprentissage profond/TP3/MNIST/raw/t10k-images-idx3-ubyte.gz to /home/ENT-UR/AUTOFS/STUDENTS/coelhrod/Git/Apprentissage profond/TP3/MNIST/raw\n",
            "\n",
            "Downloading http://yann.lecun.com/exdb/mnist/t10k-labels-idx1-ubyte.gz\n",
            "Failed to download (trying next):\n",
            "HTTP Error 404: Not Found\n",
            "\n",
            "Downloading https://ossci-datasets.s3.amazonaws.com/mnist/t10k-labels-idx1-ubyte.gz\n",
            "Downloading https://ossci-datasets.s3.amazonaws.com/mnist/t10k-labels-idx1-ubyte.gz to /home/ENT-UR/AUTOFS/STUDENTS/coelhrod/Git/Apprentissage profond/TP3/MNIST/raw/t10k-labels-idx1-ubyte.gz\n"
          ]
        },
        {
          "name": "stderr",
          "output_type": "stream",
          "text": [
            "100%|██████████| 4542/4542 [00:00<00:00, 18658696.15it/s]\n"
          ]
        },
        {
          "name": "stdout",
          "output_type": "stream",
          "text": [
            "Extracting /home/ENT-UR/AUTOFS/STUDENTS/coelhrod/Git/Apprentissage profond/TP3/MNIST/raw/t10k-labels-idx1-ubyte.gz to /home/ENT-UR/AUTOFS/STUDENTS/coelhrod/Git/Apprentissage profond/TP3/MNIST/raw\n",
            "\n",
            "Train :1 8 6 7 4 8 \n"
          ]
        },
        {
          "data": {
            "image/png": "[encoded data removed]",
            "text/plain": [
              "<Figure size 600x100 with 6 Axes>"
            ]
          },
          "metadata": {},
          "output_type": "display_data"
        },
        {
          "name": "stdout",
          "output_type": "stream",
          "text": [
            "Valid :5 7 8 7 6 6 \n"
          ]
        },
        {
          "data": {
            "image/png": "[encoded data removed]",
            "text/plain": [
              "<Figure size 600x100 with 6 Axes>"
            ]
          },
          "metadata": {},
          "output_type": "display_data"
        }
      ],
      "source": [
        "torch.manual_seed(42)\n",
        "def load_MNIST(version=\"regular\"):\n",
        "\n",
        "  # On prépare le dataset MNIST choisi\n",
        "  if version == 'regular':\n",
        "      dataset = MNIST(os.getcwd(), train = True, download=True, transform=transforms.ToTensor())\n",
        "  elif version == 'fashion':\n",
        "      dataset = FashionMNIST(os.getcwd(), train = True, download=True, transform=transforms.ToTensor())\n",
        "  return dataset\n",
        "\n",
        "dataset = load_MNIST(version=\"regular\")\n",
        "# Définition des paramètres d'apprentissage du réseau (batch_size, epochs, learning_rate, optimiseur): utiliser ceux qui ont obtenu les meilleurs résultats lors du TP précédent\n",
        "dim = 28 * 28  # dimension des images MNIST\n",
        "N = len(dataset)\n",
        "N_train = int(N * 0.9)\n",
        "N_valid = N - N_train\n",
        "batch_size = 64 #= 128\n",
        "epochs = 20\n",
        "learning_rate = 1e-2 #= 1e-3\n",
        "OPTIM = \"ADAM\" # \"SGD\" \"ADAM\"\n",
        "Model_name = \"Mon_meilleur_MLP.pt\"\n",
        "\n",
        "############### POUR LES FEATURES PIXELS #############\n",
        "# il faut construire la valid et le train\n",
        "data = [x for x in dataset]\n",
        "train_dataset = data[:N_train]\n",
        "valid_dataset = data[N_train:N_train+N_valid]\n",
        "trainloader = torch.utils.data.DataLoader(train_dataset, batch_size=batch_size, shuffle=True, num_workers=1)\n",
        "validloader = torch.utils.data.DataLoader(valid_dataset, batch_size=batch_size, shuffle=True, num_workers=1)\n",
        "\n",
        "affichage(trainloader,\"Train :\")\n",
        "affichage(validloader,\"Valid :\")"
      ]
    },
    {
      "cell_type": "code",
      "execution_count": 8,
      "metadata": {
        "colab": {
          "base_uri": "https://localhost:8080/",
          "height": 1000
        },
        "id": "2Eeba3REfRZB",
        "outputId": "a81587f9-edd8-463d-f8d7-9dc2ec5b1449"
      },
      "outputs": [
        {
          "name": "stderr",
          "output_type": "stream",
          "text": [
            "Training: 100%|██████████| 844/844 [00:02<00:00, 292.68it/s, train_loss=0.0436] \n",
            "Validation: 100%|██████████| 94/94 [00:00<00:00, 623.35it/s, valid_loss=9.94]\n",
            "Training: 100%|██████████| 844/844 [00:02<00:00, 314.39it/s, train_loss=0.374]  \n",
            "Validation: 100%|██████████| 94/94 [00:00<00:00, 610.79it/s, valid_loss=9.21]\n",
            " 10%|█         | 2/20 [00:05<00:52,  2.94s/it]"
          ]
        },
        {
          "name": "stdout",
          "output_type": "stream",
          "text": [
            "best validation loss : 0.098020688868425\n"
          ]
        },
        {
          "name": "stderr",
          "output_type": "stream",
          "text": [
            "Training: 100%|██████████| 844/844 [00:02<00:00, 310.77it/s, train_loss=0.156]  \n",
            "Validation: 100%|██████████| 94/94 [00:00<00:00, 610.27it/s, valid_loss=8.66] \n",
            " 15%|█▌        | 3/20 [00:08<00:49,  2.93s/it]"
          ]
        },
        {
          "name": "stdout",
          "output_type": "stream",
          "text": [
            "best validation loss : 0.09216418859370529\n"
          ]
        },
        {
          "name": "stderr",
          "output_type": "stream",
          "text": [
            "Training: 100%|██████████| 844/844 [00:02<00:00, 316.20it/s, train_loss=0.00942]\n",
            "Validation: 100%|██████████| 94/94 [00:00<00:00, 624.78it/s, valid_loss=8.75]\n",
            "Training: 100%|██████████| 844/844 [00:02<00:00, 305.45it/s, train_loss=0.0802] \n",
            "Validation: 100%|██████████| 94/94 [00:00<00:00, 582.28it/s, valid_loss=8.76]\n",
            "Training: 100%|██████████| 844/844 [00:02<00:00, 300.88it/s, train_loss=0.198]  \n",
            "Validation: 100%|██████████| 94/94 [00:00<00:00, 600.18it/s, valid_loss=10.1]\n",
            "Training: 100%|██████████| 844/844 [00:02<00:00, 296.47it/s, train_loss=0.15]   \n",
            "Validation: 100%|██████████| 94/94 [00:00<00:00, 552.31it/s, valid_loss=9.25]\n",
            "Training: 100%|██████████| 844/844 [00:02<00:00, 282.82it/s, train_loss=0.0633]  \n",
            "Validation: 100%|██████████| 94/94 [00:00<00:00, 613.76it/s, valid_loss=8.84] \n",
            "Training: 100%|██████████| 844/844 [00:02<00:00, 282.37it/s, train_loss=0.111]   \n",
            "Validation: 100%|██████████| 94/94 [00:00<00:00, 604.25it/s, valid_loss=7.49]\n",
            " 45%|████▌     | 9/20 [00:26<00:33,  3.07s/it]"
          ]
        },
        {
          "name": "stdout",
          "output_type": "stream",
          "text": [
            "best validation loss : 0.07964555266501501\n"
          ]
        },
        {
          "name": "stderr",
          "output_type": "stream",
          "text": [
            "Training: 100%|██████████| 844/844 [00:03<00:00, 269.84it/s, train_loss=0.00478] \n",
            "Validation: 100%|██████████| 94/94 [00:00<00:00, 550.73it/s, valid_loss=9.29]\n",
            "Training: 100%|██████████| 844/844 [00:03<00:00, 266.71it/s, train_loss=0.0118]  \n",
            "Validation: 100%|██████████| 94/94 [00:00<00:00, 614.97it/s, valid_loss=8.94] \n",
            "Training: 100%|██████████| 844/844 [00:03<00:00, 253.63it/s, train_loss=0.00365] \n",
            "Validation: 100%|██████████| 94/94 [00:00<00:00, 536.44it/s, valid_loss=9.82] \n",
            "Training: 100%|██████████| 844/844 [00:03<00:00, 251.45it/s, train_loss=0.018]   \n",
            "Validation: 100%|██████████| 94/94 [00:00<00:00, 607.83it/s, valid_loss=10.4]\n",
            "Training: 100%|██████████| 844/844 [00:03<00:00, 243.32it/s, train_loss=0.161]   \n",
            "Validation: 100%|██████████| 94/94 [00:00<00:00, 587.40it/s, valid_loss=10.2]\n",
            "Training: 100%|██████████| 844/844 [00:03<00:00, 234.61it/s, train_loss=0.0059]  \n",
            "Validation: 100%|██████████| 94/94 [00:00<00:00, 511.91it/s, valid_loss=9.22]\n",
            "Training: 100%|██████████| 844/844 [00:03<00:00, 217.36it/s, train_loss=0.0341]  \n",
            "Validation: 100%|██████████| 94/94 [00:00<00:00, 415.66it/s, valid_loss=10.1]\n",
            "Training: 100%|██████████| 844/844 [00:03<00:00, 215.06it/s, train_loss=0.126]   \n",
            "Validation: 100%|██████████| 94/94 [00:00<00:00, 449.02it/s, valid_loss=8.98]\n",
            "Training: 100%|██████████| 844/844 [00:03<00:00, 226.28it/s, train_loss=0.0364]  \n",
            "Validation: 100%|██████████| 94/94 [00:00<00:00, 387.66it/s, valid_loss=11]  \n",
            "Training: 100%|██████████| 844/844 [00:03<00:00, 219.44it/s, train_loss=0.00154] \n",
            "Validation: 100%|██████████| 94/94 [00:00<00:00, 437.08it/s, valid_loss=10.6]\n",
            "Training: 100%|██████████| 844/844 [00:04<00:00, 206.55it/s, train_loss=0.261]   \n",
            "Validation: 100%|██████████| 94/94 [00:00<00:00, 484.51it/s, valid_loss=10.1]\n",
            "100%|██████████| 20/20 [01:08<00:00,  3.43s/it]"
          ]
        },
        {
          "name": "stdout",
          "output_type": "stream",
          "text": [
            "Apprentisage terminé.\n",
            "\n"
          ]
        },
        {
          "name": "stderr",
          "output_type": "stream",
          "text": [
            "\n"
          ]
        },
        {
          "data": {
            "text/plain": [
              "<matplotlib.legend.Legend at 0x7f6ece6092a0>"
            ]
          },
          "execution_count": 8,
          "metadata": {},
          "output_type": "execute_result"
        },
        {
          "data": {
            "image/png": "[encoded data removed]",
            "text/plain": [
              "<Figure size 640x480 with 1 Axes>"
            ]
          },
          "metadata": {},
          "output_type": "display_data"
        }
      ],
      "source": [
        "my_MLP = MLP(input_features = dim).to(device)\n",
        "my_loss = nn.CrossEntropyLoss()\n",
        "if OPTIM == \"SGD\":\n",
        "    my_optimizer = torch.optim.SGD(my_MLP.parameters(), lr=learning_rate)\n",
        "elif OPTIM == \"ADAM\":\n",
        "    my_optimizer = torch.optim.Adam(my_MLP.parameters(), lr=learning_rate)\n",
        "else:\n",
        "    print(\"Optimiseur inconnu !!!!\")\n",
        "\n",
        "############      BOUCLES D'APPRENTISSAGE     ###########\n",
        "train_loss = []\n",
        "valid_loss = []\n",
        "for t in tqdm(range(epochs)):\n",
        "    train_loss.append(train_loop(trainloader, my_MLP, my_loss, my_optimizer, device))\n",
        "    # on test à chaque itération\n",
        "    valid_loss.append(valid_loop(validloader, my_MLP, my_loss, device))\n",
        "    # mettre ici le Early Stopping\n",
        "    if t == 0:\n",
        "        best_valid_loss = valid_loss[-1]\n",
        "    else:\n",
        "        if valid_loss[-1] < best_valid_loss:\n",
        "            best_valid_loss = valid_loss[-1]\n",
        "            print(f\"best validation loss : {best_valid_loss}\")\n",
        "            # on mémorise ce modèle\n",
        "            best_iter = t\n",
        "            torch.save(my_MLP.state_dict(), Model_name)\n",
        "\n",
        "print('Apprentisage terminé.\\n')\n",
        "\n",
        "# visu des loss train et test\n",
        "plt.figure()\n",
        "plt.plot(train_loss,\"b\",label=\"L_train\")\n",
        "plt.plot(valid_loss,\"r\",label=\"L_valid\")\n",
        "plt.legend()"
      ]
    },
    {
      "cell_type": "code",
      "execution_count": 9,
      "metadata": {
        "colab": {
          "base_uri": "https://localhost:8080/",
          "height": 255
        },
        "id": "xkr3VDTDhlE4",
        "outputId": "101096a9-2c8f-4ab7-d658-6f1896561a01"
      },
      "outputs": [
        {
          "name": "stdout",
          "output_type": "stream",
          "text": [
            "Test :7 2 1 0 4 1 \n"
          ]
        },
        {
          "data": {
            "image/png": "[encoded data removed]",
            "text/plain": [
              "<Figure size 600x100 with 6 Axes>"
            ]
          },
          "metadata": {},
          "output_type": "display_data"
        },
        {
          "name": "stdout",
          "output_type": "stream",
          "text": [
            "Taux de reco en Test: 9770 / 10000 = 97.7 % de réussite\n",
            "Meilleure époque : 9\n",
            "Nombre de paramètres libres: 468874\n"
          ]
        }
      ],
      "source": [
        "############## Vérification des performances sur un ensemble de test séparé ################\n",
        "test_dataset = MNIST(os.getcwd(), train = False, download=True, transform=transforms.ToTensor())\n",
        "N_test = len(test_dataset)\n",
        "\n",
        "testloader = torch.utils.data.DataLoader(test_dataset, batch_size=N_test, shuffle=False, num_workers=1)\n",
        "affichage(testloader,\"Test :\")\n",
        "\n",
        "my_best_MLP = MLP(input_features = dim).to(device)\n",
        "my_best_MLP.load_state_dict(torch.load(Model_name))\n",
        "Positifs, Total, y_pred = perf_loop(testloader, my_best_MLP, device)\n",
        "print(\"Taux de reco en Test:\",Positifs,\"/\", Total, \"=\", (Positifs/Total)*100, \"% de réussite\")\n",
        "print(\"Meilleure époque :\",best_iter+1)\n",
        "\n",
        "nb_train_param = count_parameters(my_best_MLP)\n",
        "print(\"Nombre de paramètres libres:\",nb_train_param)"
      ]
    },
    {
      "cell_type": "markdown",
      "metadata": {
        "id": "GFvdvRKTtIxN"
      },
      "source": [
        "#**2. CNN**"
      ]
    },
    {
      "cell_type": "code",
      "execution_count": null,
      "metadata": {
        "id": "5WviNQgstH5j"
      },
      "outputs": [],
      "source": [
        "class CNN(nn.Module):\n",
        "    def __init__(self):\n",
        "        super(CNN, self).__init__()\n",
        "        # premier bloc conv ReLU Pooling à 16 canaux\n",
        "        self.conv1 = nn.Sequential(\n",
        "            nn.Conv2d(in_channels=1,out_channels=16,kernel_size=3,stride=1,padding=1),\n",
        "            nn.ReLU(),\n",
        "            nn.MaxPool2d(kernel_size=2)\n",
        "        )\n",
        "        # second bloc conv ReLU Pooling à 32 canaux sur carte de taille 7 x 7 car 2 MaxPooling\n",
        "        self.conv2 = nn.Sequential(\n",
        "            nn.Conv2d(in_channels=16, out_channels=32, kernel_size=3, stride=1, padding=1),\n",
        "            nn.ReLU(),\n",
        "            nn.MaxPool2d(2),\n",
        "            nn.Flatten()\n",
        "        )\n",
        "        # fully connected layer, output 10 classes\n",
        "        self.last_layer = nn.Linear(32 * 7 * 7, 10)\n",
        "    def forward(self, x):\n",
        "        x = self.conv1(x)\n",
        "        x = self.conv2(x)\n",
        "        output = self.last_layer(x)\n",
        "        return output"
      ]
    },
    {
      "cell_type": "code",
      "execution_count": null,
      "metadata": {
        "colab": {
          "base_uri": "https://localhost:8080/",
          "height": 280
        },
        "id": "jMquoQv6rDSY",
        "outputId": "808b8f63-0400-4f51-a625-bd6e2325694c"
      },
      "outputs": [
        {
          "name": "stdout",
          "output_type": "stream",
          "text": [
            "Train :0 2 1 5 7 9 \n"
          ]
        },
        {
          "data": {
            "image/png": "[encoded data removed]",
            "text/plain": [
              "<Figure size 600x100 with 6 Axes>"
            ]
          },
          "metadata": {},
          "output_type": "display_data"
        },
        {
          "name": "stdout",
          "output_type": "stream",
          "text": [
            "Valid :6 0 1 1 4 4 \n"
          ]
        },
        {
          "data": {
            "image/png": "[encoded data removed]",
            "text/plain": [
              "<Figure size 600x100 with 6 Axes>"
            ]
          },
          "metadata": {},
          "output_type": "display_data"
        }
      ],
      "source": [
        "dataset = load_MNIST(version=\"regular\") # changer pour la dernière partie du TP\n",
        "# Définition des paramètres d'apprentissage du réseau (batch_size, epochs, learning_rate, optimiseur): utiliser ceux qui ont obtenu les meilleurs résultats lors du TP précédent\n",
        "dim = 28 * 28  # dimension des images MNIST\n",
        "N = len(dataset)\n",
        "N_train = int(N * 0.9)\n",
        "N_valid = N - N_train\n",
        "batch_size = 64 #= 128\n",
        "epochs = 20\n",
        "learning_rate = 1e-2 #= 1e-3\n",
        "OPTIM = \"ADAM\" # \"SGD\" \"ADAM\"\n",
        "Model_name = \"Mon_meilleur_MLP.pt\"\n",
        "\n",
        "############### POUR LES FEATURES PIXELS #############\n",
        "# il faut construire la valid et le train\n",
        "data = [x for x in dataset]\n",
        "train_dataset = data[:N_train]\n",
        "valid_dataset = data[N_train:N_train+N_valid]\n",
        "trainloader = torch.utils.data.DataLoader(train_dataset, batch_size=batch_size, shuffle=True, num_workers=1)\n",
        "validloader = torch.utils.data.DataLoader(valid_dataset, batch_size=batch_size, shuffle=True, num_workers=1)\n",
        "\n",
        "affichage(trainloader,\"Train :\")\n",
        "affichage(validloader,\"Valid :\")"
      ]
    },
    {
      "cell_type": "code",
      "execution_count": null,
      "metadata": {
        "colab": {
          "base_uri": "https://localhost:8080/"
        },
        "id": "CnYNG2oyf3tT",
        "outputId": "eb537299-f700-4304-b05b-d1379370a2d0"
      },
      "outputs": [
        {
          "name": "stderr",
          "output_type": "stream",
          "text": [
            "Training: 100%|██████████| 844/844 [00:09<00:00, 91.05it/s, train_loss=0.0238]\n",
            "Validation: 100%|██████████| 94/94 [00:01<00:00, 90.10it/s, valid_loss=4.66] \n",
            "Training: 100%|██████████| 844/844 [00:09<00:00, 91.36it/s, train_loss=0.0582] \n",
            "Validation: 100%|██████████| 94/94 [00:00<00:00, 107.18it/s, valid_loss=5.12]\n",
            "Training: 100%|██████████| 844/844 [00:06<00:00, 127.31it/s, train_loss=0.233]\n",
            "Validation: 100%|██████████| 94/94 [00:00<00:00, 151.20it/s, valid_loss=4.83]\n",
            "Training: 100%|██████████| 844/844 [00:06<00:00, 124.25it/s, train_loss=0.00484]\n",
            "Validation: 100%|██████████| 94/94 [00:00<00:00, 132.74it/s, valid_loss=5.05]\n",
            "Training: 100%|██████████| 844/844 [00:06<00:00, 138.23it/s, train_loss=0.0253]\n",
            "Validation: 100%|██████████| 94/94 [00:00<00:00, 175.38it/s, valid_loss=6.24]\n",
            "Training: 100%|██████████| 844/844 [00:06<00:00, 128.94it/s, train_loss=0.00441]\n",
            "Validation: 100%|██████████| 94/94 [00:00<00:00, 143.66it/s, valid_loss=6.47]\n",
            "Training: 100%|██████████| 844/844 [00:06<00:00, 139.62it/s, train_loss=5.65e-5]\n",
            "Validation: 100%|██████████| 94/94 [00:00<00:00, 150.09it/s, valid_loss=7.21]\n",
            "Training: 100%|██████████| 844/844 [00:10<00:00, 83.40it/s, train_loss=0.017] \n",
            "Validation: 100%|██████████| 94/94 [00:00<00:00, 153.24it/s, valid_loss=6.37]\n",
            "Training: 100%|██████████| 844/844 [00:05<00:00, 141.87it/s, train_loss=1.4e-5]\n",
            "Validation: 100%|██████████| 94/94 [00:00<00:00, 118.21it/s, valid_loss=7.47]\n",
            "Training: 100%|██████████| 844/844 [00:06<00:00, 128.22it/s, train_loss=0.00222]\n",
            "Validation: 100%|██████████| 94/94 [00:00<00:00, 156.28it/s, valid_loss=6.88]\n",
            "Training: 100%|██████████| 844/844 [00:07<00:00, 110.89it/s, train_loss=0.187]\n",
            "Validation: 100%|██████████| 94/94 [00:00<00:00, 102.57it/s, valid_loss=6.52]\n",
            "Training: 100%|██████████| 844/844 [00:07<00:00, 119.71it/s, train_loss=0.00609]\n",
            "Validation: 100%|██████████| 94/94 [00:00<00:00, 150.45it/s, valid_loss=9.79]\n",
            "Training: 100%|██████████| 844/844 [00:06<00:00, 124.85it/s, train_loss=0.0977]\n",
            "Validation: 100%|██████████| 94/94 [00:00<00:00, 150.90it/s, valid_loss=7.18]\n",
            "Training: 100%|██████████| 844/844 [00:07<00:00, 119.30it/s, train_loss=0.286]\n",
            "Validation: 100%|██████████| 94/94 [00:00<00:00, 157.70it/s, valid_loss=8.62]\n",
            "Training: 100%|██████████| 844/844 [00:07<00:00, 108.18it/s, train_loss=0.000199]\n",
            "Validation: 100%|██████████| 94/94 [00:00<00:00, 181.97it/s, valid_loss=9.97]\n",
            "Training: 100%|██████████| 844/844 [00:06<00:00, 126.66it/s, train_loss=0.000153]\n",
            "Validation: 100%|██████████| 94/94 [00:00<00:00, 118.97it/s, valid_loss=12.6]\n",
            "Training: 100%|██████████| 844/844 [00:06<00:00, 129.13it/s, train_loss=0.000749]\n",
            "Validation: 100%|██████████| 94/94 [00:00<00:00, 148.49it/s, valid_loss=11.3]\n",
            "Training: 100%|██████████| 844/844 [00:07<00:00, 114.56it/s, train_loss=1.24e-7]\n",
            "Validation: 100%|██████████| 94/94 [00:00<00:00, 149.64it/s, valid_loss=12.3]\n",
            "Training: 100%|██████████| 844/844 [00:06<00:00, 137.00it/s, train_loss=2.24e-8]\n",
            "Validation: 100%|██████████| 94/94 [00:00<00:00, 151.59it/s, valid_loss=11.9]\n",
            "Training: 100%|██████████| 844/844 [00:06<00:00, 128.59it/s, train_loss=6.43e-6]\n",
            "Validation: 100%|██████████| 94/94 [00:00<00:00, 150.12it/s, valid_loss=15.4]\n",
            "100%|██████████| 20/20 [02:36<00:00,  7.84s/it]"
          ]
        },
        {
          "name": "stdout",
          "output_type": "stream",
          "text": [
            "Apprentisage terminé.\n",
            "\n"
          ]
        },
        {
          "name": "stderr",
          "output_type": "stream",
          "text": [
            "\n"
          ]
        }
      ],
      "source": [
        "# Initialisation du writer de TensorBoard\n",
        "writer = SummaryWriter()\n",
        "\n",
        "#################  Instanciation du CNN #################\n",
        "my_CNN = CNN().to(device)\n",
        "\n",
        "batch_size = 64 #= 128\n",
        "epochs = 20\n",
        "learning_rate = 1e-2 #= 1e-3\n",
        "OPTIM = \"ADAM\" # \"SGD\" \"ADAM\"\n",
        "Model_name = \"Mon_meilleur_CNN.pt\"\n",
        "\n",
        "my_loss = nn.CrossEntropyLoss()\n",
        "if OPTIM == \"SGD\":\n",
        "    my_optimizer = torch.optim.SGD(my_CNN.parameters(), lr=learning_rate)\n",
        "elif OPTIM == \"ADAM\":\n",
        "    my_optimizer = torch.optim.Adam(my_CNN.parameters(), lr=learning_rate)\n",
        "else:\n",
        "    print(\"Optimiseur inconnu !!!!\")\n",
        "\n",
        "############      BOUCLES D'APPRENTISSAGE     ###########\n",
        "for t in tqdm(range(epochs)):\n",
        "    train_epoch_loss = train_loop(trainloader, my_CNN, my_loss, my_optimizer,device)\n",
        "    # On ajoute la loss moyenne d'entrainement de l'epoch aux logs Tensorboard:\n",
        "    writer.add_scalar('Loss/train', train_epoch_loss, t)\n",
        "\n",
        "    # on test à chaque itération\n",
        "    valid_epoch_loss = valid_loop(validloader, my_CNN, my_loss,device)\n",
        "    # On ajoute la loss moyenne de validation de l'epoch aux logs Tensorboard:\n",
        "    writer.add_scalar('Loss/valid', valid_epoch_loss, t)\n",
        "\n",
        "    if t == 0:\n",
        "        best_valid_loss = valid_epoch_loss\n",
        "    else:\n",
        "        if valid_epoch_loss < best_valid_loss:\n",
        "            best_valid_loss = valid_epoch_loss\n",
        "            print(f\"best validation loss : {best_valid_loss}\")\n",
        "\n",
        "            # on mémorise ce modèle\n",
        "            best_iter = t\n",
        "\n",
        "            torch.save(my_CNN.state_dict(), Model_name)\n",
        "\n",
        "print('Apprentisage terminé.\\n')"
      ]
    },
    {
      "cell_type": "code",
      "execution_count": null,
      "metadata": {
        "colab": {
          "base_uri": "https://localhost:8080/"
        },
        "id": "llsPP3hpquU7",
        "outputId": "addc6c6a-8a75-42be-c548-87effe2ba05f"
      },
      "outputs": [
        {
          "name": "stdout",
          "output_type": "stream",
          "text": [
            "Taux de reco en Test: 9835 / 10000\n",
            "Meilleure époque : 8\n",
            "Nombre de paramètres libres: 20490\n"
          ]
        }
      ],
      "source": [
        "############## on teste maintenaant les performances ################\n",
        "if dataset == 'regular':\n",
        "    test_dataset = MNIST(os.getcwd(), train = False, download=True, transform=transforms.ToTensor())\n",
        "elif dataset == 'fashion':\n",
        "    test_dataset = FashionMNIST(os.getcwd(), train = False, download=True, transform=transforms.ToTensor())\n",
        "\n",
        "N_test = len(test_dataset)\n",
        "\n",
        "testloader = torch.utils.data.DataLoader(test_dataset, batch_size=N_test, shuffle=False, num_workers=1)\n",
        "\n",
        "Positifs, Total, y_pred = perf_loop(testloader, my_CNN,device)\n",
        "print(\"Taux de reco en Test:\",Positifs,\"/\", Total)\n",
        "print(\"Meilleure époque :\",best_iter)\n",
        "\n",
        "nb_train_param = count_parameters(my_CNN)\n",
        "print(\"Nombre de paramètres libres:\",nb_train_param)\n",
        "\n",
        "# On ajoute à Tensorboard les performances obtenus pour la combinaison actuelle d'hyperparamètres:\n",
        "writer.add_hparams({'lr': learning_rate, 'bsize': batch_size}, {'hparam/accuracy': Positifs/Total, 'hparam/loss': best_valid_loss})\n",
        "writer.close()"
      ]
    },
    {
      "cell_type": "markdown",
      "metadata": {
        "id": "AFUGZafYvOgb"
      },
      "source": [
        "Réitérer cette partie avec la version FASHION de MNIST, en faisant varier l'architecture (nombre de couches, nombre de noyaux de convolution par couche, taille des noyaux, etc)."
      ]
    },
    {
      "cell_type": "code",
      "execution_count": null,
      "metadata": {
        "id": "xx1q2ugGu3jq"
      },
      "outputs": [],
      "source": [
        "# Éléments de visualisation supplémentaire avec Tensoboard\n",
        "my_CNN.to('cpu')\n",
        "images, labels = next(iter(trainloader))\n",
        "writer.add_graph(my_CNN, images)\n",
        "# on ajoute le graph de l'architecture du modèle à Tensorboard\n",
        "\n",
        "grid = torchvision.utils.make_grid(images)\n",
        "# On ajoute un échantillon des images du dataset à Tensorboard:\n",
        "writer.add_image('images', grid, 0)\n",
        "\n",
        "# Avec Tensorboard, il est également possible de visualiser des projection de données\n",
        "# Nous allons ici projeter 200 images aléatoires du jeu de test\n",
        "# Pour cela, nous allons récupérer pour chacune de ces images, l'activation obtenue au niveau de l'avant dernière couche du modèle\n",
        "\n",
        "# A décommenter si vous utilisez le code dans Colab:\n",
        "import tensorflow as tf\n",
        "import tensorboard as tb\n",
        "tf.io.gfile = tb.compat.tensorflow_stub.io.gfile\n",
        "\n",
        "if MNIST == 'fashion':\n",
        "  classes = ('T-shirt/top', 'Trouser', 'Pullover', 'Dress', 'Coat',\n",
        "        'Sandal', 'Shirt', 'Sneaker', 'Bag', 'Ankle Boot')\n",
        "else:\n",
        "  classes = list(range(10))\n",
        "\n",
        "def get_activation_sample(dataloader, model, device, nb_samples=200):\n",
        "  with torch.no_grad():\n",
        "    for X, y in dataloader:\n",
        "        X, y = X.to(device), y.to(device)\n",
        "        layer_activation = model.conv1(X.float())\n",
        "        layer_activation = model.conv2(layer_activation)\n",
        "        # Plutôt que d'utiliser la fonction forward appelée implicitement lorsqu'on fait \"model(X)\",\n",
        "        # on passe manuellement dans chaque couche et on s'arrête à l'avant-dernière couche.\n",
        "\n",
        "  return layer_activation[:nb_samples], y[:nb_samples], X[:nb_samples]\n",
        "\n",
        "samples, sample_labels, sample_images = get_activation_sample(testloader, my_CNN, 'cuda:0')\n",
        "sample_labels = [classes[lab] for lab in sample_labels]\n",
        "writer.add_embedding(samples, metadata=sample_labels, label_img=sample_images)"
      ]
    }
  ],
  "metadata": {
    "accelerator": "GPU",
    "colab": {
      "gpuType": "T4",
      "provenance": [],
      "toc_visible": true
    },
    "kernelspec": {
      "display_name": "Python 3",
      "name": "python3"
    },
    "language_info": {
      "codemirror_mode": {
        "name": "ipython",
        "version": 3
      },
      "file_extension": ".py",
      "mimetype": "text/x-python",
      "name": "python",
      "nbconvert_exporter": "python",
      "pygments_lexer": "ipython3",
      "version": "3.10.12"
    }
  },
  "nbformat": 4,
  "nbformat_minor": 0
}
