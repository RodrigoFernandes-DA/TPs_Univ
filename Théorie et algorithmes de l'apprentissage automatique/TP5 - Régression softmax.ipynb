{
 "cells": [
  {
   "cell_type": "code",
   "execution_count": 12,
   "metadata": {},
   "outputs": [],
   "source": [
    "import numpy as np\n",
    "import matplotlib.pyplot as plt\n",
    "from sklearn.datasets import load_digits\n",
    "import pandas as pd\n",
    "%matplotlib inline\n",
    "import scipy.sparse"
   ]
  },
  {
   "cell_type": "markdown",
   "metadata": {},
   "source": [
    "Le but de ce TP est d’implementer un coût softmax, pour pouvoir appliquer la régression logistique à des problèmes de classification multiclasse. Dans ce contexte, la modélisation de la probabilité d’appartenance à une classe est donnée par :\n",
    "\n",
    "$p(λ_k|x) = exp(x^t>w_k) / ∑^C_{j=1} exp(x^t>w_j )$\n",
    "\n",
    "où x ∈ $R^{(d+1)}$ (vecteur augmenté), C est le nombre de classes et $w_k$ ∈ $R^{(d+1)}$. On appelle cette fonction, la fonction softmax.\n",
    "\n",
    "En considérant que $y{i,j} = p(λ_j |x_i)$ est la ”vraie” probabilité d’appartenance à la classe $λ_j$ pour l’instance $x_i$, la fonction de coût s’écrit :\n",
    "\n",
    "$L(y_i, ŷ_i) = −∑^C_{j=1}y_{i,j}log(ŷ{i,j} )$\n",
    "\n",
    "où $ŷ{i,j}$ est modélisé par la fonction softmax ci-dessus.\n",
    "\n",
    "Vous allez implémenter dans ce TP, un modèle de régression softmax régularisé appris tel que :\n",
    "\n",
    "$min_W 1/n ∑^n_{i=1}L(yi, ŷi) + λ/2 ∑^C_{k=1}‖wk‖^2$\n",
    "\n",
    "où W est une matrice (d + 1) × C contenant l’ensemble des $w_k$, ∀k = 1..C"
   ]
  },
  {
   "cell_type": "markdown",
   "metadata": {
    "vscode": {
     "languageId": "plaintext"
    }
   },
   "source": [
    "1. Commencez par charger les données du dataset digits de Scikit-learn :"
   ]
  },
  {
   "cell_type": "code",
   "execution_count": 31,
   "metadata": {},
   "outputs": [],
   "source": [
    "n_class = 10\n",
    "X, y = load_digits(n_class=n_class , return_X_y=True)"
   ]
  },
  {
   "cell_type": "code",
   "execution_count": 32,
   "metadata": {},
   "outputs": [
    {
     "name": "stdout",
     "output_type": "stream",
     "text": [
      "(1797, 64)\n"
     ]
    }
   ],
   "source": [
    "print(np.shape(X))"
   ]
  },
  {
   "cell_type": "markdown",
   "metadata": {},
   "source": [
    "Donnez en quelques lignes une description de ces données et de la tâche sous-jacente. Précisez à quoi correspondent les caractéristiques\n",
    "\n",
    "Os dados representam uma matriz 8x8 com a imagem de de um digito numerico de 0 a 9. Os valores de X variam de 0 a 1 representando a escala de cinza do digito, sendo zero um espaço vazio e 1 um pixel onde ha um traço bem definido."
   ]
  },
  {
   "cell_type": "markdown",
   "metadata": {},
   "source": [
    "2. Implémentez les fonctions permettant :\n",
    "- de générer les encodages one-hot d’un ensemble de données à partir de leurs étiquettes.\n",
    "- d’évaluer une fonction softmax étant donné un z = x>w\n",
    "- d’estimer les ˆyi,j = p(λj |xi), ∀j = 1..C, ∀xi ∈ X et étant donné W."
   ]
  },
  {
   "cell_type": "code",
   "execution_count": 33,
   "metadata": {},
   "outputs": [],
   "source": [
    "def onehot_encoding(y, n_class):\n",
    "    n = y.shape[0]\n",
    "    y_one = np.zeros((n, n_class))\n",
    "    for i in range(n):\n",
    "        y_one[i, y[i]] = 1\n",
    "    return y_one\n",
    "\n",
    "def softmax(z):\n",
    "    z -= np.max(z) # computational trick for numerical stability\n",
    "    sm = np.exp(z)/np.sum(np.exp(z))\n",
    "    return sm\n",
    "\n",
    "def get_prob_pred(X, W):\n",
    "    z =  np.dot(X,W)\n",
    "    probs = softmax(z)\n",
    "    preds = np.argmax(probs)\n",
    "    return probs, preds"
   ]
  },
  {
   "cell_type": "code",
   "execution_count": 34,
   "metadata": {},
   "outputs": [
    {
     "name": "stdout",
     "output_type": "stream",
     "text": [
      "0\n"
     ]
    }
   ],
   "source": [
    "n, d = X.shape\n",
    "X_plus = np.concatenate((X, np.ones((n, 1))), axis =1)\n",
    "w = np.zeros([X_plus.shape[1],len(np.unique(y))])\n",
    "prob_test, preds = get_prob_pred(X_plus, w)\n",
    "print(preds)"
   ]
  },
  {
   "cell_type": "code",
   "execution_count": 35,
   "metadata": {},
   "outputs": [
    {
     "name": "stdout",
     "output_type": "stream",
     "text": [
      "(1797,)\n"
     ]
    }
   ],
   "source": [
    "ytest = onehot_encoding(y, n_class)\n",
    "print(np.shape(y))"
   ]
  },
  {
   "cell_type": "code",
   "execution_count": 36,
   "metadata": {},
   "outputs": [
    {
     "name": "stdout",
     "output_type": "stream",
     "text": [
      "(1797, 10)\n"
     ]
    }
   ],
   "source": [
    "print(np.shape(ytest))"
   ]
  },
  {
   "cell_type": "markdown",
   "metadata": {},
   "source": [
    "3. Calculez analytiquement l’expression du gradient de la fonction de coût par rapport à W."
   ]
  },
  {
   "cell_type": "markdown",
   "metadata": {},
   "source": []
  },
  {
   "cell_type": "markdown",
   "metadata": {},
   "source": [
    "4. Implémentez maintenant une fonction qui calcule la fonction de coût et le gradient."
   ]
  },
  {
   "cell_type": "code",
   "execution_count": 37,
   "metadata": {},
   "outputs": [],
   "source": [
    "def get_loss_grad(W, X, y, lam , n_class):\n",
    "    n = X.shape[0]\n",
    "    y_mat = onehot_encoding(y, n_class) # convert the integer class coding into a one-hot representation\n",
    "    scores = X @ W # compute raw class scores given our input and current weights\n",
    "    prob = softmax(scores) # perform a softmax on these scores to get their probabilities\n",
    "    loss = (-1 / n) * np.sum(y_mat * np.log(prob)) + (lam/2)*np.sum(w*w) \n",
    "    grad = (-1 / n) * np.dot(X.T,(y_mat - prob)) + lam*w \n",
    "    return loss , grad"
   ]
  },
  {
   "cell_type": "markdown",
   "metadata": {},
   "source": [
    "5. Implémentez une descente de gradient avec backtracking pour optimiser les paramètres W."
   ]
  },
  {
   "cell_type": "code",
   "execution_count": 49,
   "metadata": {},
   "outputs": [],
   "source": [
    "def logreg_descent(X, y, learning_rate =1e-3, max_iter =1000):\n",
    "    w = np.zeros([X.shape[1],len(np.unique(y))])\n",
    "    lam = 1\n",
    "    iterations = 10000\n",
    "    tol = 1e-3\n",
    "    learningRate = 1e-5\n",
    "    losses = []\n",
    "    for i in range(0,iterations):\n",
    "        loss,grad = get_loss_grad(w,X,y,lam,n_class)\n",
    "        losses.append(loss)\n",
    "\n",
    "         # Convergence seuil\n",
    "        if i > 0 and abs(losses[i] - losses[i-1]) < tol:\n",
    "            print(f\"Convergence at {i}th step\")\n",
    "            return loss, losses[:i+1] \n",
    "        \n",
    "        w = w - (learningRate * grad)\n",
    "\n",
    "    return loss, losses"
   ]
  },
  {
   "cell_type": "code",
   "execution_count": 50,
   "metadata": {},
   "outputs": [
    {
     "name": "stdout",
     "output_type": "stream",
     "text": [
      "13.762678194240944\n"
     ]
    }
   ],
   "source": [
    "w = np.zeros([X.shape[1],len(np.unique(y))])\n",
    "lam = 1\n",
    "iterations = 10000\n",
    "learningRate = 1e-5\n",
    "losses = []\n",
    "for i in range(0,iterations):\n",
    "    loss,grad = get_loss_grad(w,X,y,lam,n_class)\n",
    "    losses.append(loss)\n",
    "    w = w - (learningRate * grad)\n",
    "print(loss)"
   ]
  },
  {
   "cell_type": "markdown",
   "metadata": {},
   "source": [
    "6. Visualisez l’évolution de la fonction de coût en fonction du nombre d’itérations et analysez ce que vous observez."
   ]
  },
  {
   "cell_type": "code",
   "execution_count": 51,
   "metadata": {},
   "outputs": [
    {
     "data": {
      "image/png": "[encoded data removed]",
      "text/plain": [
       "<Figure size 800x300 with 1 Axes>"
      ]
     },
     "metadata": {},
     "output_type": "display_data"
    }
   ],
   "source": [
    "plt.figure(figsize=(8, 3))\n",
    "plt.plot(range(len(losses)), losses, color=\"red\", linewidth=2)\n",
    "plt.title(\"L'évolution du coût au fil de l'apprentissage\")\n",
    "plt.xlabel(\"Iteration\")\n",
    "plt.ylabel(\"Cost\")\n",
    "plt.grid(True)\n",
    "plt.show()"
   ]
  },
  {
   "cell_type": "markdown",
   "metadata": {},
   "source": [
    "7. Proposez un protocole d’évaluation de votre méthode et commentez les résultats obtenus."
   ]
  },
  {
   "cell_type": "code",
   "execution_count": 43,
   "metadata": {},
   "outputs": [
    {
     "name": "stdout",
     "output_type": "stream",
     "text": [
      "Training Accuracy:  0.0\n"
     ]
    }
   ],
   "source": [
    "def getAccuracy(X,Y):\n",
    "    prob,prede = get_prob_pred(X,w)\n",
    "    accuracy = sum(prede == Y)/(float(len(Y)))\n",
    "    return accuracy\n",
    "\n",
    "print('Training Accuracy: ', getAccuracy(X,y))\n",
    "# print('Test Accuracy: ', getAccuracy(testX,testY))\n",
    "\n"
   ]
  }
 ],
 "metadata": {
  "kernelspec": {
   "display_name": "Python 3",
   "language": "python",
   "name": "python3"
  },
  "language_info": {
   "codemirror_mode": {
    "name": "ipython",
    "version": 3
   },
   "file_extension": ".py",
   "mimetype": "text/x-python",
   "name": "python",
   "nbconvert_exporter": "python",
   "pygments_lexer": "ipython3",
   "version": "3.10.12"
  }
 },
 "nbformat": 4,
 "nbformat_minor": 2
}
